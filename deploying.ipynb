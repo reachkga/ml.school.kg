{
 "cells": [
  {
   "cell_type": "markdown",
   "id": "07b05bbd-89f7-4470-bb29-061709f6def5",
   "metadata": {},
   "source": [
    "### Using the SageMaker TensorFlow Serving Container\n",
    "\n",
    "[Documentation](https://sagemaker-examples.readthedocs.io/en/latest/sagemaker-python-sdk/tensorflow_serving_container/tensorflow_serving_container.html)\n",
    "\n",
    "Pueden utilizar esta vía para hacerle deploy a cualquier modelo independientemente de dónde lo entrenaron."
   ]
  },
  {
   "cell_type": "code",
   "execution_count": 1,
   "id": "4d836c3c-8e1b-4cfb-a66e-7393a8e17c15",
   "metadata": {},
   "outputs": [
    {
     "name": "stderr",
     "output_type": "stream",
     "text": [
      "2023-02-07 15:38:57.176661: I tensorflow/core/platform/cpu_feature_guard.cc:193] This TensorFlow binary is optimized with oneAPI Deep Neural Network Library (oneDNN) to use the following CPU instructions in performance-critical operations:  AVX2 AVX512F FMA\n",
      "To enable them in other operations, rebuild TensorFlow with the appropriate compiler flags.\n",
      "2023-02-07 15:39:10.541524: E tensorflow/stream_executor/cuda/cuda_blas.cc:2981] Unable to register cuBLAS factory: Attempting to register factory for plugin cuBLAS when one has already been registered\n"
     ]
    }
   ],
   "source": [
    "import os\n",
    "import boto3\n",
    "import sagemaker\n",
    "import tarfile\n",
    "import numpy as np\n",
    "import cv2\n",
    "\n",
    "from sagemaker.tensorflow import TensorFlow\n",
    "from sagemaker.tensorflow.model import TensorFlowModel\n",
    "from sagemaker.tensorflow.model import TensorFlowPredictor\n",
    "from sagemaker.session import Session\n",
    "\n",
    "from tensorflow.keras.datasets import mnist\n",
    "from utils import to_tensor\n",
    "\n",
    "sagemaker_role = sagemaker.get_execution_role()\n",
    "session = Session()"
   ]
  },
  {
   "cell_type": "markdown",
   "id": "ae2d4486-c4be-463b-93ea-9b3ece20809f",
   "metadata": {},
   "source": [
    "Vamos a descargar el model que entrenamos en SageMaker para modificar la estructura de directorios con la que se creó y subirlo nuevamente a S3."
   ]
  },
  {
   "cell_type": "code",
   "execution_count": 2,
   "id": "75d3473f-18b6-449f-9dac-2d1db5c06ae3",
   "metadata": {},
   "outputs": [
    {
     "name": "stdout",
     "output_type": "stream",
     "text": [
      "rm: cannot remove ‘./model’: No such file or directory\n",
      "variables/\n",
      "variables/variables.index\n",
      "variables/variables.data-00000-of-00001\n",
      "assets/\n",
      "saved_model.pb\n",
      "./model/\n",
      "./model/0001/\n",
      "./model/0001/variables/\n",
      "./model/0001/variables/variables.index\n",
      "./model/0001/variables/variables.data-00000-of-00001\n",
      "./model/0001/saved_model.pb\n",
      "./model/0001/assets/\n",
      "Model uploaded to: s3://sagemaker-us-east-1-720148074160/model/model.tar.gz\n"
     ]
    }
   ],
   "source": [
    "BUCKET = \"sagemaker-us-east-1-720148074160\"\n",
    "TRAINED_MODEL_PATH = \"sample-training-2023-02-01-14-32-59-634/output/model.tar.gz\"\n",
    "\n",
    "!rm -r ./model\n",
    "!mkdir -p ./model\n",
    "\n",
    "s3 = boto3.resource('s3')\n",
    "s3.Bucket(BUCKET).download_file(TRAINED_MODEL_PATH, \"model/model.tar.gz\")\n",
    "\n",
    "!tar -xvzf ./model/model.tar.gz --directory ./model/\n",
    "!rm ./model/model.tar.gz\n",
    "!mkdir -p ./model/0001\n",
    "!mv ./model/assets ./model/0001/\n",
    "!mv ./model/variables ./model/0001/\n",
    "!mv ./model/*.pb ./model/0001/\n",
    "\n",
    "!tar -czvf model.tar.gz ./model/\n",
    "!rm -r ./model\n",
    "\n",
    "model_data = session.upload_data(\n",
    "    path=\"model.tar.gz\", \n",
    "    key_prefix=\"model\"\n",
    ")\n",
    "print(f\"Model uploaded to: {model_data}\")"
   ]
  },
  {
   "cell_type": "markdown",
   "id": "28b3ae9b-d916-419b-a35d-a09e50e34d26",
   "metadata": {},
   "source": [
    "Deploy the model"
   ]
  },
  {
   "cell_type": "code",
   "execution_count": 3,
   "id": "7bc008b7-b4ea-430d-8e1b-465b93ba474b",
   "metadata": {},
   "outputs": [
    {
     "name": "stderr",
     "output_type": "stream",
     "text": [
      "update_endpoint is a no-op in sagemaker>=2.\n",
      "See: https://sagemaker.readthedocs.io/en/stable/v2.html for details.\n"
     ]
    },
    {
     "name": "stdout",
     "output_type": "stream",
     "text": [
      "----!"
     ]
    }
   ],
   "source": [
    "model = TensorFlowModel(\n",
    "    model_data=model_data, \n",
    "    role=sagemaker_role, \n",
    "    framework_version=\"2.4\"\n",
    ")\n",
    "\n",
    "predictor = model.deploy(initial_instance_count=1, instance_type=\"ml.c5.xlarge\")"
   ]
  },
  {
   "cell_type": "code",
   "execution_count": 4,
   "id": "35e27b43-d1c7-4199-bfab-5a984815cfda",
   "metadata": {},
   "outputs": [
    {
     "name": "stdout",
     "output_type": "stream",
     "text": [
      "7.png ---> 7\n",
      "1.png ---> 1\n",
      "2.png ---> 2\n"
     ]
    }
   ],
   "source": [
    "for image_path in os.listdir(\"./images\"):\n",
    "    if image_path.endswith(\".png\"):\n",
    "\n",
    "        # Pre\n",
    "        image = to_tensor(os.path.join(\"./images\", image_path))\n",
    "        \n",
    "        # Prediction\n",
    "        result = predictor.predict(image)\n",
    "        \n",
    "        # Post\n",
    "        prediction = np.argmax(result[\"predictions\"])\n",
    "        print(f\"{image_path} ---> {prediction}\")\n",
    "        "
   ]
  },
  {
   "cell_type": "code",
   "execution_count": 5,
   "id": "8278ca94-0783-4ae2-8a35-781376eb2436",
   "metadata": {},
   "outputs": [],
   "source": [
    "predictor.delete_endpoint()"
   ]
  },
  {
   "cell_type": "code",
   "execution_count": null,
   "id": "25e2440d-7084-4f5b-9a17-016de95866d4",
   "metadata": {},
   "outputs": [],
   "source": []
  }
 ],
 "metadata": {
  "kernelspec": {
   "display_name": "conda_tensorflow2_p310",
   "language": "python",
   "name": "conda_tensorflow2_p310"
  },
  "language_info": {
   "codemirror_mode": {
    "name": "ipython",
    "version": 3
   },
   "file_extension": ".py",
   "mimetype": "text/x-python",
   "name": "python",
   "nbconvert_exporter": "python",
   "pygments_lexer": "ipython3",
   "version": "3.10.6"
  }
 },
 "nbformat": 4,
 "nbformat_minor": 5
}
