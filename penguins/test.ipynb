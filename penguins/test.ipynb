{
 "cells": [
  {
   "cell_type": "markdown",
   "id": "8db69d0c-562e-4276-a0d6-93f799402e95",
   "metadata": {},
   "source": [
    "# Testing The Pipeline Locally\n",
    "\n",
    "This notebook runs the individual steps of the pipeline locally. It's crucial you have a way to do this to reduce the feedback time.\n",
    "\n"
   ]
  },
  {
   "cell_type": "code",
   "execution_count": 7,
   "id": "301054a2-8886-45e2-be66-087463ab699f",
   "metadata": {
    "tags": []
   },
   "outputs": [],
   "source": [
    "%load_ext autoreload\n",
    "%autoreload 2"
   ]
  },
  {
   "cell_type": "code",
   "execution_count": 2,
   "id": "1ff52eaf-cc72-446f-a4e7-1d44e10792c9",
   "metadata": {
    "tags": []
   },
   "outputs": [],
   "source": [
    "from pathlib import Path\n",
    "\n",
    "from preprocessor import preprocess\n",
    "from train import train\n",
    "from evaluation import evaluate"
   ]
  },
  {
   "cell_type": "markdown",
   "id": "ddfe2d37-df3f-48e1-877c-2304a460a30d",
   "metadata": {},
   "source": [
    "## Step 1 - Create Temporal Directory\n",
    "\n",
    "We will use this local directory to store the output of every step."
   ]
  },
  {
   "cell_type": "code",
   "execution_count": 3,
   "id": "723f15a1-32bd-4a67-8e64-b70ddcb59e9b",
   "metadata": {
    "tags": []
   },
   "outputs": [],
   "source": [
    "!mkdir temp/"
   ]
  },
  {
   "cell_type": "markdown",
   "id": "a35d9b02-03fe-4ec2-adcf-6384f40d7205",
   "metadata": {},
   "source": [
    "## Step 2 - Run the Preprocessing Step"
   ]
  },
  {
   "cell_type": "code",
   "execution_count": 4,
   "id": "c4e48487-03bb-429c-8305-207fd9df709f",
   "metadata": {
    "tags": []
   },
   "outputs": [],
   "source": [
    "preprocess(\n",
    "    base_dir=\"temp\", \n",
    "    data_filepath=\"data.csv\"\n",
    ")"
   ]
  },
  {
   "cell_type": "markdown",
   "id": "ad8b007e-41e8-4891-bea3-ba4d0c9039fc",
   "metadata": {},
   "source": [
    "## Step 3 - Train the Model"
   ]
  },
  {
   "cell_type": "code",
   "execution_count": 77,
   "id": "8d64895d-c932-40ea-b098-75aba5689977",
   "metadata": {},
   "outputs": [
    {
     "name": "stdout",
     "output_type": "stream",
     "text": [
      "Epoch 1/50\n",
      "8/8 - 1s - loss: 1.2645 - accuracy: 0.1799 - val_loss: 1.1683 - val_accuracy: 0.1373\n",
      "Epoch 2/50\n",
      "8/8 - 0s - loss: 1.1609 - accuracy: 0.1632 - val_loss: 1.1263 - val_accuracy: 0.1765\n",
      "Epoch 3/50\n",
      "8/8 - 0s - loss: 1.0928 - accuracy: 0.1925 - val_loss: 1.0943 - val_accuracy: 0.4314\n",
      "Epoch 4/50\n",
      "8/8 - 0s - loss: 1.0394 - accuracy: 0.4854 - val_loss: 1.0696 - val_accuracy: 0.5490\n",
      "Epoch 5/50\n",
      "8/8 - 0s - loss: 0.9960 - accuracy: 0.6778 - val_loss: 1.0484 - val_accuracy: 0.6275\n",
      "Epoch 6/50\n",
      "8/8 - 0s - loss: 0.9591 - accuracy: 0.7155 - val_loss: 1.0286 - val_accuracy: 0.6667\n",
      "Epoch 7/50\n",
      "8/8 - 0s - loss: 0.9258 - accuracy: 0.7531 - val_loss: 1.0106 - val_accuracy: 0.6471\n",
      "Epoch 8/50\n",
      "8/8 - 0s - loss: 0.8943 - accuracy: 0.7615 - val_loss: 0.9924 - val_accuracy: 0.6275\n",
      "Epoch 9/50\n",
      "8/8 - 0s - loss: 0.8646 - accuracy: 0.7573 - val_loss: 0.9742 - val_accuracy: 0.6275\n",
      "Epoch 10/50\n",
      "8/8 - 0s - loss: 0.8364 - accuracy: 0.7741 - val_loss: 0.9561 - val_accuracy: 0.6667\n",
      "Epoch 11/50\n",
      "8/8 - 0s - loss: 0.8108 - accuracy: 0.7741 - val_loss: 0.9370 - val_accuracy: 0.6863\n",
      "Epoch 12/50\n",
      "8/8 - 0s - loss: 0.7860 - accuracy: 0.7782 - val_loss: 0.9188 - val_accuracy: 0.7059\n",
      "Epoch 13/50\n",
      "8/8 - 0s - loss: 0.7627 - accuracy: 0.7866 - val_loss: 0.9003 - val_accuracy: 0.7059\n",
      "Epoch 14/50\n",
      "8/8 - 0s - loss: 0.7399 - accuracy: 0.7950 - val_loss: 0.8820 - val_accuracy: 0.7059\n",
      "Epoch 15/50\n",
      "8/8 - 0s - loss: 0.7185 - accuracy: 0.7950 - val_loss: 0.8629 - val_accuracy: 0.7255\n",
      "Epoch 16/50\n",
      "8/8 - 0s - loss: 0.6976 - accuracy: 0.7992 - val_loss: 0.8448 - val_accuracy: 0.7451\n",
      "Epoch 17/50\n",
      "8/8 - 0s - loss: 0.6775 - accuracy: 0.7992 - val_loss: 0.8261 - val_accuracy: 0.7451\n",
      "Epoch 18/50\n",
      "8/8 - 0s - loss: 0.6582 - accuracy: 0.8033 - val_loss: 0.8074 - val_accuracy: 0.7451\n",
      "Epoch 19/50\n",
      "8/8 - 0s - loss: 0.6399 - accuracy: 0.8033 - val_loss: 0.7892 - val_accuracy: 0.7451\n",
      "Epoch 20/50\n",
      "8/8 - 0s - loss: 0.6224 - accuracy: 0.8075 - val_loss: 0.7718 - val_accuracy: 0.7451\n",
      "Epoch 21/50\n",
      "8/8 - 0s - loss: 0.6059 - accuracy: 0.8117 - val_loss: 0.7539 - val_accuracy: 0.7451\n",
      "Epoch 22/50\n",
      "8/8 - 0s - loss: 0.5895 - accuracy: 0.8117 - val_loss: 0.7363 - val_accuracy: 0.7451\n",
      "Epoch 23/50\n",
      "8/8 - 0s - loss: 0.5740 - accuracy: 0.8117 - val_loss: 0.7203 - val_accuracy: 0.7451\n",
      "Epoch 24/50\n",
      "8/8 - 0s - loss: 0.5588 - accuracy: 0.8117 - val_loss: 0.7036 - val_accuracy: 0.7451\n",
      "Epoch 25/50\n",
      "8/8 - 0s - loss: 0.5443 - accuracy: 0.8117 - val_loss: 0.6868 - val_accuracy: 0.7451\n",
      "Epoch 26/50\n",
      "8/8 - 0s - loss: 0.5302 - accuracy: 0.8159 - val_loss: 0.6710 - val_accuracy: 0.7451\n",
      "Epoch 27/50\n",
      "8/8 - 0s - loss: 0.5166 - accuracy: 0.8201 - val_loss: 0.6546 - val_accuracy: 0.7647\n",
      "Epoch 28/50\n",
      "8/8 - 0s - loss: 0.5033 - accuracy: 0.8243 - val_loss: 0.6388 - val_accuracy: 0.7843\n",
      "Epoch 29/50\n",
      "8/8 - 0s - loss: 0.4902 - accuracy: 0.8326 - val_loss: 0.6232 - val_accuracy: 0.7843\n",
      "Epoch 30/50\n",
      "8/8 - 0s - loss: 0.4775 - accuracy: 0.8452 - val_loss: 0.6089 - val_accuracy: 0.8039\n",
      "Epoch 31/50\n",
      "8/8 - 0s - loss: 0.4654 - accuracy: 0.8536 - val_loss: 0.5933 - val_accuracy: 0.8039\n",
      "Epoch 32/50\n",
      "8/8 - 0s - loss: 0.4531 - accuracy: 0.8536 - val_loss: 0.5787 - val_accuracy: 0.8039\n",
      "Epoch 33/50\n",
      "8/8 - 0s - loss: 0.4414 - accuracy: 0.8577 - val_loss: 0.5644 - val_accuracy: 0.8235\n",
      "Epoch 34/50\n",
      "8/8 - 0s - loss: 0.4296 - accuracy: 0.8577 - val_loss: 0.5501 - val_accuracy: 0.8235\n",
      "Epoch 35/50\n",
      "8/8 - 0s - loss: 0.4183 - accuracy: 0.8577 - val_loss: 0.5364 - val_accuracy: 0.8235\n",
      "Epoch 36/50\n",
      "8/8 - 0s - loss: 0.4071 - accuracy: 0.8703 - val_loss: 0.5231 - val_accuracy: 0.8627\n",
      "Epoch 37/50\n",
      "8/8 - 0s - loss: 0.3966 - accuracy: 0.8703 - val_loss: 0.5102 - val_accuracy: 0.8627\n",
      "Epoch 38/50\n",
      "8/8 - 0s - loss: 0.3860 - accuracy: 0.8745 - val_loss: 0.4975 - val_accuracy: 0.8627\n",
      "Epoch 39/50\n",
      "8/8 - 0s - loss: 0.3755 - accuracy: 0.8828 - val_loss: 0.4853 - val_accuracy: 0.8824\n",
      "Epoch 40/50\n",
      "8/8 - 0s - loss: 0.3652 - accuracy: 0.8870 - val_loss: 0.4731 - val_accuracy: 0.9020\n",
      "Epoch 41/50\n",
      "8/8 - 0s - loss: 0.3551 - accuracy: 0.8912 - val_loss: 0.4610 - val_accuracy: 0.9020\n",
      "Epoch 42/50\n",
      "8/8 - 0s - loss: 0.3452 - accuracy: 0.8996 - val_loss: 0.4495 - val_accuracy: 0.9020\n",
      "Epoch 43/50\n",
      "8/8 - 0s - loss: 0.3354 - accuracy: 0.9079 - val_loss: 0.4376 - val_accuracy: 0.9020\n",
      "Epoch 44/50\n",
      "8/8 - 0s - loss: 0.3257 - accuracy: 0.9121 - val_loss: 0.4264 - val_accuracy: 0.9020\n",
      "Epoch 45/50\n",
      "8/8 - 0s - loss: 0.3161 - accuracy: 0.9163 - val_loss: 0.4150 - val_accuracy: 0.9020\n",
      "Epoch 46/50\n",
      "8/8 - 0s - loss: 0.3069 - accuracy: 0.9163 - val_loss: 0.4041 - val_accuracy: 0.9020\n",
      "Epoch 47/50\n",
      "8/8 - 0s - loss: 0.2980 - accuracy: 0.9205 - val_loss: 0.3939 - val_accuracy: 0.9020\n",
      "Epoch 48/50\n",
      "8/8 - 0s - loss: 0.2893 - accuracy: 0.9205 - val_loss: 0.3837 - val_accuracy: 0.8824\n",
      "Epoch 49/50\n",
      "8/8 - 0s - loss: 0.2806 - accuracy: 0.9205 - val_loss: 0.3732 - val_accuracy: 0.8824\n",
      "Epoch 50/50\n",
      "8/8 - 0s - loss: 0.2716 - accuracy: 0.9205 - val_loss: 0.3635 - val_accuracy: 0.8824\n",
      "Validation accuracy: 0.8823529411764706\n",
      "INFO:tensorflow:Assets written to: temp/model/001/assets\n"
     ]
    },
    {
     "name": "stderr",
     "output_type": "stream",
     "text": [
      "INFO:tensorflow:Assets written to: temp/model/001/assets\n"
     ]
    }
   ],
   "source": [
    "train(\n",
    "    base_directory=\"temp\", \n",
    "    train_path=\"temp/train/\", \n",
    "    validation_path=\"temp/validation/\",\n",
    "    epochs=50\n",
    ")"
   ]
  },
  {
   "cell_type": "markdown",
   "id": "87db4432-0d24-4c66-8736-ccac700a9972",
   "metadata": {},
   "source": [
    "## Step 4 - Prepare the Model Package"
   ]
  },
  {
   "cell_type": "code",
   "execution_count": 78,
   "id": "e35b14e3-32cf-4a4f-a126-5f24b463e648",
   "metadata": {
    "tags": []
   },
   "outputs": [
    {
     "name": "stdout",
     "output_type": "stream",
     "text": [
      "001/\n",
      "001/keras_metadata.pb\n",
      "001/variables/\n",
      "001/variables/variables.data-00000-of-00001\n",
      "001/variables/variables.index\n",
      "001/saved_model.pb\n",
      "001/assets/\n"
     ]
    }
   ],
   "source": [
    "!tar -czvf temp/model.tar.gz --directory=temp/model 001\n",
    "!rm -rf temp/model"
   ]
  },
  {
   "cell_type": "markdown",
   "id": "d953a901-0905-410c-91ac-05f477fd4a3d",
   "metadata": {},
   "source": [
    "## Step 5 - Evaluate the Model"
   ]
  },
  {
   "cell_type": "code",
   "execution_count": 79,
   "id": "ddfa0f7d-9068-4d02-b4af-482db53b4cca",
   "metadata": {
    "tags": []
   },
   "outputs": [
    {
     "name": "stdout",
     "output_type": "stream",
     "text": [
      "model_path ['test', 'train', '001', 'model.tar.gz', 'validation']\n",
      "Test accuracy: 0.9411764705882353\n"
     ]
    }
   ],
   "source": [
    "evaluate(\n",
    "    model_path=\"temp\", \n",
    "    test_path=\"temp/test\", \n",
    "    output_path=\"temp/evaluation\"\n",
    ")"
   ]
  },
  {
   "cell_type": "markdown",
   "id": "21fd3df2-74c1-4706-9943-f463949c10f9",
   "metadata": {},
   "source": [
    "## Step 6 - Clean up"
   ]
  },
  {
   "cell_type": "code",
   "execution_count": 80,
   "id": "fcd18017-1427-42a3-bf8f-f5ff5e0b01df",
   "metadata": {},
   "outputs": [],
   "source": [
    "!rm -rf temp"
   ]
  },
  {
   "cell_type": "code",
   "execution_count": null,
   "id": "f8634133-c76e-4245-8b80-83c0e4e4eb21",
   "metadata": {},
   "outputs": [],
   "source": []
  }
 ],
 "metadata": {
  "availableInstances": [
   {
    "_defaultOrder": 0,
    "_isFastLaunch": true,
    "category": "General purpose",
    "gpuNum": 0,
    "memoryGiB": 4,
    "name": "ml.t3.medium",
    "vcpuNum": 2
   },
   {
    "_defaultOrder": 1,
    "_isFastLaunch": false,
    "category": "General purpose",
    "gpuNum": 0,
    "memoryGiB": 8,
    "name": "ml.t3.large",
    "vcpuNum": 2
   },
   {
    "_defaultOrder": 2,
    "_isFastLaunch": false,
    "category": "General purpose",
    "gpuNum": 0,
    "memoryGiB": 16,
    "name": "ml.t3.xlarge",
    "vcpuNum": 4
   },
   {
    "_defaultOrder": 3,
    "_isFastLaunch": false,
    "category": "General purpose",
    "gpuNum": 0,
    "memoryGiB": 32,
    "name": "ml.t3.2xlarge",
    "vcpuNum": 8
   },
   {
    "_defaultOrder": 4,
    "_isFastLaunch": true,
    "category": "General purpose",
    "gpuNum": 0,
    "memoryGiB": 8,
    "name": "ml.m5.large",
    "vcpuNum": 2
   },
   {
    "_defaultOrder": 5,
    "_isFastLaunch": false,
    "category": "General purpose",
    "gpuNum": 0,
    "memoryGiB": 16,
    "name": "ml.m5.xlarge",
    "vcpuNum": 4
   },
   {
    "_defaultOrder": 6,
    "_isFastLaunch": false,
    "category": "General purpose",
    "gpuNum": 0,
    "memoryGiB": 32,
    "name": "ml.m5.2xlarge",
    "vcpuNum": 8
   },
   {
    "_defaultOrder": 7,
    "_isFastLaunch": false,
    "category": "General purpose",
    "gpuNum": 0,
    "memoryGiB": 64,
    "name": "ml.m5.4xlarge",
    "vcpuNum": 16
   },
   {
    "_defaultOrder": 8,
    "_isFastLaunch": false,
    "category": "General purpose",
    "gpuNum": 0,
    "memoryGiB": 128,
    "name": "ml.m5.8xlarge",
    "vcpuNum": 32
   },
   {
    "_defaultOrder": 9,
    "_isFastLaunch": false,
    "category": "General purpose",
    "gpuNum": 0,
    "memoryGiB": 192,
    "name": "ml.m5.12xlarge",
    "vcpuNum": 48
   },
   {
    "_defaultOrder": 10,
    "_isFastLaunch": false,
    "category": "General purpose",
    "gpuNum": 0,
    "memoryGiB": 256,
    "name": "ml.m5.16xlarge",
    "vcpuNum": 64
   },
   {
    "_defaultOrder": 11,
    "_isFastLaunch": false,
    "category": "General purpose",
    "gpuNum": 0,
    "memoryGiB": 384,
    "name": "ml.m5.24xlarge",
    "vcpuNum": 96
   },
   {
    "_defaultOrder": 12,
    "_isFastLaunch": false,
    "category": "General purpose",
    "gpuNum": 0,
    "memoryGiB": 8,
    "name": "ml.m5d.large",
    "vcpuNum": 2
   },
   {
    "_defaultOrder": 13,
    "_isFastLaunch": false,
    "category": "General purpose",
    "gpuNum": 0,
    "memoryGiB": 16,
    "name": "ml.m5d.xlarge",
    "vcpuNum": 4
   },
   {
    "_defaultOrder": 14,
    "_isFastLaunch": false,
    "category": "General purpose",
    "gpuNum": 0,
    "memoryGiB": 32,
    "name": "ml.m5d.2xlarge",
    "vcpuNum": 8
   },
   {
    "_defaultOrder": 15,
    "_isFastLaunch": false,
    "category": "General purpose",
    "gpuNum": 0,
    "memoryGiB": 64,
    "name": "ml.m5d.4xlarge",
    "vcpuNum": 16
   },
   {
    "_defaultOrder": 16,
    "_isFastLaunch": false,
    "category": "General purpose",
    "gpuNum": 0,
    "memoryGiB": 128,
    "name": "ml.m5d.8xlarge",
    "vcpuNum": 32
   },
   {
    "_defaultOrder": 17,
    "_isFastLaunch": false,
    "category": "General purpose",
    "gpuNum": 0,
    "memoryGiB": 192,
    "name": "ml.m5d.12xlarge",
    "vcpuNum": 48
   },
   {
    "_defaultOrder": 18,
    "_isFastLaunch": false,
    "category": "General purpose",
    "gpuNum": 0,
    "memoryGiB": 256,
    "name": "ml.m5d.16xlarge",
    "vcpuNum": 64
   },
   {
    "_defaultOrder": 19,
    "_isFastLaunch": false,
    "category": "General purpose",
    "gpuNum": 0,
    "memoryGiB": 384,
    "name": "ml.m5d.24xlarge",
    "vcpuNum": 96
   },
   {
    "_defaultOrder": 20,
    "_isFastLaunch": true,
    "category": "Compute optimized",
    "gpuNum": 0,
    "memoryGiB": 4,
    "name": "ml.c5.large",
    "vcpuNum": 2
   },
   {
    "_defaultOrder": 21,
    "_isFastLaunch": false,
    "category": "Compute optimized",
    "gpuNum": 0,
    "memoryGiB": 8,
    "name": "ml.c5.xlarge",
    "vcpuNum": 4
   },
   {
    "_defaultOrder": 22,
    "_isFastLaunch": false,
    "category": "Compute optimized",
    "gpuNum": 0,
    "memoryGiB": 16,
    "name": "ml.c5.2xlarge",
    "vcpuNum": 8
   },
   {
    "_defaultOrder": 23,
    "_isFastLaunch": false,
    "category": "Compute optimized",
    "gpuNum": 0,
    "memoryGiB": 32,
    "name": "ml.c5.4xlarge",
    "vcpuNum": 16
   },
   {
    "_defaultOrder": 24,
    "_isFastLaunch": false,
    "category": "Compute optimized",
    "gpuNum": 0,
    "memoryGiB": 72,
    "name": "ml.c5.9xlarge",
    "vcpuNum": 36
   },
   {
    "_defaultOrder": 25,
    "_isFastLaunch": false,
    "category": "Compute optimized",
    "gpuNum": 0,
    "memoryGiB": 96,
    "name": "ml.c5.12xlarge",
    "vcpuNum": 48
   },
   {
    "_defaultOrder": 26,
    "_isFastLaunch": false,
    "category": "Compute optimized",
    "gpuNum": 0,
    "memoryGiB": 144,
    "name": "ml.c5.18xlarge",
    "vcpuNum": 72
   },
   {
    "_defaultOrder": 27,
    "_isFastLaunch": false,
    "category": "Compute optimized",
    "gpuNum": 0,
    "memoryGiB": 192,
    "name": "ml.c5.24xlarge",
    "vcpuNum": 96
   },
   {
    "_defaultOrder": 28,
    "_isFastLaunch": true,
    "category": "Accelerated computing",
    "gpuNum": 1,
    "memoryGiB": 16,
    "name": "ml.g4dn.xlarge",
    "vcpuNum": 4
   },
   {
    "_defaultOrder": 29,
    "_isFastLaunch": false,
    "category": "Accelerated computing",
    "gpuNum": 1,
    "memoryGiB": 32,
    "name": "ml.g4dn.2xlarge",
    "vcpuNum": 8
   },
   {
    "_defaultOrder": 30,
    "_isFastLaunch": false,
    "category": "Accelerated computing",
    "gpuNum": 1,
    "memoryGiB": 64,
    "name": "ml.g4dn.4xlarge",
    "vcpuNum": 16
   },
   {
    "_defaultOrder": 31,
    "_isFastLaunch": false,
    "category": "Accelerated computing",
    "gpuNum": 1,
    "memoryGiB": 128,
    "name": "ml.g4dn.8xlarge",
    "vcpuNum": 32
   },
   {
    "_defaultOrder": 32,
    "_isFastLaunch": false,
    "category": "Accelerated computing",
    "gpuNum": 4,
    "memoryGiB": 192,
    "name": "ml.g4dn.12xlarge",
    "vcpuNum": 48
   },
   {
    "_defaultOrder": 33,
    "_isFastLaunch": false,
    "category": "Accelerated computing",
    "gpuNum": 1,
    "memoryGiB": 256,
    "name": "ml.g4dn.16xlarge",
    "vcpuNum": 64
   },
   {
    "_defaultOrder": 34,
    "_isFastLaunch": false,
    "category": "Accelerated computing",
    "gpuNum": 1,
    "memoryGiB": 61,
    "name": "ml.p3.2xlarge",
    "vcpuNum": 8
   },
   {
    "_defaultOrder": 35,
    "_isFastLaunch": false,
    "category": "Accelerated computing",
    "gpuNum": 4,
    "memoryGiB": 244,
    "name": "ml.p3.8xlarge",
    "vcpuNum": 32
   },
   {
    "_defaultOrder": 36,
    "_isFastLaunch": false,
    "category": "Accelerated computing",
    "gpuNum": 8,
    "memoryGiB": 488,
    "name": "ml.p3.16xlarge",
    "vcpuNum": 64
   },
   {
    "_defaultOrder": 37,
    "_isFastLaunch": false,
    "category": "Accelerated computing",
    "gpuNum": 8,
    "memoryGiB": 768,
    "name": "ml.p3dn.24xlarge",
    "vcpuNum": 96
   },
   {
    "_defaultOrder": 38,
    "_isFastLaunch": false,
    "category": "Memory Optimized",
    "gpuNum": 0,
    "memoryGiB": 16,
    "name": "ml.r5.large",
    "vcpuNum": 2
   },
   {
    "_defaultOrder": 39,
    "_isFastLaunch": false,
    "category": "Memory Optimized",
    "gpuNum": 0,
    "memoryGiB": 32,
    "name": "ml.r5.xlarge",
    "vcpuNum": 4
   },
   {
    "_defaultOrder": 40,
    "_isFastLaunch": false,
    "category": "Memory Optimized",
    "gpuNum": 0,
    "memoryGiB": 64,
    "name": "ml.r5.2xlarge",
    "vcpuNum": 8
   },
   {
    "_defaultOrder": 41,
    "_isFastLaunch": false,
    "category": "Memory Optimized",
    "gpuNum": 0,
    "memoryGiB": 128,
    "name": "ml.r5.4xlarge",
    "vcpuNum": 16
   },
   {
    "_defaultOrder": 42,
    "_isFastLaunch": false,
    "category": "Memory Optimized",
    "gpuNum": 0,
    "memoryGiB": 256,
    "name": "ml.r5.8xlarge",
    "vcpuNum": 32
   },
   {
    "_defaultOrder": 43,
    "_isFastLaunch": false,
    "category": "Memory Optimized",
    "gpuNum": 0,
    "memoryGiB": 384,
    "name": "ml.r5.12xlarge",
    "vcpuNum": 48
   },
   {
    "_defaultOrder": 44,
    "_isFastLaunch": false,
    "category": "Memory Optimized",
    "gpuNum": 0,
    "memoryGiB": 512,
    "name": "ml.r5.16xlarge",
    "vcpuNum": 64
   },
   {
    "_defaultOrder": 45,
    "_isFastLaunch": false,
    "category": "Memory Optimized",
    "gpuNum": 0,
    "memoryGiB": 768,
    "name": "ml.r5.24xlarge",
    "vcpuNum": 96
   },
   {
    "_defaultOrder": 46,
    "_isFastLaunch": false,
    "category": "Accelerated computing",
    "gpuNum": 1,
    "memoryGiB": 16,
    "name": "ml.g5.xlarge",
    "vcpuNum": 4
   },
   {
    "_defaultOrder": 47,
    "_isFastLaunch": false,
    "category": "Accelerated computing",
    "gpuNum": 1,
    "memoryGiB": 32,
    "name": "ml.g5.2xlarge",
    "vcpuNum": 8
   },
   {
    "_defaultOrder": 48,
    "_isFastLaunch": false,
    "category": "Accelerated computing",
    "gpuNum": 1,
    "memoryGiB": 64,
    "name": "ml.g5.4xlarge",
    "vcpuNum": 16
   },
   {
    "_defaultOrder": 49,
    "_isFastLaunch": false,
    "category": "Accelerated computing",
    "gpuNum": 1,
    "memoryGiB": 128,
    "name": "ml.g5.8xlarge",
    "vcpuNum": 32
   },
   {
    "_defaultOrder": 50,
    "_isFastLaunch": false,
    "category": "Accelerated computing",
    "gpuNum": 1,
    "memoryGiB": 256,
    "name": "ml.g5.16xlarge",
    "vcpuNum": 64
   },
   {
    "_defaultOrder": 51,
    "_isFastLaunch": false,
    "category": "Accelerated computing",
    "gpuNum": 4,
    "memoryGiB": 192,
    "name": "ml.g5.12xlarge",
    "vcpuNum": 48
   },
   {
    "_defaultOrder": 52,
    "_isFastLaunch": false,
    "category": "Accelerated computing",
    "gpuNum": 4,
    "memoryGiB": 384,
    "name": "ml.g5.24xlarge",
    "vcpuNum": 96
   },
   {
    "_defaultOrder": 53,
    "_isFastLaunch": false,
    "category": "Accelerated computing",
    "gpuNum": 8,
    "memoryGiB": 768,
    "name": "ml.g5.48xlarge",
    "vcpuNum": 192
   }
  ],
  "instance_type": "ml.t3.medium",
  "kernelspec": {
   "display_name": "Python 3 (TensorFlow 2.6 Python 3.8 CPU Optimized)",
   "language": "python",
   "name": "python3__SAGEMAKER_INTERNAL__arn:aws:sagemaker:us-east-1:081325390199:image/tensorflow-2.6-cpu-py38-ubuntu20.04-v1"
  },
  "language_info": {
   "codemirror_mode": {
    "name": "ipython",
    "version": 3
   },
   "file_extension": ".py",
   "mimetype": "text/x-python",
   "name": "python",
   "nbconvert_exporter": "python",
   "pygments_lexer": "ipython3",
   "version": "3.8.2"
  }
 },
 "nbformat": 4,
 "nbformat_minor": 5
}
