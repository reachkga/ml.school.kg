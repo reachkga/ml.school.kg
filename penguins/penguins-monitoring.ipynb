{
 "cells": [
  {
   "cell_type": "markdown",
   "id": "3b063218-609d-43a3-8e46-37e1738ad3ba",
   "metadata": {},
   "source": [
    "# Monitoring\n",
    "\n",
    "This notebook takes care of scheduling the monitoring jobs.\n",
    "\n",
    "This notebook is part of the [Machine Learning School](https://www.ml.school) program."
   ]
  },
  {
   "cell_type": "code",
   "execution_count": 13,
   "id": "77cc3eac-251d-4114-ae39-2e2957d8b658",
   "metadata": {},
   "outputs": [],
   "source": [
    "import boto3\n",
    "import json\n",
    "import os\n",
    "import sagemaker\n",
    "import sys\n",
    "\n",
    "from pathlib import Path\n",
    "from time import sleep\n",
    "from IPython.display import JSON\n",
    "from sagemaker.s3 import S3Downloader\n",
    "from sagemaker.model_monitor import (\n",
    "    CronExpressionGenerator, DefaultModelMonitor, MonitoringExecution,\n",
    "    ModelQualityMonitor, EndpointInput\n",
    ")\n",
    "\n",
    "CODE_FOLDER = Path(\"code\")\n",
    "sys.path.append(f\"./{CODE_FOLDER}\")"
   ]
  },
  {
   "cell_type": "code",
   "execution_count": 14,
   "id": "bd98d8e7-5569-4ace-8f27-103332809ee6",
   "metadata": {
    "tags": []
   },
   "outputs": [],
   "source": [
    "from constants import *\n",
    "\n",
    "ENDPOINT = \"penguins-endpoint\"\n",
    "\n",
    "DATA_QUALITY_LOCATION = f\"{S3_LOCATION}/monitoring/data-quality\"\n",
    "MODEL_QUALITY_LOCATION = f\"{S3_LOCATION}/monitoring/model-quality\""
   ]
  },
  {
   "cell_type": "markdown",
   "id": "9506e9e9-4935-45c2-b118-f342f6ae130c",
   "metadata": {},
   "source": [
    "The following functions will help us work with monitoring schedules later on."
   ]
  },
  {
   "cell_type": "code",
   "execution_count": 15,
   "id": "ce7faec8-93a9-4671-8e0f-8f7401f7d8b7",
   "metadata": {
    "tags": []
   },
   "outputs": [],
   "source": [
    "def describe_monitoring_schedules(endpoint_name):\n",
    "    schedules = []\n",
    "    response = sagemaker_client.list_monitoring_schedules(EndpointName=endpoint_name)[\"MonitoringScheduleSummaries\"]\n",
    "    for item in response:\n",
    "        name = item[\"MonitoringScheduleName\"]\n",
    "        schedule = {\n",
    "            \"MonitoringScheduleName\": name,\n",
    "            \"MonitoringType\": item[\"MonitoringType\"]\n",
    "        }\n",
    "        \n",
    "        description = sagemaker_client.describe_monitoring_schedule(\n",
    "            MonitoringScheduleName=name\n",
    "        )\n",
    "        \n",
    "        schedule[\"Status\"] = description[\"LastMonitoringExecutionSummary\"][\"MonitoringExecutionStatus\"]\n",
    "        \n",
    "        if schedule[\"Status\"] == \"Failed\":\n",
    "            schedule[\"FailureReason\"] = description[\"LastMonitoringExecutionSummary\"][\"FailureReason\"]\n",
    "        elif schedule[\"Status\"] == \"CompletedWithViolations\":\n",
    "            processing_job_arn = description[\"LastMonitoringExecutionSummary\"][\"ProcessingJobArn\"]\n",
    "            execution = MonitoringExecution.from_processing_arn(\n",
    "                sagemaker_session=sagemaker_session, \n",
    "                processing_job_arn=processing_job_arn\n",
    "            )\n",
    "            execution_destination = execution.output.destination\n",
    "\n",
    "            violations_filepath = os.path.join(execution_destination, \"constraint_violations.json\")\n",
    "            violations = json.loads(S3Downloader.read_file(violations_filepath))[\"violations\"]\n",
    "            \n",
    "            schedule[\"Violations\"] = violations\n",
    "\n",
    "        schedules.append(schedule)\n",
    "        \n",
    "    return schedules\n",
    "\n",
    "def describe_monitoring_schedule(endpoint_name, monitoring_type):\n",
    "    found = False\n",
    "    \n",
    "    schedules = describe_monitoring_schedules(endpoint_name)\n",
    "    for schedule in schedules:\n",
    "        if schedule[\"MonitoringType\"] == monitoring_type:\n",
    "            found = True\n",
    "            print(json.dumps(schedule, indent=2))\n",
    "\n",
    "    if not found:            \n",
    "        print(f\"There's no {monitoring_type} Monitoring Schedule.\")\n",
    "\n",
    "\n",
    "def describe_data_monitoring_schedule(endpoint_name):\n",
    "    describe_monitoring_schedule(endpoint_name, \"DataQuality\")\n",
    "\n",
    "    \n",
    "def describe_model_monitoring_schedule(endpoint_name):\n",
    "    describe_monitoring_schedule(endpoint_name, \"ModelQuality\")\n",
    "\n",
    "    \n",
    "def delete_monitoring_schedule(endpoint_name, monitoring_type):\n",
    "    attempts = 30\n",
    "    found = False\n",
    "    \n",
    "    response = sagemaker_client.list_monitoring_schedules(EndpointName=endpoint_name)[\"MonitoringScheduleSummaries\"]\n",
    "    for item in response:\n",
    "        if item[\"MonitoringType\"] == monitoring_type:\n",
    "            found = True\n",
    "            status = sagemaker_client.describe_monitoring_schedule(\n",
    "                MonitoringScheduleName=item[\"MonitoringScheduleName\"]\n",
    "            )[\"MonitoringScheduleStatus\"]\n",
    "            while status in (\"Pending\", \"InProgress\") and attempts > 0:\n",
    "                attempts -= 1\n",
    "                print(f\"Monitoring schedule status: {status}. Waiting for it to finish.\")\n",
    "                sleep(30)\n",
    "                \n",
    "                status = sagemaker_client.describe_monitoring_schedule(\n",
    "                    MonitoringScheduleName=item[\"MonitoringScheduleName\"]\n",
    "                )[\"MonitoringScheduleStatus\"]\n",
    "\n",
    "            if status not in (\"Pending\", \"InProgress\"):\n",
    "                sagemaker_client.delete_monitoring_schedule(\n",
    "                    MonitoringScheduleName=item[\"MonitoringScheduleName\"]\n",
    "                )\n",
    "                print(\"Monitoring schedule deleted.\")\n",
    "            else:\n",
    "                print(\"Waiting for monitoring schedule timed out\")\n",
    "                \n",
    "    if not found:            \n",
    "        print(f\"There's no {monitoring_type} Monitoring Schedule.\")\n",
    "\n",
    "        \n",
    "def delete_data_monitoring_schedule(endpoint_name):\n",
    "    delete_monitoring_schedule(endpoint_name, \"DataQuality\")\n",
    "\n",
    "    \n",
    "def delete_model_monitoring_schedule(endpoint_name):\n",
    "    delete_monitoring_schedule(endpoint_name, \"ModelQuality\")\n"
   ]
  },
  {
   "cell_type": "markdown",
   "id": "00b7ba7b-433c-463c-8e5e-8b975a5be463",
   "metadata": {
    "tags": []
   },
   "source": [
    "## Data Monitoring"
   ]
  },
  {
   "cell_type": "markdown",
   "id": "db2d4b5a-595b-4ca3-a7da-f8a04b26eab0",
   "metadata": {
    "tags": []
   },
   "source": [
    "### Statistics and Constraints\n",
    "\n",
    "Our pipeline generated baseline statistics and constraints using our train set. We can take a look at what these values look like by downloading them from S3."
   ]
  },
  {
   "cell_type": "code",
   "execution_count": 16,
   "id": "30e9d9e8-fb29-4e32-a1a4-1372448a04eb",
   "metadata": {
    "tags": []
   },
   "outputs": [
    {
     "data": {
      "application/json": {
       "dataset": {
        "item_count": 238
       },
       "features": [
        {
         "inferred_type": "Fractional",
         "name": "body_mass_g",
         "numerical_statistics": {
          "common": {
           "num_missing": 0,
           "num_present": 238
          },
          "distribution": {
           "kll": {
            "buckets": [
             {
              "count": 11,
              "lower_bound": 2700,
              "upper_bound": 3060
             },
             {
              "count": 30,
              "lower_bound": 3060,
              "upper_bound": 3420
             },
             {
              "count": 51,
              "lower_bound": 3420,
              "upper_bound": 3780
             },
             {
              "count": 35,
              "lower_bound": 3780,
              "upper_bound": 4140
             },
             {
              "count": 21,
              "lower_bound": 4140,
              "upper_bound": 4500
             },
             {
              "count": 32,
              "lower_bound": 4500,
              "upper_bound": 4860
             },
             {
              "count": 22,
              "lower_bound": 4860,
              "upper_bound": 5220
             },
             {
              "count": 18,
              "lower_bound": 5220,
              "upper_bound": 5580
             },
             {
              "count": 13,
              "lower_bound": 5580,
              "upper_bound": 5940
             },
             {
              "count": 5,
              "lower_bound": 5940,
              "upper_bound": 6300
             }
            ],
            "sketch": {
             "data": [
              [
               3400,
               3475,
               5700,
               2900,
               3550,
               5250,
               4150,
               2975,
               4500,
               3475,
               3950,
               4200,
               3600,
               5400,
               4500,
               3200,
               3950,
               4275,
               3950,
               3525,
               3350,
               3875,
               3900,
               4075,
               4050,
               4650,
               4400,
               3650,
               4400,
               5600,
               4750,
               3475,
               4100,
               5750,
               4700,
               4100,
               5250,
               4350,
               4750,
               4050,
               4700,
               3525,
               3425,
               4650,
               4925,
               3800,
               3300,
               2700,
               4725,
               3150,
               3900,
               3600,
               3550,
               5050,
               2900,
               6300,
               5550,
               4600,
               4750,
               3250,
               6050,
               4850,
               5400,
               4250,
               5700,
               3950,
               5650,
               5050,
               4925,
               3000,
               3200,
               5400,
               4975,
               4750,
               3175,
               4700,
               4550,
               5400,
               5500,
               5300,
               4600,
               3500,
               3550,
               5500,
               4150,
               4550,
               3450,
               5250,
               5550,
               3300,
               4350,
               5350,
               3700,
               5500,
               2850,
               5700,
               3500,
               3150,
               4900,
               3250,
               4900,
               4950,
               3900,
               3900,
               3400,
               3800,
               5150,
               4775,
               3550,
               5650,
               3325,
               5100,
               3950,
               3900,
               3750,
               3325,
               3600,
               2900,
               3900,
               4700,
               3700,
               4200,
               4200,
               3175,
               4850,
               4650,
               3950,
               4625,
               4950,
               3450,
               4725,
               5050,
               4300,
               2900,
               3600,
               4450,
               3000,
               5550,
               3550,
               3650,
               3500,
               5100,
               4850,
               6000,
               3500,
               3075,
               3625,
               3975,
               4800,
               5950,
               3650,
               3300,
               3900,
               3425,
               5200,
               3550,
               4875,
               5800,
               3775,
               4625,
               3700,
               4650,
               3400,
               3700,
               4400,
               3675,
               5000,
               3700,
               5650,
               4650,
               4750,
               4000,
               5850,
               3300,
               3050,
               3450,
               3500,
               5300,
               3950,
               5200,
               3150,
               4000,
               5200,
               3400,
               3750,
               4400,
               3650,
               5700,
               3750,
               3700,
               3150,
               3800,
               4800,
               6000,
               3900,
               3800,
               4150,
               3300,
               4450,
               4050,
               5100,
               4600,
               4675,
               3675,
               3400,
               4250,
               3250,
               3700,
               4000,
               3825,
               5150,
               3800,
               5350,
               5200,
               3700,
               3450,
               3950,
               3650,
               4050,
               3325,
               4300,
               3550,
               3250,
               2925,
               3200,
               3750,
               5000,
               5450,
               3350,
               3350,
               3600,
               5850,
               3500,
               4400,
               4050,
               3775,
               4300,
               5700
              ]
             ],
             "parameters": {
              "c": 0.64,
              "k": 2048
             }
            }
           }
          },
          "max": 6300,
          "mean": 4221.533613445378,
          "min": 2700,
          "std_dev": 829.274045263354,
          "sum": 1004725
         }
        },
        {
         "inferred_type": "Fractional",
         "name": "culmen_depth_mm",
         "numerical_statistics": {
          "common": {
           "num_missing": 0,
           "num_present": 238
          },
          "distribution": {
           "kll": {
            "buckets": [
             {
              "count": 15,
              "lower_bound": 13.1,
              "upper_bound": 13.94
             },
             {
              "count": 23,
              "lower_bound": 13.94,
              "upper_bound": 14.78
             },
             {
              "count": 25,
              "lower_bound": 14.78,
              "upper_bound": 15.620000000000001
             },
             {
              "count": 24,
              "lower_bound": 15.620000000000001,
              "upper_bound": 16.46
             },
             {
              "count": 30,
              "lower_bound": 16.46,
              "upper_bound": 17.3
             },
             {
              "count": 37,
              "lower_bound": 17.3,
              "upper_bound": 18.14
             },
             {
              "count": 41,
              "lower_bound": 18.14,
              "upper_bound": 18.98
             },
             {
              "count": 27,
              "lower_bound": 18.98,
              "upper_bound": 19.82
             },
             {
              "count": 9,
              "lower_bound": 19.82,
              "upper_bound": 20.66
             },
             {
              "count": 7,
              "lower_bound": 20.66,
              "upper_bound": 21.5
             }
            ],
            "sketch": {
             "data": [
              [
               18.1,
               18.4,
               16,
               17,
               20.3,
               15.3,
               21.1,
               18.9,
               20.7,
               17.2,
               20,
               14.6,
               19,
               16.1,
               13.2,
               17.2,
               18.1,
               19.5,
               19.5,
               19.4,
               17.8,
               18.5,
               20,
               18.3,
               19.6,
               15.2,
               21.1,
               18.7,
               13.9,
               17.3,
               13.8,
               18.1,
               14.3,
               15.7,
               17.6,
               19,
               16.5,
               13.6,
               15,
               18.1,
               14.7,
               18.7,
               19,
               19.1,
               13.7,
               17.4,
               17.1,
               16.6,
               20,
               18,
               18.4,
               18.7,
               18.6,
               15.8,
               16.1,
               15.2,
               15,
               14.3,
               14.5,
               18.2,
               17,
               14.7,
               14.5,
               18.5,
               16.8,
               19.5,
               16.1,
               14.5,
               15.8,
               16.8,
               17.9,
               16.3,
               15.5,
               15,
               17,
               14.2,
               20,
               17.1,
               15.8,
               14.9,
               14.4,
               17.9,
               16.1,
               16.1,
               19,
               13.5,
               17.9,
               17.3,
               15.9,
               17.9,
               18.5,
               15.7,
               17.5,
               15.1,
               16.6,
               16.3,
               19.8,
               17.2,
               13.9,
               16.7,
               14.4,
               15,
               18.9,
               19.5,
               17.1,
               19.5,
               15.4,
               19,
               17.5,
               15.7,
               16.4,
               13.3,
               19,
               18.1,
               18.1,
               18.4,
               17,
               18.1,
               16.8,
               14.2,
               18.6,
               21.5,
               13.8,
               17.5,
               14.2,
               13.7,
               18.9,
               14.5,
               13.7,
               19,
               14.6,
               15.4,
               20.8,
               16.6,
               18.6,
               19.4,
               16.9,
               15.3,
               18,
               16.5,
               18.5,
               15.1,
               14.3,
               16.3,
               18.6,
               16,
               17.8,
               20.1,
               20.7,
               15.9,
               20.6,
               17.3,
               19.4,
               17.6,
               15.7,
               18.9,
               14.6,
               16.2,
               18.7,
               14.4,
               17.8,
               13.7,
               18.3,
               17.1,
               14.5,
               17.3,
               15,
               19.9,
               15,
               14.4,
               13.8,
               18.5,
               15.7,
               17.8,
               15.5,
               19.3,
               17.7,
               14.2,
               13.7,
               14.8,
               18.6,
               19.8,
               14.8,
               17.1,
               18.2,
               18.2,
               19.2,
               14.3,
               17.2,
               17.8,
               16.9,
               18.8,
               14.6,
               16.2,
               18.4,
               19,
               18.9,
               19.3,
               18.1,
               18.2,
               15.6,
               18.8,
               19.6,
               17.9,
               18.4,
               20,
               18,
               16.8,
               18,
               16.5,
               14.8,
               17.8,
               15.1,
               15.3,
               17.3,
               18.8,
               17.8,
               17,
               19.5,
               18.6,
               18.9,
               18.5,
               16.6,
               18.6,
               17.6,
               18.7,
               13.1,
               15.6,
               17,
               16.7,
               18.8,
               16,
               19.2,
               21.1,
               19.7,
               18.2,
               18.9,
               15.2
              ]
             ],
             "parameters": {
              "c": 0.64,
              "k": 2048
             }
            }
           }
          },
          "max": 21.5,
          "mean": 17.122689075630255,
          "min": 13.1,
          "std_dev": 1.9557257878106393,
          "sum": 4075.2000000000007
         }
        },
        {
         "inferred_type": "Fractional",
         "name": "culmen_length_mm",
         "numerical_statistics": {
          "common": {
           "num_missing": 0,
           "num_present": 238
          },
          "distribution": {
           "kll": {
            "buckets": [
             {
              "count": 9,
              "lower_bound": 32.1,
              "upper_bound": 34.85
             },
             {
              "count": 24,
              "lower_bound": 34.85,
              "upper_bound": 37.6
             },
             {
              "count": 43,
              "lower_bound": 37.6,
              "upper_bound": 40.35
             },
             {
              "count": 33,
              "lower_bound": 40.35,
              "upper_bound": 43.1
             },
             {
              "count": 31,
              "lower_bound": 43.1,
              "upper_bound": 45.85
             },
             {
              "count": 39,
              "lower_bound": 45.85,
              "upper_bound": 48.6
             },
             {
              "count": 43,
              "lower_bound": 48.6,
              "upper_bound": 51.35
             },
             {
              "count": 10,
              "lower_bound": 51.35,
              "upper_bound": 54.1
             },
             {
              "count": 4,
              "lower_bound": 54.1,
              "upper_bound": 56.85
             },
             {
              "count": 2,
              "lower_bound": 56.85,
              "upper_bound": 59.6
             }
            ],
            "sketch": {
             "data": [
              [
               43.5,
               36.6,
               49.6,
               38.6,
               41.3,
               47.3,
               39.2,
               37.5,
               42.5,
               40.6,
               38.8,
               45.8,
               33.5,
               49.9,
               46.1,
               34.6,
               38.2,
               42.2,
               51.9,
               45.6,
               37.3,
               41.4,
               38.2,
               42.7,
               50.5,
               43.5,
               41.3,
               39,
               45.7,
               50.8,
               44.9,
               34.1,
               44.5,
               50.4,
               42.9,
               50.8,
               51.1,
               44,
               49.6,
               52,
               41.7,
               45.4,
               41.1,
               39.8,
               47.2,
               39.5,
               37.8,
               46.9,
               41,
               36.5,
               39.7,
               37.7,
               40.6,
               46.3,
               33.1,
               49.2,
               50.7,
               48.2,
               45.5,
               46.1,
               59.6,
               44.5,
               47.6,
               42.8,
               49.8,
               49,
               49.5,
               45.1,
               49.4,
               37.3,
               40.5,
               48.4,
               47.2,
               47.7,
               38.1,
               42.8,
               52.8,
               52.2,
               53.4,
               46.2,
               43.4,
               46.5,
               36.2,
               46.8,
               52,
               46.5,
               36,
               44.4,
               50.5,
               46.7,
               40.3,
               48.7,
               35.5,
               48.1,
               36.5,
               50,
               37.7,
               36.2,
               43.6,
               39.5,
               46.5,
               47.5,
               40.9,
               50,
               34,
               36.3,
               46.8,
               43.2,
               39,
               54.3,
               48.1,
               44.9,
               51.4,
               37.2,
               37.8,
               34.4,
               37.6,
               34.5,
               47.5,
               43.5,
               41.4,
               46,
               45.3,
               35.6,
               46.6,
               45.5,
               40.5,
               49.1,
               42.6,
               38.7,
               47.4,
               45,
               54.2,
               43.2,
               49.7,
               41.8,
               37,
               50,
               35.7,
               46.8,
               36.8,
               46.1,
               46.8,
               51.1,
               36.9,
               37.7,
               38.9,
               40.2,
               52,
               49.8,
               39.3,
               36.2,
               37.2,
               38.1,
               50.8,
               39.7,
               46.9,
               49.5,
               50.2,
               48.4,
               58,
               40.9,
               37.8,
               36,
               46.5,
               49.8,
               45.5,
               51.3,
               47.8,
               46.2,
               45.2,
               41.5,
               49.3,
               39.5,
               32.1,
               36.7,
               39.6,
               51.3,
               42.7,
               46.5,
               37.9,
               55.8,
               45.2,
               40.2,
               51.3,
               49.2,
               51.3,
               50.2,
               38.6,
               46.4,
               35.7,
               36.7,
               45.4,
               48.8,
               40.8,
               49.5,
               46,
               37.6,
               39.6,
               41.1,
               48.2,
               39.6,
               39.2,
               50.9,
               50.5,
               37.8,
               40.3,
               40.9,
               44.1,
               38.1,
               49.1,
               46.6,
               48.7,
               46.7,
               37.8,
               52.2,
               45.2,
               45.7,
               42,
               41.1,
               40.8,
               42.2,
               45.2,
               37.9,
               41.1,
               39.1,
               42.9,
               52.5,
               35.7,
               42.5,
               38.9,
               55.1,
               43.1,
               34.6,
               50.7,
               49.6,
               40.1,
               50
              ]
             ],
             "parameters": {
              "c": 0.64,
              "k": 2048
             }
            }
           }
          },
          "max": 59.6,
          "mean": 43.90462184873953,
          "min": 32.1,
          "std_dev": 5.5307486219486135,
          "sum": 10449.300000000008
         }
        },
        {
         "inferred_type": "Fractional",
         "name": "flipper_length_mm",
         "numerical_statistics": {
          "common": {
           "num_missing": 0,
           "num_present": 238
          },
          "distribution": {
           "kll": {
            "buckets": [
             {
              "count": 2,
              "lower_bound": 172,
              "upper_bound": 177.9
             },
             {
              "count": 20,
              "lower_bound": 177.9,
              "upper_bound": 183.8
             },
             {
              "count": 38,
              "lower_bound": 183.8,
              "upper_bound": 189.7
             },
             {
              "count": 44,
              "lower_bound": 189.7,
              "upper_bound": 195.6
             },
             {
              "count": 33,
              "lower_bound": 195.6,
              "upper_bound": 201.5
             },
             {
              "count": 10,
              "lower_bound": 201.5,
              "upper_bound": 207.4
             },
             {
              "count": 28,
              "lower_bound": 207.4,
              "upper_bound": 213.3
             },
             {
              "count": 32,
              "lower_bound": 213.3,
              "upper_bound": 219.2
             },
             {
              "count": 21,
              "lower_bound": 219.2,
              "upper_bound": 225.1
             },
             {
              "count": 10,
              "lower_bound": 225.1,
              "upper_bound": 231
             }
            ],
            "sketch": {
             "data": [
              [
               202,
               184,
               225,
               188,
               194,
               222,
               196,
               179,
               197,
               187,
               190,
               210,
               190,
               213,
               211,
               189,
               185,
               197,
               206,
               194,
               191,
               202,
               190,
               196,
               201,
               213,
               195,
               185,
               214,
               228,
               212,
               193,
               216,
               222,
               196,
               210,
               225,
               208,
               216,
               201,
               210,
               188,
               182,
               184,
               214,
               186,
               186,
               192,
               203,
               182,
               190,
               180,
               183,
               215,
               178,
               221,
               223,
               210,
               212,
               178,
               230,
               214,
               215,
               195,
               230,
               210,
               224,
               207,
               216,
               192,
               187,
               220,
               215,
               216,
               181,
               209,
               205,
               228,
               219,
               221,
               218,
               192,
               187,
               215,
               197,
               210,
               190,
               219,
               222,
               195,
               196,
               208,
               190,
               209,
               181,
               230,
               198,
               187,
               217,
               178,
               217,
               218,
               184,
               196,
               185,
               190,
               215,
               197,
               186,
               231,
               199,
               213,
               201,
               178,
               193,
               184,
               185,
               187,
               199,
               220,
               191,
               194,
               208,
               191,
               210,
               214,
               180,
               212,
               213,
               195,
               212,
               220,
               201,
               187,
               195,
               198,
               185,
               220,
               202,
               189,
               193,
               215,
               215,
               220,
               189,
               183,
               181,
               200,
               210,
               229,
               190,
               187,
               184,
               187,
               226,
               184,
               222,
               229,
               198,
               203,
               181,
               214,
               174,
               187,
               213,
               198,
               220,
               198,
               215,
               214,
               215,
               201,
               217,
               188,
               188,
               193,
               186,
               218,
               208,
               217,
               172,
               207,
               212,
               193,
               197,
               195,
               193,
               218,
               199,
               191,
               185,
               187,
               211,
               222,
               195,
               200,
               195,
               181,
               186,
               192,
               221,
               190,
               195,
               196,
               200,
               190,
               195,
               191,
               210,
               198,
               220,
               193,
               222,
               219,
               180,
               197,
               198,
               195,
               200,
               189,
               208,
               180,
               191,
               193,
               182,
               181,
               215,
               221,
               189,
               187,
               190,
               230,
               197,
               198,
               203,
               193,
               188,
               218
              ]
             ],
             "parameters": {
              "c": 0.64,
              "k": 2048
             }
            }
           }
          },
          "max": 231,
          "mean": 201.01680672268907,
          "min": 172,
          "std_dev": 14.323385821781756,
          "sum": 47842
         }
        },
        {
         "inferred_type": "String",
         "name": "island",
         "string_statistics": {
          "common": {
           "num_missing": 0,
           "num_present": 238
          },
          "distinct_count": 3,
          "distribution": {
           "categorical": {
            "buckets": [
             {
              "count": 85,
              "value": "Dream"
             },
             {
              "count": 35,
              "value": "Torgersen"
             },
             {
              "count": 118,
              "value": "Biscoe"
             }
            ]
           }
          }
         }
        },
        {
         "inferred_type": "String",
         "name": "species",
         "string_statistics": {
          "common": {
           "num_missing": 0,
           "num_present": 238
          },
          "distinct_count": 3,
          "distribution": {
           "categorical": {
            "buckets": [
             {
              "count": 106,
              "value": "Adelie"
             },
             {
              "count": 44,
              "value": "Chinstrap"
             },
             {
              "count": 88,
              "value": "Gentoo"
             }
            ]
           }
          }
         }
        }
       ],
       "version": 0
      },
      "text/plain": [
       "<IPython.core.display.JSON object>"
      ]
     },
     "execution_count": 16,
     "metadata": {
      "application/json": {
       "expanded": false,
       "root": "root"
      }
     },
     "output_type": "execute_result"
    }
   ],
   "source": [
    "statistics = f\"{DATA_QUALITY_LOCATION}/statistics.json\"\n",
    "JSON(json.loads(S3Downloader.read_file(statistics)))"
   ]
  },
  {
   "cell_type": "code",
   "execution_count": 17,
   "id": "a4cd9868-a88d-4647-bbd8-233a80fce3c9",
   "metadata": {
    "tags": []
   },
   "outputs": [
    {
     "data": {
      "application/json": {
       "features": [
        {
         "completeness": 1,
         "inferred_type": "Fractional",
         "name": "body_mass_g",
         "num_constraints": {
          "is_non_negative": true
         }
        },
        {
         "completeness": 1,
         "inferred_type": "Fractional",
         "name": "culmen_depth_mm",
         "num_constraints": {
          "is_non_negative": true
         }
        },
        {
         "completeness": 1,
         "inferred_type": "Fractional",
         "name": "culmen_length_mm",
         "num_constraints": {
          "is_non_negative": true
         }
        },
        {
         "completeness": 1,
         "inferred_type": "Fractional",
         "name": "flipper_length_mm",
         "num_constraints": {
          "is_non_negative": true
         }
        },
        {
         "completeness": 1,
         "inferred_type": "String",
         "name": "island",
         "string_constraints": {
          "domains": [
           "Dream",
           "Torgersen",
           "Biscoe"
          ]
         }
        },
        {
         "completeness": 1,
         "inferred_type": "String",
         "name": "species",
         "string_constraints": {
          "domains": [
           "Adelie",
           "Chinstrap",
           "Gentoo"
          ]
         }
        }
       ],
       "monitoring_config": {
        "datatype_check_threshold": 1,
        "distribution_constraints": {
         "categorical_comparison_threshold": 0.1,
         "categorical_drift_method": "LInfinity",
         "comparison_method": "Robust",
         "comparison_threshold": 0.1,
         "perform_comparison": "Enabled"
        },
        "domain_content_threshold": 1,
        "emit_metrics": "Enabled",
        "evaluate_constraints": "Enabled"
       },
       "version": 0
      },
      "text/plain": [
       "<IPython.core.display.JSON object>"
      ]
     },
     "execution_count": 17,
     "metadata": {
      "application/json": {
       "expanded": false,
       "root": "root"
      }
     },
     "output_type": "execute_result"
    }
   ],
   "source": [
    "constraints = f\"{DATA_QUALITY_LOCATION}/constraints.json\"\n",
    "JSON(json.loads(S3Downloader.read_file(constraints)))"
   ]
  },
  {
   "cell_type": "markdown",
   "id": "b78b88ad-159e-457f-9ae8-f2f9596b47c9",
   "metadata": {
    "tags": []
   },
   "source": [
    "### Scheduling the Monitoring Job\n",
    "\n",
    "We can now set up a schedule to continuously monitor data going into the endpoint and compare it to the baseline we generated before. This monitoring job will use the baseline statistics and constraints we generated during the Data Quality Check Step. Check [Schedule Data Quality Monitoring Jobs](https://docs.aws.amazon.com/sagemaker/latest/dg/model-monitor-schedule-data-monitor.html) for more information.\n",
    "\n",
    "SageMaker looks for violations in the data captured by the endpoint. By default, it combines the input data with the endpoint output and compare the result with the baseline we generated. If we let SageMaker do this, we will get a few violations, for example an \"extra column check\" violation because the fields `confidence` and `prediction` don't exist in the baseline data.\n",
    "\n",
    "We can fix these violations by creating a preprocessing script configuring the data we want the monitoring job to use.\n"
   ]
  },
  {
   "cell_type": "code",
   "execution_count": 18,
   "id": "2e34405b-9347-4f0a-920f-766aab77323b",
   "metadata": {
    "tags": []
   },
   "outputs": [],
   "source": [
    "DATA_QUALITY_PREPROCESSOR = \"data_quality_preprocessor.py\""
   ]
  },
  {
   "cell_type": "markdown",
   "id": "e37aa19a-baca-4d7d-b8f4-002d31455cf6",
   "metadata": {},
   "source": [
    "Here is the preprocessing script for the Data Quality Monitoring Job. Check [Preprocessing and Postprocessing](https://docs.aws.amazon.com/sagemaker/latest/dg/model-monitor-pre-and-post-processing.html) for more information about how to configure these scripts."
   ]
  },
  {
   "cell_type": "code",
   "execution_count": 19,
   "id": "5fb31632-0578-490c-b878-b8bbe1f1fe53",
   "metadata": {
    "tags": []
   },
   "outputs": [
    {
     "name": "stdout",
     "output_type": "stream",
     "text": [
      "Overwriting code/data_quality_preprocessor.py\n"
     ]
    }
   ],
   "source": [
    "%%writefile {CODE_FOLDER}/{DATA_QUALITY_PREPROCESSOR}\n",
    "import json\n",
    "\n",
    "def preprocess_handler(inference_record):\n",
    "    input_data = inference_record.endpoint_input.data\n",
    "    output_data = json.loads(inference_record.endpoint_output.data)\n",
    "    \n",
    "    response = json.loads(input_data)\n",
    "    response[\"species\"] = output_data[\"prediction\"]\n",
    "\n",
    "    # The `response` variable contains the data that we want the\n",
    "    # monitoring job to use to compare with the baseline.\n",
    "    return response"
   ]
  },
  {
   "cell_type": "markdown",
   "id": "9f0ec3da-4d81-42e3-b31c-04ee88a04e12",
   "metadata": {},
   "source": [
    "The monitoring schedule expects an S3 location pointing to the preprocessing script. Let's upload the script to the default bucket."
   ]
  },
  {
   "cell_type": "code",
   "execution_count": 20,
   "id": "a641ae30-f950-4fcf-801e-1d69e473b81a",
   "metadata": {
    "tags": []
   },
   "outputs": [
    {
     "data": {
      "text/plain": [
       "'s3://sagemaker-us-east-1-325223348818/penguins-monitoring/data_quality_preprocessor.py'"
      ]
     },
     "execution_count": 20,
     "metadata": {},
     "output_type": "execute_result"
    }
   ],
   "source": [
    "bucket = boto3.Session().resource(\"s3\").Bucket(sagemaker_session.default_bucket())\n",
    "prefix = \"penguins-monitoring\"\n",
    "bucket.Object(os.path.join(prefix, DATA_QUALITY_PREPROCESSOR)).upload_file(str(CODE_FOLDER / DATA_QUALITY_PREPROCESSOR))\n",
    "data_quality_preprocessor = f\"s3://{os.path.join(bucket.name, prefix, DATA_QUALITY_PREPROCESSOR)}\"\n",
    "data_quality_preprocessor"
   ]
  },
  {
   "cell_type": "markdown",
   "id": "259c4465-6f3e-4014-a3a3-5da0c1634f95",
   "metadata": {},
   "source": [
    "We can now set up the Data Quality Monitoring Job using the [DefaultModelMonitor](https://sagemaker.readthedocs.io/en/stable/api/inference/model_monitor.html#sagemaker.model_monitor.model_monitoring.DefaultModelMonitor) class. Notice how we specify the `record_preprocessor_script` using the S3 location where we uploaded our script."
   ]
  },
  {
   "cell_type": "code",
   "execution_count": 21,
   "id": "94fe1c6a-ce44-489d-bade-72e60c616098",
   "metadata": {
    "tags": []
   },
   "outputs": [],
   "source": [
    "data_monitor = DefaultModelMonitor(\n",
    "    instance_type=\"ml.m5.xlarge\",\n",
    "    instance_count=1,\n",
    "    max_runtime_in_seconds=3600,\n",
    "    role=role,\n",
    ")\n",
    "\n",
    "data_monitor.create_monitoring_schedule(\n",
    "    monitor_schedule_name=\"penguins-data-monitoring-schedule\",\n",
    "    endpoint_input=ENDPOINT,\n",
    "    record_preprocessor_script=data_quality_preprocessor,\n",
    "    statistics=f\"{DATA_QUALITY_LOCATION}/statistics.json\",\n",
    "    constraints=f\"{DATA_QUALITY_LOCATION}/constraints.json\",\n",
    "    schedule_cron_expression=CronExpressionGenerator.hourly(),\n",
    ")"
   ]
  },
  {
   "cell_type": "markdown",
   "id": "3bcf5a3c-b9eb-4a33-9a1d-c957f0635556",
   "metadata": {
    "tags": []
   },
   "source": [
    "### Checking Monitoring Violations\n",
    "\n",
    "We can check the results of the monitoring job by looking at whether it generated any violations."
   ]
  },
  {
   "cell_type": "code",
   "execution_count": 22,
   "id": "d8160a8c-97af-42fa-b105-3d3db315baf2",
   "metadata": {
    "tags": []
   },
   "outputs": [
    {
     "name": "stdout",
     "output_type": "stream",
     "text": [
      "{\n",
      "  \"MonitoringScheduleName\": \"penguins-data-monitoring-schedule\",\n",
      "  \"MonitoringType\": \"DataQuality\",\n",
      "  \"Status\": \"CompletedWithViolations\",\n",
      "  \"Violations\": [\n",
      "    {\n",
      "      \"feature_name\": \"Extra columns\",\n",
      "      \"constraint_check_type\": \"extra_column_check\",\n",
      "      \"description\": \"There are extra columns in current dataset. Number of columns in current dataset: 8, Number of columns in baseline constraints: 6\"\n",
      "    }\n",
      "  ]\n",
      "}\n"
     ]
    }
   ],
   "source": [
    "describe_data_monitoring_schedule(ENDPOINT)"
   ]
  },
  {
   "cell_type": "markdown",
   "id": "31be9c67-40cc-42c5-b435-74dc970c68f3",
   "metadata": {
    "tags": []
   },
   "source": [
    "### Delete Monitoring Schedule\n",
    "\n",
    "Let's stop the monitoring jobs by deleting the monitoring schedule we created before."
   ]
  },
  {
   "cell_type": "code",
   "execution_count": 23,
   "id": "15d6bfac-e26c-437b-9b0f-e02822b5b4cb",
   "metadata": {},
   "outputs": [
    {
     "name": "stdout",
     "output_type": "stream",
     "text": [
      "Monitoring schedule deleted.\n"
     ]
    }
   ],
   "source": [
    "delete_data_monitoring_schedule(ENDPOINT)"
   ]
  },
  {
   "cell_type": "markdown",
   "id": "cae99171-37c8-4223-8b82-fdef179ec747",
   "metadata": {
    "tags": []
   },
   "source": [
    "## Model Monitoring"
   ]
  },
  {
   "cell_type": "code",
   "execution_count": 8,
   "id": "2b1f84cb-bab9-4ac8-822d-f0d9a763df6a",
   "metadata": {
    "tags": []
   },
   "outputs": [
    {
     "data": {
      "application/json": {
       "multiclass_classification_constraints": {
        "accuracy": {
         "comparison_operator": "LessThanThreshold",
         "threshold": 1
        },
        "weighted_f0_5": {
         "comparison_operator": "LessThanThreshold",
         "threshold": 1
        },
        "weighted_f1": {
         "comparison_operator": "LessThanThreshold",
         "threshold": 1
        },
        "weighted_f2": {
         "comparison_operator": "LessThanThreshold",
         "threshold": 1
        },
        "weighted_precision": {
         "comparison_operator": "LessThanThreshold",
         "threshold": 1
        },
        "weighted_recall": {
         "comparison_operator": "LessThanThreshold",
         "threshold": 1
        }
       },
       "version": 0
      },
      "text/plain": [
       "<IPython.core.display.JSON object>"
      ]
     },
     "execution_count": 8,
     "metadata": {
      "application/json": {
       "expanded": false,
       "root": "root"
      }
     },
     "output_type": "execute_result"
    }
   ],
   "source": [
    "constraints = f\"{MODEL_QUALITY_LOCATION}/constraints.json\"\n",
    "JSON(json.loads(S3Downloader.read_file(constraints)))"
   ]
  },
  {
   "cell_type": "markdown",
   "id": "95da3db5-ba59-414e-9185-91f108956c4c",
   "metadata": {},
   "source": [
    "### Scheduling the Monitoring Job\n",
    "\n",
    "Let's set up a schedule to continuously monitor the quality of the model and compare it to the baseline we generated before. This monitoring job will use the baseline constraints we generated during the Model Quality Check Step. Check [Schedule Model Quality Monitoring Jobs](https://docs.aws.amazon.com/sagemaker/latest/dg/model-monitor-model-quality-schedule.html) for more information.\n",
    "\n",
    "To set up a Model Quality Monitoring Job, we can use the [ModelQualityMonitor](https://sagemaker.readthedocs.io/en/stable/api/inference/model_monitor.html#sagemaker.model_monitor.model_monitoring.ModelQualityMonitor) class. The [EndpointInput](https://sagemaker.readthedocs.io/en/v2.24.2/api/inference/model_monitor.html#sagemaker.model_monitor.model_monitoring.EndpointInput) instance configures the attribute the monitoring job should use to determine the prediction from the model.\n",
    "\n",
    "Check [Amazon SageMaker Model Quality Monitor](https://sagemaker-examples.readthedocs.io/en/latest/sagemaker_model_monitor/model_quality/model_quality_churn_sdk.html) for a complete tutorial on how to run a Model Monitoring Job in SageMaker."
   ]
  },
  {
   "cell_type": "code",
   "execution_count": 56,
   "id": "c8ec5229-3a5e-4e01-b9bd-b3f81ae79b67",
   "metadata": {
    "tags": []
   },
   "outputs": [],
   "source": [
    "model_monitor = ModelQualityMonitor(\n",
    "    instance_type=\"ml.m5.xlarge\",\n",
    "    instance_count=1,\n",
    "    max_runtime_in_seconds=1800,\n",
    "    role=role\n",
    ")\n",
    "\n",
    "model_monitor.create_monitoring_schedule(\n",
    "    monitor_schedule_name=\"penguins-model-monitoring-schedule\",\n",
    "    \n",
    "    endpoint_input = EndpointInput(\n",
    "        endpoint_name=predictor.endpoint_name,\n",
    "\n",
    "        # The endpoint returns an attribute `species` with the\n",
    "        # prediction from the model. That's the attribute we want to\n",
    "        # use to compare with the groundtruth.\n",
    "        inference_attribute=\"species\",\n",
    "\n",
    "        destination=\"/opt/ml/processing/input_data\",\n",
    "    ),\n",
    "    \n",
    "    problem_type=\"MulticlassClassification\",\n",
    "    ground_truth_input=GROUND_TRUTH_LOCATION,\n",
    "    \n",
    "    constraints=f\"{MODEL_QUALITY_LOCATION}/constraints.json\",\n",
    "    \n",
    "    schedule_cron_expression=CronExpressionGenerator.hourly(),\n",
    "    output_s3_uri=f\"{S3_FILEPATH}/monitoring/model-quality\",\n",
    "    enable_cloudwatch_metrics=True,\n",
    ")"
   ]
  },
  {
   "cell_type": "markdown",
   "id": "58e354a6-2413-46e8-98d0-12589fe69809",
   "metadata": {},
   "source": [
    "### Checking Monitoring Violations\n",
    "\n",
    "We can check the results of the monitoring job by looking at whether it generated any violations."
   ]
  },
  {
   "cell_type": "code",
   "execution_count": 80,
   "id": "2642e685-1612-4055-b8f1-c48cb21a05ed",
   "metadata": {
    "tags": []
   },
   "outputs": [
    {
     "name": "stdout",
     "output_type": "stream",
     "text": [
      "{\n",
      "  \"MonitoringScheduleName\": \"penguins-model-monitoring-schedule\",\n",
      "  \"MonitoringType\": \"ModelQuality\",\n",
      "  \"Status\": \"CompletedWithViolations\",\n",
      "  \"Violations\": [\n",
      "    {\n",
      "      \"constraint_check_type\": \"LessThanThreshold\",\n",
      "      \"description\": \"Metric weightedF2 with 0.3502849367214392 +/- 1.8939654816042768E-5 was LessThanThreshold '1.0'\",\n",
      "      \"metric_name\": \"weightedF2\"\n",
      "    },\n",
      "    {\n",
      "      \"constraint_check_type\": \"LessThanThreshold\",\n",
      "      \"description\": \"Metric accuracy with 0.3572027502934764 +/- 1.978462434327009E-5 was LessThanThreshold '1.0'\",\n",
      "      \"metric_name\": \"accuracy\"\n",
      "    },\n",
      "    {\n",
      "      \"constraint_check_type\": \"LessThanThreshold\",\n",
      "      \"description\": \"Metric weightedRecall with 0.3572027502934765 +/- 1.9784624343286803E-5 was LessThanThreshold '1.0'\",\n",
      "      \"metric_name\": \"weightedRecall\"\n",
      "    },\n",
      "    {\n",
      "      \"constraint_check_type\": \"LessThanThreshold\",\n",
      "      \"description\": \"Metric weightedPrecision with 0.35130292066894553 +/- 2.141260204498452E-5 was LessThanThreshold '1.0'\",\n",
      "      \"metric_name\": \"weightedPrecision\"\n",
      "    },\n",
      "    {\n",
      "      \"constraint_check_type\": \"LessThanThreshold\",\n",
      "      \"description\": \"Metric weightedF1 with 0.34479996596809703 +/- 1.8287007194633716E-5 was LessThanThreshold '1.0'\",\n",
      "      \"metric_name\": \"weightedF1\"\n",
      "    }\n",
      "  ]\n",
      "}\n"
     ]
    }
   ],
   "source": [
    "describe_model_monitoring_schedule(ENDPOINT)"
   ]
  },
  {
   "cell_type": "markdown",
   "id": "217ddb4a-888b-40d4-955d-704a6d9bfe23",
   "metadata": {},
   "source": [
    "### Delete Monitoring Schedule\n",
    "\n",
    "Let's stop the monitoring job by deleting the monitoring schedule we created before."
   ]
  },
  {
   "cell_type": "code",
   "execution_count": 81,
   "id": "1ba83468-e877-4359-8207-59070cc6870c",
   "metadata": {
    "tags": []
   },
   "outputs": [
    {
     "name": "stdout",
     "output_type": "stream",
     "text": [
      "Monitoring schedule deleted.\n"
     ]
    }
   ],
   "source": [
    "delete_model_monitoring_schedule(ENDPOINT)"
   ]
  },
  {
   "cell_type": "code",
   "execution_count": null,
   "id": "4cf9f4a1-c9ec-46a1-9aff-e003ebb7347a",
   "metadata": {},
   "outputs": [],
   "source": []
  }
 ],
 "metadata": {
  "availableInstances": [
   {
    "_defaultOrder": 0,
    "_isFastLaunch": true,
    "category": "General purpose",
    "gpuNum": 0,
    "hideHardwareSpecs": false,
    "memoryGiB": 4,
    "name": "ml.t3.medium",
    "vcpuNum": 2
   },
   {
    "_defaultOrder": 1,
    "_isFastLaunch": false,
    "category": "General purpose",
    "gpuNum": 0,
    "hideHardwareSpecs": false,
    "memoryGiB": 8,
    "name": "ml.t3.large",
    "vcpuNum": 2
   },
   {
    "_defaultOrder": 2,
    "_isFastLaunch": false,
    "category": "General purpose",
    "gpuNum": 0,
    "hideHardwareSpecs": false,
    "memoryGiB": 16,
    "name": "ml.t3.xlarge",
    "vcpuNum": 4
   },
   {
    "_defaultOrder": 3,
    "_isFastLaunch": false,
    "category": "General purpose",
    "gpuNum": 0,
    "hideHardwareSpecs": false,
    "memoryGiB": 32,
    "name": "ml.t3.2xlarge",
    "vcpuNum": 8
   },
   {
    "_defaultOrder": 4,
    "_isFastLaunch": true,
    "category": "General purpose",
    "gpuNum": 0,
    "hideHardwareSpecs": false,
    "memoryGiB": 8,
    "name": "ml.m5.large",
    "vcpuNum": 2
   },
   {
    "_defaultOrder": 5,
    "_isFastLaunch": false,
    "category": "General purpose",
    "gpuNum": 0,
    "hideHardwareSpecs": false,
    "memoryGiB": 16,
    "name": "ml.m5.xlarge",
    "vcpuNum": 4
   },
   {
    "_defaultOrder": 6,
    "_isFastLaunch": false,
    "category": "General purpose",
    "gpuNum": 0,
    "hideHardwareSpecs": false,
    "memoryGiB": 32,
    "name": "ml.m5.2xlarge",
    "vcpuNum": 8
   },
   {
    "_defaultOrder": 7,
    "_isFastLaunch": false,
    "category": "General purpose",
    "gpuNum": 0,
    "hideHardwareSpecs": false,
    "memoryGiB": 64,
    "name": "ml.m5.4xlarge",
    "vcpuNum": 16
   },
   {
    "_defaultOrder": 8,
    "_isFastLaunch": false,
    "category": "General purpose",
    "gpuNum": 0,
    "hideHardwareSpecs": false,
    "memoryGiB": 128,
    "name": "ml.m5.8xlarge",
    "vcpuNum": 32
   },
   {
    "_defaultOrder": 9,
    "_isFastLaunch": false,
    "category": "General purpose",
    "gpuNum": 0,
    "hideHardwareSpecs": false,
    "memoryGiB": 192,
    "name": "ml.m5.12xlarge",
    "vcpuNum": 48
   },
   {
    "_defaultOrder": 10,
    "_isFastLaunch": false,
    "category": "General purpose",
    "gpuNum": 0,
    "hideHardwareSpecs": false,
    "memoryGiB": 256,
    "name": "ml.m5.16xlarge",
    "vcpuNum": 64
   },
   {
    "_defaultOrder": 11,
    "_isFastLaunch": false,
    "category": "General purpose",
    "gpuNum": 0,
    "hideHardwareSpecs": false,
    "memoryGiB": 384,
    "name": "ml.m5.24xlarge",
    "vcpuNum": 96
   },
   {
    "_defaultOrder": 12,
    "_isFastLaunch": false,
    "category": "General purpose",
    "gpuNum": 0,
    "hideHardwareSpecs": false,
    "memoryGiB": 8,
    "name": "ml.m5d.large",
    "vcpuNum": 2
   },
   {
    "_defaultOrder": 13,
    "_isFastLaunch": false,
    "category": "General purpose",
    "gpuNum": 0,
    "hideHardwareSpecs": false,
    "memoryGiB": 16,
    "name": "ml.m5d.xlarge",
    "vcpuNum": 4
   },
   {
    "_defaultOrder": 14,
    "_isFastLaunch": false,
    "category": "General purpose",
    "gpuNum": 0,
    "hideHardwareSpecs": false,
    "memoryGiB": 32,
    "name": "ml.m5d.2xlarge",
    "vcpuNum": 8
   },
   {
    "_defaultOrder": 15,
    "_isFastLaunch": false,
    "category": "General purpose",
    "gpuNum": 0,
    "hideHardwareSpecs": false,
    "memoryGiB": 64,
    "name": "ml.m5d.4xlarge",
    "vcpuNum": 16
   },
   {
    "_defaultOrder": 16,
    "_isFastLaunch": false,
    "category": "General purpose",
    "gpuNum": 0,
    "hideHardwareSpecs": false,
    "memoryGiB": 128,
    "name": "ml.m5d.8xlarge",
    "vcpuNum": 32
   },
   {
    "_defaultOrder": 17,
    "_isFastLaunch": false,
    "category": "General purpose",
    "gpuNum": 0,
    "hideHardwareSpecs": false,
    "memoryGiB": 192,
    "name": "ml.m5d.12xlarge",
    "vcpuNum": 48
   },
   {
    "_defaultOrder": 18,
    "_isFastLaunch": false,
    "category": "General purpose",
    "gpuNum": 0,
    "hideHardwareSpecs": false,
    "memoryGiB": 256,
    "name": "ml.m5d.16xlarge",
    "vcpuNum": 64
   },
   {
    "_defaultOrder": 19,
    "_isFastLaunch": false,
    "category": "General purpose",
    "gpuNum": 0,
    "hideHardwareSpecs": false,
    "memoryGiB": 384,
    "name": "ml.m5d.24xlarge",
    "vcpuNum": 96
   },
   {
    "_defaultOrder": 20,
    "_isFastLaunch": false,
    "category": "General purpose",
    "gpuNum": 0,
    "hideHardwareSpecs": true,
    "memoryGiB": 0,
    "name": "ml.geospatial.interactive",
    "supportedImageNames": [
     "sagemaker-geospatial-v1-0"
    ],
    "vcpuNum": 0
   },
   {
    "_defaultOrder": 21,
    "_isFastLaunch": true,
    "category": "Compute optimized",
    "gpuNum": 0,
    "hideHardwareSpecs": false,
    "memoryGiB": 4,
    "name": "ml.c5.large",
    "vcpuNum": 2
   },
   {
    "_defaultOrder": 22,
    "_isFastLaunch": false,
    "category": "Compute optimized",
    "gpuNum": 0,
    "hideHardwareSpecs": false,
    "memoryGiB": 8,
    "name": "ml.c5.xlarge",
    "vcpuNum": 4
   },
   {
    "_defaultOrder": 23,
    "_isFastLaunch": false,
    "category": "Compute optimized",
    "gpuNum": 0,
    "hideHardwareSpecs": false,
    "memoryGiB": 16,
    "name": "ml.c5.2xlarge",
    "vcpuNum": 8
   },
   {
    "_defaultOrder": 24,
    "_isFastLaunch": false,
    "category": "Compute optimized",
    "gpuNum": 0,
    "hideHardwareSpecs": false,
    "memoryGiB": 32,
    "name": "ml.c5.4xlarge",
    "vcpuNum": 16
   },
   {
    "_defaultOrder": 25,
    "_isFastLaunch": false,
    "category": "Compute optimized",
    "gpuNum": 0,
    "hideHardwareSpecs": false,
    "memoryGiB": 72,
    "name": "ml.c5.9xlarge",
    "vcpuNum": 36
   },
   {
    "_defaultOrder": 26,
    "_isFastLaunch": false,
    "category": "Compute optimized",
    "gpuNum": 0,
    "hideHardwareSpecs": false,
    "memoryGiB": 96,
    "name": "ml.c5.12xlarge",
    "vcpuNum": 48
   },
   {
    "_defaultOrder": 27,
    "_isFastLaunch": false,
    "category": "Compute optimized",
    "gpuNum": 0,
    "hideHardwareSpecs": false,
    "memoryGiB": 144,
    "name": "ml.c5.18xlarge",
    "vcpuNum": 72
   },
   {
    "_defaultOrder": 28,
    "_isFastLaunch": false,
    "category": "Compute optimized",
    "gpuNum": 0,
    "hideHardwareSpecs": false,
    "memoryGiB": 192,
    "name": "ml.c5.24xlarge",
    "vcpuNum": 96
   },
   {
    "_defaultOrder": 29,
    "_isFastLaunch": true,
    "category": "Accelerated computing",
    "gpuNum": 1,
    "hideHardwareSpecs": false,
    "memoryGiB": 16,
    "name": "ml.g4dn.xlarge",
    "vcpuNum": 4
   },
   {
    "_defaultOrder": 30,
    "_isFastLaunch": false,
    "category": "Accelerated computing",
    "gpuNum": 1,
    "hideHardwareSpecs": false,
    "memoryGiB": 32,
    "name": "ml.g4dn.2xlarge",
    "vcpuNum": 8
   },
   {
    "_defaultOrder": 31,
    "_isFastLaunch": false,
    "category": "Accelerated computing",
    "gpuNum": 1,
    "hideHardwareSpecs": false,
    "memoryGiB": 64,
    "name": "ml.g4dn.4xlarge",
    "vcpuNum": 16
   },
   {
    "_defaultOrder": 32,
    "_isFastLaunch": false,
    "category": "Accelerated computing",
    "gpuNum": 1,
    "hideHardwareSpecs": false,
    "memoryGiB": 128,
    "name": "ml.g4dn.8xlarge",
    "vcpuNum": 32
   },
   {
    "_defaultOrder": 33,
    "_isFastLaunch": false,
    "category": "Accelerated computing",
    "gpuNum": 4,
    "hideHardwareSpecs": false,
    "memoryGiB": 192,
    "name": "ml.g4dn.12xlarge",
    "vcpuNum": 48
   },
   {
    "_defaultOrder": 34,
    "_isFastLaunch": false,
    "category": "Accelerated computing",
    "gpuNum": 1,
    "hideHardwareSpecs": false,
    "memoryGiB": 256,
    "name": "ml.g4dn.16xlarge",
    "vcpuNum": 64
   },
   {
    "_defaultOrder": 35,
    "_isFastLaunch": false,
    "category": "Accelerated computing",
    "gpuNum": 1,
    "hideHardwareSpecs": false,
    "memoryGiB": 61,
    "name": "ml.p3.2xlarge",
    "vcpuNum": 8
   },
   {
    "_defaultOrder": 36,
    "_isFastLaunch": false,
    "category": "Accelerated computing",
    "gpuNum": 4,
    "hideHardwareSpecs": false,
    "memoryGiB": 244,
    "name": "ml.p3.8xlarge",
    "vcpuNum": 32
   },
   {
    "_defaultOrder": 37,
    "_isFastLaunch": false,
    "category": "Accelerated computing",
    "gpuNum": 8,
    "hideHardwareSpecs": false,
    "memoryGiB": 488,
    "name": "ml.p3.16xlarge",
    "vcpuNum": 64
   },
   {
    "_defaultOrder": 38,
    "_isFastLaunch": false,
    "category": "Accelerated computing",
    "gpuNum": 8,
    "hideHardwareSpecs": false,
    "memoryGiB": 768,
    "name": "ml.p3dn.24xlarge",
    "vcpuNum": 96
   },
   {
    "_defaultOrder": 39,
    "_isFastLaunch": false,
    "category": "Memory Optimized",
    "gpuNum": 0,
    "hideHardwareSpecs": false,
    "memoryGiB": 16,
    "name": "ml.r5.large",
    "vcpuNum": 2
   },
   {
    "_defaultOrder": 40,
    "_isFastLaunch": false,
    "category": "Memory Optimized",
    "gpuNum": 0,
    "hideHardwareSpecs": false,
    "memoryGiB": 32,
    "name": "ml.r5.xlarge",
    "vcpuNum": 4
   },
   {
    "_defaultOrder": 41,
    "_isFastLaunch": false,
    "category": "Memory Optimized",
    "gpuNum": 0,
    "hideHardwareSpecs": false,
    "memoryGiB": 64,
    "name": "ml.r5.2xlarge",
    "vcpuNum": 8
   },
   {
    "_defaultOrder": 42,
    "_isFastLaunch": false,
    "category": "Memory Optimized",
    "gpuNum": 0,
    "hideHardwareSpecs": false,
    "memoryGiB": 128,
    "name": "ml.r5.4xlarge",
    "vcpuNum": 16
   },
   {
    "_defaultOrder": 43,
    "_isFastLaunch": false,
    "category": "Memory Optimized",
    "gpuNum": 0,
    "hideHardwareSpecs": false,
    "memoryGiB": 256,
    "name": "ml.r5.8xlarge",
    "vcpuNum": 32
   },
   {
    "_defaultOrder": 44,
    "_isFastLaunch": false,
    "category": "Memory Optimized",
    "gpuNum": 0,
    "hideHardwareSpecs": false,
    "memoryGiB": 384,
    "name": "ml.r5.12xlarge",
    "vcpuNum": 48
   },
   {
    "_defaultOrder": 45,
    "_isFastLaunch": false,
    "category": "Memory Optimized",
    "gpuNum": 0,
    "hideHardwareSpecs": false,
    "memoryGiB": 512,
    "name": "ml.r5.16xlarge",
    "vcpuNum": 64
   },
   {
    "_defaultOrder": 46,
    "_isFastLaunch": false,
    "category": "Memory Optimized",
    "gpuNum": 0,
    "hideHardwareSpecs": false,
    "memoryGiB": 768,
    "name": "ml.r5.24xlarge",
    "vcpuNum": 96
   },
   {
    "_defaultOrder": 47,
    "_isFastLaunch": false,
    "category": "Accelerated computing",
    "gpuNum": 1,
    "hideHardwareSpecs": false,
    "memoryGiB": 16,
    "name": "ml.g5.xlarge",
    "vcpuNum": 4
   },
   {
    "_defaultOrder": 48,
    "_isFastLaunch": false,
    "category": "Accelerated computing",
    "gpuNum": 1,
    "hideHardwareSpecs": false,
    "memoryGiB": 32,
    "name": "ml.g5.2xlarge",
    "vcpuNum": 8
   },
   {
    "_defaultOrder": 49,
    "_isFastLaunch": false,
    "category": "Accelerated computing",
    "gpuNum": 1,
    "hideHardwareSpecs": false,
    "memoryGiB": 64,
    "name": "ml.g5.4xlarge",
    "vcpuNum": 16
   },
   {
    "_defaultOrder": 50,
    "_isFastLaunch": false,
    "category": "Accelerated computing",
    "gpuNum": 1,
    "hideHardwareSpecs": false,
    "memoryGiB": 128,
    "name": "ml.g5.8xlarge",
    "vcpuNum": 32
   },
   {
    "_defaultOrder": 51,
    "_isFastLaunch": false,
    "category": "Accelerated computing",
    "gpuNum": 1,
    "hideHardwareSpecs": false,
    "memoryGiB": 256,
    "name": "ml.g5.16xlarge",
    "vcpuNum": 64
   },
   {
    "_defaultOrder": 52,
    "_isFastLaunch": false,
    "category": "Accelerated computing",
    "gpuNum": 4,
    "hideHardwareSpecs": false,
    "memoryGiB": 192,
    "name": "ml.g5.12xlarge",
    "vcpuNum": 48
   },
   {
    "_defaultOrder": 53,
    "_isFastLaunch": false,
    "category": "Accelerated computing",
    "gpuNum": 4,
    "hideHardwareSpecs": false,
    "memoryGiB": 384,
    "name": "ml.g5.24xlarge",
    "vcpuNum": 96
   },
   {
    "_defaultOrder": 54,
    "_isFastLaunch": false,
    "category": "Accelerated computing",
    "gpuNum": 8,
    "hideHardwareSpecs": false,
    "memoryGiB": 768,
    "name": "ml.g5.48xlarge",
    "vcpuNum": 192
   },
   {
    "_defaultOrder": 55,
    "_isFastLaunch": false,
    "category": "Accelerated computing",
    "gpuNum": 8,
    "hideHardwareSpecs": false,
    "memoryGiB": 1152,
    "name": "ml.p4d.24xlarge",
    "vcpuNum": 96
   },
   {
    "_defaultOrder": 56,
    "_isFastLaunch": false,
    "category": "Accelerated computing",
    "gpuNum": 8,
    "hideHardwareSpecs": false,
    "memoryGiB": 1152,
    "name": "ml.p4de.24xlarge",
    "vcpuNum": 96
   }
  ],
  "instance_type": "ml.t3.medium",
  "kernelspec": {
   "display_name": "Python 3 (TensorFlow 2.6 Python 3.8 CPU Optimized)",
   "language": "python",
   "name": "python3__SAGEMAKER_INTERNAL__arn:aws:sagemaker:us-east-1:081325390199:image/tensorflow-2.6-cpu-py38-ubuntu20.04-v1"
  },
  "language_info": {
   "codemirror_mode": {
    "name": "ipython",
    "version": 3
   },
   "file_extension": ".py",
   "mimetype": "text/x-python",
   "name": "python",
   "nbconvert_exporter": "python",
   "pygments_lexer": "ipython3",
   "version": "3.8.2"
  },
  "lcc_arn": "arn:aws:sagemaker:us-east-1:325223348818:studio-lifecycle-config/packages",
  "toc-autonumbering": false,
  "toc-showcode": false,
  "toc-showmarkdowntxt": false
 },
 "nbformat": 4,
 "nbformat_minor": 5
}
