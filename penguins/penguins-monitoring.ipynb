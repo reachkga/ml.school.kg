{
 "cells": [
  {
   "cell_type": "markdown",
   "id": "3b063218-609d-43a3-8e46-37e1738ad3ba",
   "metadata": {},
   "source": [
    "# Monitoring\n",
    "\n",
    "This notebook takes care of scheduling the monitoring jobs.\n",
    "\n",
    "This notebook is part of the [Machine Learning School](https://www.ml.school) program."
   ]
  },
  {
   "cell_type": "code",
   "execution_count": 28,
   "id": "77cc3eac-251d-4114-ae39-2e2957d8b658",
   "metadata": {},
   "outputs": [],
   "source": [
    "import boto3\n",
    "import json\n",
    "import os\n",
    "import sagemaker\n",
    "\n",
    "from pathlib import Path\n",
    "from IPython.display import JSON\n",
    "from sagemaker.s3 import S3Downloader\n",
    "from sagemaker.model_monitor import CronExpressionGenerator, DefaultModelMonitor, MonitoringExecution\n",
    "\n",
    "BUCKET = \"mlschool\"\n",
    "S3_FILEPATH = f\"s3://{BUCKET}/penguins\"\n",
    "CODE_FOLDER = Path(\"code\")\n",
    "ENDPOINT = \"penguins-endpoint\"\n",
    "DATA_QUALITY_LOCATION = f\"{S3_FILEPATH}/monitoring/data-quality\"\n",
    "\n",
    "sagemaker_client = boto3.client(\"sagemaker\")\n",
    "role = sagemaker.get_execution_role()\n",
    "sagemaker_session = sagemaker.session.Session()"
   ]
  },
  {
   "cell_type": "markdown",
   "id": "00b7ba7b-433c-463c-8e5e-8b975a5be463",
   "metadata": {
    "tags": []
   },
   "source": [
    "## Data Monitoring"
   ]
  },
  {
   "cell_type": "markdown",
   "id": "db2d4b5a-595b-4ca3-a7da-f8a04b26eab0",
   "metadata": {
    "tags": []
   },
   "source": [
    "### Statistics and Constraints\n",
    "\n",
    "Our pipeline generated baseline statistics and constraints using our train set. We can take a look at what these values look like by downloading them from S3."
   ]
  },
  {
   "cell_type": "code",
   "execution_count": 10,
   "id": "30e9d9e8-fb29-4e32-a1a4-1372448a04eb",
   "metadata": {
    "tags": []
   },
   "outputs": [
    {
     "data": {
      "application/json": {
       "dataset": {
        "item_count": 239
       },
       "features": [
        {
         "inferred_type": "Fractional",
         "name": "body_mass_g",
         "numerical_statistics": {
          "common": {
           "num_missing": 0,
           "num_present": 239
          },
          "distribution": {
           "kll": {
            "buckets": [
             {
              "count": 12,
              "lower_bound": 2700,
              "upper_bound": 3060
             },
             {
              "count": 29,
              "lower_bound": 3060,
              "upper_bound": 3420
             },
             {
              "count": 52,
              "lower_bound": 3420,
              "upper_bound": 3780
             },
             {
              "count": 34,
              "lower_bound": 3780,
              "upper_bound": 4140
             },
             {
              "count": 29,
              "lower_bound": 4140,
              "upper_bound": 4500
             },
             {
              "count": 31,
              "lower_bound": 4500,
              "upper_bound": 4860
             },
             {
              "count": 20,
              "lower_bound": 4860,
              "upper_bound": 5220
             },
             {
              "count": 15,
              "lower_bound": 5220,
              "upper_bound": 5580
             },
             {
              "count": 12,
              "lower_bound": 5580,
              "upper_bound": 5940
             },
             {
              "count": 5,
              "lower_bound": 5940,
              "upper_bound": 6300
             }
            ],
            "sketch": {
             "data": [
              [
               2700,
               5550,
               5350,
               5500,
               3825,
               4200,
               4400,
               3700,
               4725,
               4400,
               5100,
               3400,
               3050,
               3950,
               3550,
               5200,
               3700,
               3300,
               3000,
               5350,
               5600,
               3425,
               4925,
               3325,
               3800,
               3150,
               3700,
               3550,
               5300,
               3900,
               4075,
               3600,
               3775,
               4875,
               5000,
               5650,
               5700,
               3950,
               4850,
               5000,
               4700,
               3725,
               3200,
               4750,
               3350,
               4600,
               4900,
               4700,
               4875,
               4450,
               5500,
               2850,
               5850,
               4050,
               4600,
               5150,
               3700,
               4250,
               5950,
               3750,
               3275,
               4400,
               3325,
               3500,
               4850,
               4400,
               6050,
               4050,
               3550,
               5200,
               4700,
               4300,
               3050,
               5800,
               5700,
               3450,
               3900,
               3250,
               3950,
               4575,
               3550,
               4700,
               3600,
               4875,
               3575,
               3675,
               5250,
               3100,
               4450,
               3450,
               4700,
               4550,
               3650,
               3050,
               4250,
               3250,
               3800,
               3750,
               4300,
               3200,
               4250,
               5800,
               5850,
               3900,
               3975,
               3650,
               5700,
               3300,
               3800,
               4100,
               4725,
               4775,
               3450,
               4625,
               3400,
               3775,
               3950,
               3800,
               2975,
               3000,
               5300,
               3900,
               4150,
               4200,
               3475,
               4800,
               3250,
               3075,
               5100,
               3525,
               3300,
               3325,
               3650,
               3750,
               3800,
               4750,
               3450,
               4475,
               4650,
               5050,
               3450,
               4450,
               5000,
               5700,
               5950,
               4250,
               3300,
               4150,
               3950,
               3350,
               3650,
               3900,
               3475,
               4650,
               3700,
               3350,
               4400,
               4000,
               5550,
               4050,
               3500,
               4550,
               4400,
               4050,
               3150,
               5050,
               3400,
               3450,
               4450,
               4950,
               3500,
               5550,
               2850,
               3700,
               5000,
               3150,
               4800,
               5350,
               4350,
               3800,
               3050,
               4750,
               3500,
               3600,
               3900,
               4350,
               4100,
               3500,
               3650,
               2900,
               4800,
               3700,
               3850,
               3550,
               4600,
               4600,
               3300,
               3600,
               5150,
               3800,
               3450,
               4400,
               4500,
               4050,
               4650,
               3400,
               4300,
               3950,
               5750,
               5650,
               3775,
               3475,
               3675,
               4100,
               5400,
               4450,
               3250,
               4850,
               4700,
               5400,
               3200,
               5550,
               6000,
               4400,
               5300,
               4300,
               5200,
               5200,
               3525,
               4675,
               3725,
               3550,
               6300,
               2900,
               3200,
               4000,
               4300,
               3450,
               3950
              ]
             ],
             "parameters": {
              "c": 0.64,
              "k": 2048
             }
            }
           }
          },
          "max": 6300,
          "mean": 4197.489539748954,
          "min": 2700,
          "std_dev": 811.2048576163056,
          "sum": 1003200
         }
        },
        {
         "inferred_type": "Fractional",
         "name": "culmen_depth_mm",
         "numerical_statistics": {
          "common": {
           "num_missing": 0,
           "num_present": 239
          },
          "distribution": {
           "kll": {
            "buckets": [
             {
              "count": 13,
              "lower_bound": 13.1,
              "upper_bound": 13.9
             },
             {
              "count": 27,
              "lower_bound": 13.9,
              "upper_bound": 14.7
             },
             {
              "count": 16,
              "lower_bound": 14.7,
              "upper_bound": 15.5
             },
             {
              "count": 26,
              "lower_bound": 15.5,
              "upper_bound": 16.3
             },
             {
              "count": 24,
              "lower_bound": 16.3,
              "upper_bound": 17.1
             },
             {
              "count": 39,
              "lower_bound": 17.1,
              "upper_bound": 17.900000000000002
             },
             {
              "count": 38,
              "lower_bound": 17.900000000000002,
              "upper_bound": 18.700000000000003
             },
             {
              "count": 30,
              "lower_bound": 18.700000000000003,
              "upper_bound": 19.5
             },
             {
              "count": 16,
              "lower_bound": 19.5,
              "upper_bound": 20.3
             },
             {
              "count": 10,
              "lower_bound": 20.3,
              "upper_bound": 21.1
             }
            ],
            "sketch": {
             "data": [
              [
               16.6,
               15.9,
               15.1,
               16.3,
               16.5,
               19.4,
               13.4,
               18.6,
               13.8,
               19.7,
               13.3,
               18.4,
               15.9,
               17.8,
               18,
               15.7,
               17.1,
               20,
               16.9,
               15.9,
               17.3,
               19,
               15.8,
               18.4,
               18.8,
               17.2,
               17.8,
               19.1,
               15.8,
               19.5,
               18.3,
               18.6,
               20.5,
               15.7,
               15.2,
               15.7,
               15.2,
               18.1,
               14.7,
               15,
               14.2,
               19.8,
               17.9,
               13.8,
               16.2,
               20.3,
               14.4,
               14.7,
               14.6,
               14.1,
               16.1,
               17.1,
               14.6,
               19.9,
               18.8,
               15.4,
               17.3,
               20,
               16.4,
               18.1,
               17.6,
               18.2,
               17.9,
               18.6,
               14.3,
               21.1,
               17,
               19.6,
               17.5,
               15.3,
               17.6,
               18.3,
               15.5,
               16.2,
               16.3,
               19,
               18.4,
               18,
               19.2,
               14,
               17.2,
               14.2,
               17.3,
               14,
               17.1,
               17.3,
               17.3,
               18.5,
               14.5,
               17,
               14.2,
               13.5,
               17.5,
               17.1,
               17.9,
               16.7,
               18.9,
               18.2,
               18.1,
               17.6,
               18.6,
               16,
               16,
               17.5,
               20.1,
               16.5,
               14.3,
               17.9,
               17.4,
               19.1,
               20,
               19,
               19.3,
               14.5,
               17.1,
               18.2,
               13.7,
               17.2,
               18.9,
               16.8,
               14.1,
               19.4,
               21.1,
               13.8,
               18.4,
               14.6,
               18.7,
               16,
               15.6,
               18.7,
               19.3,
               17,
               19.2,
               18.7,
               17.8,
               13.8,
               18.6,
               18.5,
               19.1,
               15.4,
               17.8,
               18.5,
               15.6,
               16,
               15.9,
               18.5,
               17.8,
               18.9,
               19,
               16.7,
               20.6,
               20.7,
               18.1,
               13.7,
               19.9,
               17,
               21.1,
               19.8,
               15.3,
               18.2,
               17,
               20,
               14.4,
               19.5,
               18,
               14.5,
               16.5,
               18.8,
               18.1,
               13.7,
               19.2,
               17,
               16.6,
               18.6,
               13.1,
               16.9,
               14.5,
               15.7,
               13.6,
               18.8,
               16.6,
               15,
               17.7,
               17.3,
               18.9,
               18.5,
               19,
               17.9,
               17,
               16.1,
               20.7,
               17.8,
               18.3,
               18.5,
               14.2,
               14.4,
               17.1,
               18.8,
               14.8,
               19.2,
               17.9,
               14.5,
               20.7,
               19.7,
               13.7,
               18.3,
               13.9,
               18,
               15.7,
               16.1,
               18.7,
               17.2,
               17.9,
               14.3,
               14.5,
               19.4,
               16.6,
               14.2,
               15,
               16.1,
               17.7,
               16.1,
               16.2,
               13.9,
               14.2,
               19.6,
               14.8,
               14.8,
               19.4,
               19.6,
               17,
               18.9,
               15.2,
               18.1,
               16.6,
               19,
               20.8,
               17.9,
               18.9
              ]
             ],
             "parameters": {
              "c": 0.64,
              "k": 2048
             }
            }
           }
          },
          "max": 21.1,
          "mean": 17.137238493723842,
          "min": 13.1,
          "std_dev": 1.9642607789079047,
          "sum": 4095.7999999999984
         }
        },
        {
         "inferred_type": "Fractional",
         "name": "culmen_length_mm",
         "numerical_statistics": {
          "common": {
           "num_missing": 0,
           "num_present": 239
          },
          "distribution": {
           "kll": {
            "buckets": [
             {
              "count": 6,
              "lower_bound": 32.1,
              "upper_bound": 34.85
             },
             {
              "count": 31,
              "lower_bound": 34.85,
              "upper_bound": 37.6
             },
             {
              "count": 39,
              "lower_bound": 37.6,
              "upper_bound": 40.35
             },
             {
              "count": 34,
              "lower_bound": 40.35,
              "upper_bound": 43.1
             },
             {
              "count": 37,
              "lower_bound": 43.1,
              "upper_bound": 45.85
             },
             {
              "count": 31,
              "lower_bound": 45.85,
              "upper_bound": 48.6
             },
             {
              "count": 47,
              "lower_bound": 48.6,
              "upper_bound": 51.35
             },
             {
              "count": 8,
              "lower_bound": 51.35,
              "upper_bound": 54.1
             },
             {
              "count": 4,
              "lower_bound": 54.1,
              "upper_bound": 56.85
             },
             {
              "count": 2,
              "lower_bound": 56.85,
              "upper_bound": 59.6
             }
            ],
            "sketch": {
             "data": [
              [
               46.9,
               50.5,
               48.7,
               51.5,
               38.1,
               35.1,
               43.3,
               41.4,
               47.3,
               44.1,
               44.9,
               50.5,
               35.2,
               45.2,
               35.7,
               50.8,
               36,
               50.3,
               37,
               50,
               50.8,
               41.1,
               49.4,
               34.4,
               50.2,
               36.2,
               36.6,
               50.9,
               45.2,
               50,
               42.7,
               49.7,
               37.3,
               44.5,
               50.5,
               54.3,
               50,
               38.2,
               44.5,
               50.1,
               45.8,
               52.7,
               40.5,
               44.9,
               35.5,
               45.6,
               46.5,
               41.7,
               46.9,
               48.7,
               46.8,
               36.4,
               48.4,
               49.3,
               39.6,
               46.8,
               47,
               37.8,
               45.2,
               37.8,
               38.8,
               49.2,
               38.5,
               36.9,
               46.8,
               34.6,
               59.6,
               50.5,
               39,
               46.7,
               42.9,
               41.5,
               32.1,
               49.5,
               50,
               38.7,
               40.8,
               40.3,
               38.3,
               43.3,
               39.6,
               43.5,
               45.7,
               47.5,
               45.9,
               49.8,
               44.4,
               36,
               43.2,
               40.2,
               42.8,
               46.5,
               46.2,
               39,
               39.7,
               39.5,
               35.3,
               51.3,
               41.1,
               41.1,
               39.2,
               48.6,
               55.1,
               41.1,
               40.2,
               46.8,
               50.2,
               46.7,
               39.5,
               41.1,
               41,
               43.2,
               36.7,
               49.1,
               40.2,
               49.6,
               42.7,
               38.8,
               37.5,
               37.3,
               48.5,
               37.2,
               39.2,
               45.3,
               36.6,
               45.4,
               51.5,
               37.7,
               48.2,
               45.4,
               37.6,
               36.4,
               51.3,
               39.1,
               46.6,
               45.2,
               46.4,
               37.5,
               39.8,
               45,
               36,
               50.8,
               46.4,
               49.6,
               49.8,
               42.8,
               39.5,
               45.8,
               51.4,
               42.5,
               39.3,
               39.6,
               34.1,
               45.5,
               51.3,
               35.7,
               41.3,
               55.8,
               50.4,
               41.1,
               45.5,
               52.8,
               45.1,
               42,
               36.5,
               45.1,
               37,
               52.2,
               39.6,
               42.6,
               43.1,
               52.1,
               36.5,
               38.1,
               42.9,
               35.7,
               46.2,
               48.7,
               44,
               36.7,
               35.9,
               47.7,
               39.6,
               42.4,
               40.9,
               40.3,
               50.8,
               46.5,
               45.7,
               33.1,
               52,
               58,
               47.6,
               42.2,
               47.5,
               43.4,
               37.8,
               38.9,
               49.1,
               35.9,
               35,
               46.5,
               42.5,
               50.7,
               40.9,
               37.8,
               43.8,
               41.6,
               50.4,
               49.5,
               50.2,
               40.6,
               50.9,
               44.5,
               47.6,
               41.8,
               45.2,
               46.6,
               46.4,
               49.9,
               39.7,
               49,
               48.8,
               45.7,
               51.3,
               49,
               46.5,
               45.2,
               45.6,
               39.2,
               40.7,
               39.7,
               49.2,
               34.5,
               40.9,
               40.6,
               54.2,
               36,
               40.5
              ]
             ],
             "parameters": {
              "c": 0.64,
              "k": 2048
             }
            }
           }
          },
          "max": 59.6,
          "mean": 43.84476987447703,
          "min": 32.1,
          "std_dev": 5.4635999605234815,
          "sum": 10478.90000000001
         }
        },
        {
         "inferred_type": "Fractional",
         "name": "flipper_length_mm",
         "numerical_statistics": {
          "common": {
           "num_missing": 0,
           "num_present": 239
          },
          "distribution": {
           "kll": {
            "buckets": [
             {
              "count": 5,
              "lower_bound": 174,
              "upper_bound": 179.7
             },
             {
              "count": 25,
              "lower_bound": 179.7,
              "upper_bound": 185.4
             },
             {
              "count": 47,
              "lower_bound": 185.4,
              "upper_bound": 191.1
             },
             {
              "count": 42,
              "lower_bound": 191.1,
              "upper_bound": 196.8
             },
             {
              "count": 27,
              "lower_bound": 196.8,
              "upper_bound": 202.5
             },
             {
              "count": 14,
              "lower_bound": 202.5,
              "upper_bound": 208.2
             },
             {
              "count": 22,
              "lower_bound": 208.2,
              "upper_bound": 213.9
             },
             {
              "count": 28,
              "lower_bound": 213.9,
              "upper_bound": 219.6
             },
             {
              "count": 18,
              "lower_bound": 219.6,
              "upper_bound": 225.3
             },
             {
              "count": 11,
              "lower_bound": 225.3,
              "upper_bound": 231
             }
            ],
            "sketch": {
             "data": [
              [
               192,
               222,
               222,
               230,
               198,
               193,
               209,
               191,
               216,
               196,
               213,
               200,
               186,
               198,
               202,
               226,
               187,
               197,
               185,
               224,
               228,
               182,
               216,
               184,
               202,
               187,
               185,
               196,
               215,
               196,
               196,
               195,
               199,
               217,
               216,
               231,
               218,
               185,
               214,
               225,
               219,
               197,
               187,
               212,
               195,
               191,
               217,
               210,
               222,
               210,
               215,
               184,
               213,
               203,
               190,
               215,
               185,
               190,
               223,
               193,
               191,
               195,
               190,
               189,
               215,
               198,
               230,
               201,
               186,
               219,
               196,
               195,
               188,
               229,
               230,
               195,
               195,
               195,
               189,
               208,
               196,
               220,
               193,
               212,
               190,
               198,
               219,
               186,
               208,
               176,
               209,
               210,
               187,
               191,
               193,
               178,
               187,
               197,
               205,
               182,
               190,
               230,
               230,
               190,
               200,
               189,
               218,
               195,
               186,
               188,
               203,
               197,
               193,
               212,
               193,
               193,
               208,
               180,
               179,
               192,
               220,
               184,
               196,
               208,
               184,
               211,
               187,
               183,
               221,
               188,
               181,
               195,
               193,
               181,
               193,
               215,
               190,
               199,
               184,
               220,
               195,
               201,
               221,
               225,
               229,
               195,
               188,
               197,
               201,
               187,
               190,
               191,
               193,
               214,
               198,
               189,
               195,
               207,
               224,
               192,
               196,
               205,
               210,
               200,
               182,
               207,
               185,
               197,
               186,
               213,
               197,
               230,
               181,
               190,
               215,
               185,
               209,
               208,
               208,
               187,
               190,
               216,
               186,
               181,
               184,
               196,
               210,
               192,
               195,
               178,
               210,
               181,
               195,
               180,
               209,
               218,
               186,
               190,
               220,
               189,
               190,
               213,
               197,
               203,
               214,
               174,
               208,
               192,
               222,
               224,
               198,
               187,
               196,
               216,
               215,
               198,
               191,
               210,
               216,
               213,
               193,
               216,
               222,
               214,
               218,
               212,
               217,
               212,
               194,
               195,
               190,
               184,
               221,
               187,
               187,
               199,
               201,
               190,
               180
              ]
             ],
             "parameters": {
              "c": 0.64,
              "k": 2048
             }
            }
           }
          },
          "max": 231,
          "mean": 200.64016736401675,
          "min": 174,
          "std_dev": 14.007925788967746,
          "sum": 47953
         }
        },
        {
         "inferred_type": "String",
         "name": "island",
         "string_statistics": {
          "common": {
           "num_missing": 0,
           "num_present": 239
          },
          "distinct_count": 3,
          "distribution": {
           "categorical": {
            "buckets": [
             {
              "count": 90,
              "value": "Dream"
             },
             {
              "count": 34,
              "value": "Torgersen"
             },
             {
              "count": 115,
              "value": "Biscoe"
             }
            ]
           }
          }
         }
        },
        {
         "inferred_type": "String",
         "name": "species",
         "string_statistics": {
          "common": {
           "num_missing": 0,
           "num_present": 239
          },
          "distinct_count": 3,
          "distribution": {
           "categorical": {
            "buckets": [
             {
              "count": 106,
              "value": "Adelie"
             },
             {
              "count": 49,
              "value": "Chinstrap"
             },
             {
              "count": 84,
              "value": "Gentoo"
             }
            ]
           }
          }
         }
        }
       ],
       "version": 0
      },
      "text/plain": [
       "<IPython.core.display.JSON object>"
      ]
     },
     "execution_count": 10,
     "metadata": {
      "application/json": {
       "expanded": false,
       "root": "root"
      }
     },
     "output_type": "execute_result"
    }
   ],
   "source": [
    "statistics = f\"{DATA_QUALITY_LOCATION}/statistics.json\"\n",
    "JSON(json.loads(S3Downloader.read_file(statistics)))"
   ]
  },
  {
   "cell_type": "code",
   "execution_count": 11,
   "id": "a4cd9868-a88d-4647-bbd8-233a80fce3c9",
   "metadata": {
    "tags": []
   },
   "outputs": [
    {
     "data": {
      "application/json": {
       "features": [
        {
         "completeness": 1,
         "inferred_type": "Fractional",
         "name": "body_mass_g",
         "num_constraints": {
          "is_non_negative": true
         }
        },
        {
         "completeness": 1,
         "inferred_type": "Fractional",
         "name": "culmen_depth_mm",
         "num_constraints": {
          "is_non_negative": true
         }
        },
        {
         "completeness": 1,
         "inferred_type": "Fractional",
         "name": "culmen_length_mm",
         "num_constraints": {
          "is_non_negative": true
         }
        },
        {
         "completeness": 1,
         "inferred_type": "Fractional",
         "name": "flipper_length_mm",
         "num_constraints": {
          "is_non_negative": true
         }
        },
        {
         "completeness": 1,
         "inferred_type": "String",
         "name": "island",
         "string_constraints": {
          "domains": [
           "Dream",
           "Torgersen",
           "Biscoe"
          ]
         }
        },
        {
         "completeness": 1,
         "inferred_type": "String",
         "name": "species",
         "string_constraints": {
          "domains": [
           "Adelie",
           "Chinstrap",
           "Gentoo"
          ]
         }
        }
       ],
       "monitoring_config": {
        "datatype_check_threshold": 1,
        "distribution_constraints": {
         "categorical_comparison_threshold": 0.1,
         "categorical_drift_method": "LInfinity",
         "comparison_method": "Robust",
         "comparison_threshold": 0.1,
         "perform_comparison": "Enabled"
        },
        "domain_content_threshold": 1,
        "emit_metrics": "Enabled",
        "evaluate_constraints": "Enabled"
       },
       "version": 0
      },
      "text/plain": [
       "<IPython.core.display.JSON object>"
      ]
     },
     "execution_count": 11,
     "metadata": {
      "application/json": {
       "expanded": false,
       "root": "root"
      }
     },
     "output_type": "execute_result"
    }
   ],
   "source": [
    "constraints = f\"{DATA_QUALITY_LOCATION}/constraints.json\"\n",
    "JSON(json.loads(S3Downloader.read_file(constraints)))"
   ]
  },
  {
   "cell_type": "markdown",
   "id": "b78b88ad-159e-457f-9ae8-f2f9596b47c9",
   "metadata": {
    "tags": []
   },
   "source": [
    "### Scheduling the Monitoring Job\n",
    "\n",
    "We can now set up a schedule to continuously monitor data going into the endpoint and compare it to the baseline we generated before. This monitoring job will use the baseline statistics and constraints we generated during the Data Quality Check Step. Check [Schedule Data Quality Monitoring Jobs](https://docs.aws.amazon.com/sagemaker/latest/dg/model-monitor-schedule-data-monitor.html) for more information.\n",
    "\n",
    "SageMaker looks for violations in the data captured by the endpoint. By default, it combines the input data with the endpoint output and compare the result with the baseline we generated. If we let SageMaker do this, we will get a few violations, for example an \"extra column check\" violation because the fields `confidence` and `prediction` don't exist in the baseline data.\n",
    "\n",
    "We can fix these violations by creating a preprocessing script configuring the data we want the monitoring job to use.\n"
   ]
  },
  {
   "cell_type": "code",
   "execution_count": 15,
   "id": "2e34405b-9347-4f0a-920f-766aab77323b",
   "metadata": {
    "tags": []
   },
   "outputs": [],
   "source": [
    "DATA_QUALITY_PREPROCESSOR = \"data_quality_preprocessor.py\""
   ]
  },
  {
   "cell_type": "markdown",
   "id": "e37aa19a-baca-4d7d-b8f4-002d31455cf6",
   "metadata": {},
   "source": [
    "Here is the preprocessing script for the Data Quality Monitoring Job. Check [Preprocessing and Postprocessing](https://docs.aws.amazon.com/sagemaker/latest/dg/model-monitor-pre-and-post-processing.html) for more information about how to configure these scripts."
   ]
  },
  {
   "cell_type": "code",
   "execution_count": 20,
   "id": "5fb31632-0578-490c-b878-b8bbe1f1fe53",
   "metadata": {
    "tags": []
   },
   "outputs": [
    {
     "name": "stdout",
     "output_type": "stream",
     "text": [
      "Overwriting code/data_quality_preprocessor.py\n"
     ]
    }
   ],
   "source": [
    "%%writefile {CODE_FOLDER}/{DATA_QUALITY_PREPROCESSOR}\n",
    "import json\n",
    "\n",
    "def preprocess_handler(inference_record):\n",
    "    input_data = inference_record.endpoint_input.data\n",
    "    output_data = json.loads(inference_record.endpoint_output.data)\n",
    "    \n",
    "    response = json.loads(input_data)\n",
    "    response[\"species\"] = output_data[\"species\"]\n",
    "\n",
    "    # The `response` variable contains the data that we want the\n",
    "    # monitoring job to use to compare with the baseline.\n",
    "    return response"
   ]
  },
  {
   "cell_type": "markdown",
   "id": "9f0ec3da-4d81-42e3-b31c-04ee88a04e12",
   "metadata": {},
   "source": [
    "The monitoring schedule expects an S3 location pointing to the preprocessing script. Let's upload the script to the default bucket."
   ]
  },
  {
   "cell_type": "code",
   "execution_count": 25,
   "id": "a641ae30-f950-4fcf-801e-1d69e473b81a",
   "metadata": {
    "tags": []
   },
   "outputs": [
    {
     "data": {
      "text/plain": [
       "'s3://sagemaker-us-east-1-325223348818/penguins-monitoring/data_quality_preprocessor.py'"
      ]
     },
     "execution_count": 25,
     "metadata": {},
     "output_type": "execute_result"
    }
   ],
   "source": [
    "bucket = boto3.Session().resource(\"s3\").Bucket(sagemaker_session.default_bucket())\n",
    "prefix = \"penguins-monitoring\"\n",
    "bucket.Object(os.path.join(prefix, DATA_QUALITY_PREPROCESSOR)).upload_file(str(CODE_FOLDER / DATA_QUALITY_PREPROCESSOR))\n",
    "data_quality_preprocessor = f\"s3://{os.path.join(bucket.name, prefix, DATA_QUALITY_PREPROCESSOR)}\"\n",
    "data_quality_preprocessor"
   ]
  },
  {
   "cell_type": "markdown",
   "id": "259c4465-6f3e-4014-a3a3-5da0c1634f95",
   "metadata": {},
   "source": [
    "We can now set up the Data Quality Monitoring Job using the [DefaultModelMonitor](https://sagemaker.readthedocs.io/en/stable/api/inference/model_monitor.html#sagemaker.model_monitor.model_monitoring.DefaultModelMonitor) class. Notice how we specify the `record_preprocessor_script` using the S3 location where we uploaded our script."
   ]
  },
  {
   "cell_type": "code",
   "execution_count": 29,
   "id": "94fe1c6a-ce44-489d-bade-72e60c616098",
   "metadata": {
    "tags": []
   },
   "outputs": [],
   "source": [
    "data_monitor = DefaultModelMonitor(\n",
    "    instance_type=\"ml.m5.xlarge\",\n",
    "    instance_count=1,\n",
    "    max_runtime_in_seconds=3600,\n",
    "    role=role,\n",
    ")\n",
    "\n",
    "data_monitor.create_monitoring_schedule(\n",
    "    monitor_schedule_name=\"penguins-data-monitoring-schedule\",\n",
    "    endpoint_input=ENDPOINT,\n",
    "    record_preprocessor_script=data_quality_preprocessor,\n",
    "    statistics=f\"{DATA_QUALITY_LOCATION}/statistics.json\",\n",
    "    constraints=f\"{DATA_QUALITY_LOCATION}/constraints.json\",\n",
    "    schedule_cron_expression=CronExpressionGenerator.hourly(),\n",
    ")"
   ]
  },
  {
   "cell_type": "markdown",
   "id": "3bcf5a3c-b9eb-4a33-9a1d-c957f0635556",
   "metadata": {
    "tags": []
   },
   "source": [
    "### Checking Monitoring Violations\n",
    "\n",
    "We can check the results of the monitoring job by looking at whether it generated any violations."
   ]
  },
  {
   "cell_type": "code",
   "execution_count": 38,
   "id": "d8160a8c-97af-42fa-b105-3d3db315baf2",
   "metadata": {
    "tags": []
   },
   "outputs": [
    {
     "data": {
      "text/plain": [
       "{'MonitoringScheduleArn': 'arn:aws:sagemaker:us-east-1:325223348818:monitoring-schedule/penguins-data-monitoring-schedule',\n",
       " 'MonitoringScheduleName': 'penguins-data-monitoring-schedule',\n",
       " 'MonitoringScheduleStatus': 'Scheduled',\n",
       " 'MonitoringType': 'DataQuality',\n",
       " 'CreationTime': datetime.datetime(2023, 7, 12, 12, 45, 52, 155000, tzinfo=tzlocal()),\n",
       " 'LastModifiedTime': datetime.datetime(2023, 7, 12, 14, 10, 15, 907000, tzinfo=tzlocal()),\n",
       " 'MonitoringScheduleConfig': {'ScheduleConfig': {'ScheduleExpression': 'cron(0 * ? * * *)'},\n",
       "  'MonitoringJobDefinitionName': 'data-quality-job-definition-2023-07-12-12-45-51-295',\n",
       "  'MonitoringType': 'DataQuality'},\n",
       " 'EndpointName': 'penguins-endpoint',\n",
       " 'LastMonitoringExecutionSummary': {'MonitoringScheduleName': 'penguins-data-monitoring-schedule',\n",
       "  'ScheduledTime': datetime.datetime(2023, 7, 12, 14, 0, tzinfo=tzlocal()),\n",
       "  'CreationTime': datetime.datetime(2023, 7, 12, 14, 1, 33, 466000, tzinfo=tzlocal()),\n",
       "  'LastModifiedTime': datetime.datetime(2023, 7, 12, 14, 10, 15, 896000, tzinfo=tzlocal()),\n",
       "  'MonitoringExecutionStatus': 'CompletedWithViolations',\n",
       "  'ProcessingJobArn': 'arn:aws:sagemaker:us-east-1:325223348818:processing-job/model-monitoring-202307121400-8f1990981857659f5d294410',\n",
       "  'EndpointName': 'penguins-endpoint'},\n",
       " 'ResponseMetadata': {'RequestId': 'bc8918c7-16ba-4e41-8e8d-ab06f1a51977',\n",
       "  'HTTPStatusCode': 200,\n",
       "  'HTTPHeaders': {'x-amzn-requestid': 'bc8918c7-16ba-4e41-8e8d-ab06f1a51977',\n",
       "   'content-type': 'application/x-amz-json-1.1',\n",
       "   'content-length': '973',\n",
       "   'date': 'Wed, 12 Jul 2023 14:32:34 GMT'},\n",
       "  'RetryAttempts': 0}}"
      ]
     },
     "execution_count": 38,
     "metadata": {},
     "output_type": "execute_result"
    }
   ],
   "source": [
    "description = data_monitor.describe_schedule()\n",
    "description"
   ]
  },
  {
   "cell_type": "code",
   "execution_count": 39,
   "id": "29a8d470-ca21-456a-af5c-580d91363ed0",
   "metadata": {
    "tags": []
   },
   "outputs": [
    {
     "name": "stdout",
     "output_type": "stream",
     "text": [
      "Status: CompletedWithViolations\n",
      "[\n",
      "  {\n",
      "    \"feature_name\": \"Extra columns\",\n",
      "    \"constraint_check_type\": \"extra_column_check\",\n",
      "    \"description\": \"There are extra columns in current dataset. Number of columns in current dataset: 8, Number of columns in baseline constraints: 6\"\n",
      "  }\n",
      "]\n"
     ]
    }
   ],
   "source": [
    "status = description[\"LastMonitoringExecutionSummary\"][\"MonitoringExecutionStatus\"]\n",
    "print(f\"Status: {status}\")\n",
    "\n",
    "if status == \"CompletedWithViolations\":\n",
    "    processing_job_arn = description[\"LastMonitoringExecutionSummary\"][\"ProcessingJobArn\"]\n",
    "    execution = MonitoringExecution.from_processing_arn(sagemaker_session=sagemaker_session, processing_job_arn=processing_job_arn)\n",
    "    execution_destination = execution.output.destination\n",
    "    \n",
    "    violations_filepath = os.path.join(execution_destination, \"constraint_violations.json\")\n",
    "    violations = json.loads(S3Downloader.read_file(violations_filepath))[\"violations\"]\n",
    "    \n",
    "    print(json.dumps(violations, indent=2))"
   ]
  },
  {
   "cell_type": "markdown",
   "id": "31be9c67-40cc-42c5-b435-74dc970c68f3",
   "metadata": {
    "tags": []
   },
   "source": [
    "### Delete Monitoring Schedule\n",
    "\n",
    "Let's stop the monitoring jobs by deleting the monitoring schedule we created before. The following function waits for the job to finish before deleting it."
   ]
  },
  {
   "cell_type": "code",
   "execution_count": 40,
   "id": "df8a7264-56d6-4009-8983-e861cf7059ef",
   "metadata": {
    "tags": []
   },
   "outputs": [],
   "source": [
    "def delete_monitoring_schedule(schedule):\n",
    "    attempts = 30\n",
    "    \n",
    "    try:\n",
    "        status = schedule.describe_schedule()[\"MonitoringScheduleStatus\"]\n",
    "    except Exception:\n",
    "        print(\"Monitoring schedule deleted.\")\n",
    "        return\n",
    "        \n",
    "    while status in (\"Pending\", \"InProgress\") and attempts > 0:\n",
    "        attempts -= 1\n",
    "        print(f\"Monitoring schedule status: {status}. Waiting for it to finish.\")\n",
    "        time.sleep(30)\n",
    "        status = schedule.describe_schedule()[\"MonitoringScheduleStatus\"]\n",
    "\n",
    "    if status not in (\"Pending\", \"InProgress\"):\n",
    "        schedule.delete_monitoring_schedule()\n",
    "        print(\"Monitoring schedule deleted.\")\n",
    "    else:\n",
    "        print(\"Waiting for monitoring schedule timed out\")"
   ]
  },
  {
   "cell_type": "code",
   "execution_count": 41,
   "id": "15d6bfac-e26c-437b-9b0f-e02822b5b4cb",
   "metadata": {},
   "outputs": [
    {
     "name": "stdout",
     "output_type": "stream",
     "text": [
      "\n",
      "Deleting Monitoring Schedule with name: penguins-data-monitoring-schedule\n",
      "Monitoring schedule deleted.\n"
     ]
    }
   ],
   "source": [
    "delete_monitoring_schedule(data_monitor)"
   ]
  },
  {
   "cell_type": "markdown",
   "id": "cae99171-37c8-4223-8b82-fdef179ec747",
   "metadata": {},
   "source": [
    "# Model Monitoring"
   ]
  },
  {
   "cell_type": "markdown",
   "id": "823f18a7-622b-49a4-ba26-dc4b51ab2f9c",
   "metadata": {},
   "source": [
    "## Step 7 - Generating Ground Truth Data\n",
    "\n",
    "To monitor our model, we need to generate ground truth data for the samples captured by the endpoint. We can simulate this by generating a random ground truth for every sample. Check [Ingest Ground Truth Labels and Merge Them With Predictions](https://docs.aws.amazon.com/sagemaker/latest/dg/model-monitor-model-quality-merge.html) for more information about this."
   ]
  },
  {
   "cell_type": "code",
   "execution_count": 128,
   "id": "6da6858f-0cf7-4289-a14c-494d96263742",
   "metadata": {
    "tags": []
   },
   "outputs": [],
   "source": [
    "ground_truth_path = f\"{S3_FILEPATH}/monitoring/groundtruth\" \n",
    "\n",
    "def generate_ground_truth_data(predictor, ground_truth_path):\n",
    "    \n",
    "    def _generate_ground_truth_record(inference_id):\n",
    "        random.seed(inference_id)\n",
    "\n",
    "        return {\n",
    "            \"groundTruthData\": {\n",
    "                \"data\": random.choice([\"Adelie\", \"Chinstrap\", \"Gentoo\"]),\n",
    "                \"encoding\": \"CSV\",\n",
    "            },\n",
    "            \"eventMetadata\": {\n",
    "                \"eventId\": str(inference_id),\n",
    "            },\n",
    "            \"eventVersion\": \"0\",\n",
    "        }\n",
    "\n",
    "\n",
    "    def _upload_ground_truth(records, upload_time):\n",
    "        records = [json.dumps(r) for r in records]\n",
    "        data = \"\\n\".join(records)\n",
    "        uri = f\"{ground_truth_path}/{upload_time:%Y/%m/%d/%H/%M%S}.jsonl\"\n",
    "\n",
    "        print(f\"Uploading ground truth data to {uri}...\")\n",
    "\n",
    "        S3Uploader.upload_string_as_file_body(data, uri)    \n",
    "\n",
    "                \n",
    "    def _generate_ground_truth_data(max_records, stop_ground_truth_thread):\n",
    "        while True:\n",
    "            records = [_generate_ground_truth_record(i) for i in range(max_records)]\n",
    "            _upload_ground_truth(records, datetime.utcnow())\n",
    "\n",
    "            if stop_ground_truth_thread.is_set():\n",
    "                break\n",
    "\n",
    "            sleep(30)\n",
    "\n",
    "                \n",
    "    stop_ground_truth_thread = Event()\n",
    "    data = pd.read_csv(LOCAL_FILEPATH).dropna()\n",
    "    \n",
    "    groundtruth_thread = Thread(\n",
    "        target=_generate_ground_truth_data,\n",
    "        args=(len(data), stop_ground_truth_thread,)\n",
    "    )\n",
    "    \n",
    "    groundtruth_thread.start()\n",
    "    \n",
    "    return stop_ground_truth_thread, traffic_thread\n"
   ]
  },
  {
   "cell_type": "code",
   "execution_count": null,
   "id": "7bac6efc-5dd6-4fa5-be4a-83f13887f756",
   "metadata": {},
   "outputs": [],
   "source": [
    "stop_traffic_thread, traffic_thread = generate_traffic(predictor)\n",
    "stop_ground_truth_thread, groundtruth_thread = generate_ground_truth_data(predictor, ground_truth_path)"
   ]
  },
  {
   "cell_type": "markdown",
   "id": "95da3db5-ba59-414e-9185-91f108956c4c",
   "metadata": {},
   "source": [
    "## Step 8 - Scheduling the Monitoring Job\n",
    "\n",
    "Let's set up a schedule to continuously monitor the quality of the model and compare it to the baseline we generated before. This monitoring job will use the baseline constraints we generated during the Model Quality Check Step. Check [Schedule Model Quality Monitoring Jobs](https://docs.aws.amazon.com/sagemaker/latest/dg/model-monitor-model-quality-schedule.html) for more information.\n",
    "\n",
    "To set up a Model Quality Monitoring Job, we can use the [ModelQualityMonitor](https://sagemaker.readthedocs.io/en/stable/api/inference/model_monitor.html#sagemaker.model_monitor.model_monitoring.ModelQualityMonitor) class. The [EndpointInput](https://sagemaker.readthedocs.io/en/v2.24.2/api/inference/model_monitor.html#sagemaker.model_monitor.model_monitoring.EndpointInput) instance configures the attribute the monitoring job should use to determine the prediction from the model.\n",
    "\n",
    "Check [Amazon SageMaker Model Quality Monitor](https://sagemaker-examples.readthedocs.io/en/latest/sagemaker_model_monitor/model_quality/model_quality_churn_sdk.html) for a complete tutorial on how to run a Model Monitoring Job in SageMaker."
   ]
  },
  {
   "cell_type": "code",
   "execution_count": 130,
   "id": "c8ec5229-3a5e-4e01-b9bd-b3f81ae79b67",
   "metadata": {
    "tags": []
   },
   "outputs": [
    {
     "name": "stderr",
     "output_type": "stream",
     "text": [
      "INFO:sagemaker.image_uris:Defaulting to the only supported framework/algorithm version: .\n",
      "INFO:sagemaker.image_uris:Ignoring unnecessary instance type: None.\n",
      "INFO:sagemaker.model_monitor.model_monitoring:Creating Monitoring Schedule with name: penguins-model-monitoring-schedule\n"
     ]
    }
   ],
   "source": [
    "model_monitor = ModelQualityMonitor(\n",
    "    instance_type=\"ml.m5.xlarge\",\n",
    "    instance_count=1,\n",
    "    max_runtime_in_seconds=1800,\n",
    "    role=role\n",
    ")\n",
    "\n",
    "model_monitor.create_monitoring_schedule(\n",
    "    monitor_schedule_name=\"penguins-model-monitoring-schedule\",\n",
    "    \n",
    "    endpoint_input = EndpointInput(\n",
    "        endpoint_name=predictor.endpoint_name,\n",
    "\n",
    "        # The endpoint returns an attribute `species` with the\n",
    "        # prediction from the model. That's the attribute we want to\n",
    "        # use to compare with the groundtruth.\n",
    "        inference_attribute=\"species\",\n",
    "\n",
    "        destination=\"/opt/ml/processing/input_data\",\n",
    "    ),\n",
    "    \n",
    "    problem_type=\"MulticlassClassification\",\n",
    "    ground_truth_input=ground_truth_path,\n",
    "    \n",
    "    constraints=f\"{model_quality_location}/constraints.json\",\n",
    "    \n",
    "    schedule_cron_expression=CronExpressionGenerator.hourly(),\n",
    "    output_s3_uri=f\"{S3_FILEPATH}/monitoring/model-quality\",\n",
    "    enable_cloudwatch_metrics=True,\n",
    ")"
   ]
  },
  {
   "cell_type": "markdown",
   "id": "58e354a6-2413-46e8-98d0-12589fe69809",
   "metadata": {},
   "source": [
    "## Step 9 - Checking Monitoring Violations\n",
    "\n",
    "We can check the results of the monitoring job by looking at whether it generated any violations."
   ]
  },
  {
   "cell_type": "code",
   "execution_count": 138,
   "id": "2642e685-1612-4055-b8f1-c48cb21a05ed",
   "metadata": {
    "tags": []
   },
   "outputs": [
    {
     "data": {
      "text/plain": [
       "{'MonitoringScheduleArn': 'arn:aws:sagemaker:us-east-1:325223348818:monitoring-schedule/penguins-model-monitoring-schedule',\n",
       " 'MonitoringScheduleName': 'penguins-model-monitoring-schedule',\n",
       " 'MonitoringScheduleStatus': 'Scheduled',\n",
       " 'MonitoringType': 'ModelQuality',\n",
       " 'CreationTime': datetime.datetime(2023, 6, 28, 12, 40, 7, 350000, tzinfo=tzlocal()),\n",
       " 'LastModifiedTime': datetime.datetime(2023, 6, 28, 13, 32, 55, 997000, tzinfo=tzlocal()),\n",
       " 'MonitoringScheduleConfig': {'ScheduleConfig': {'ScheduleExpression': 'cron(0 * ? * * *)'},\n",
       "  'MonitoringJobDefinitionName': 'model-quality-job-definition-2023-06-28-12-40-06-773',\n",
       "  'MonitoringType': 'ModelQuality'},\n",
       " 'EndpointName': 'penguins-endpoint',\n",
       " 'LastMonitoringExecutionSummary': {'MonitoringScheduleName': 'penguins-model-monitoring-schedule',\n",
       "  'ScheduledTime': datetime.datetime(2023, 6, 28, 13, 0, tzinfo=tzlocal()),\n",
       "  'CreationTime': datetime.datetime(2023, 6, 28, 13, 8, 8, 325000, tzinfo=tzlocal()),\n",
       "  'LastModifiedTime': datetime.datetime(2023, 6, 28, 13, 32, 55, 973000, tzinfo=tzlocal()),\n",
       "  'MonitoringExecutionStatus': 'CompletedWithViolations',\n",
       "  'ProcessingJobArn': 'arn:aws:sagemaker:us-east-1:325223348818:processing-job/model-quality-monitoring-202306281300-3abdef542610bc2a9d721bd5',\n",
       "  'EndpointName': 'penguins-endpoint'},\n",
       " 'ResponseMetadata': {'RequestId': '35f8ed07-228b-4dad-ada0-a17e1b0bc510',\n",
       "  'HTTPStatusCode': 200,\n",
       "  'HTTPHeaders': {'x-amzn-requestid': '35f8ed07-228b-4dad-ada0-a17e1b0bc510',\n",
       "   'content-type': 'application/x-amz-json-1.1',\n",
       "   'content-length': '986',\n",
       "   'date': 'Wed, 28 Jun 2023 13:39:37 GMT'},\n",
       "  'RetryAttempts': 0}}"
      ]
     },
     "execution_count": 138,
     "metadata": {},
     "output_type": "execute_result"
    }
   ],
   "source": [
    "description = model_monitor.describe_schedule()\n",
    "description"
   ]
  },
  {
   "cell_type": "code",
   "execution_count": 139,
   "id": "fefb18aa-d24b-4451-842d-b6722f270c81",
   "metadata": {
    "tags": []
   },
   "outputs": [
    {
     "name": "stdout",
     "output_type": "stream",
     "text": [
      "Status: CompletedWithViolations\n",
      "[\n",
      "  {\n",
      "    \"constraint_check_type\": \"LessThanThreshold\",\n",
      "    \"description\": \"Metric weightedF2 with 0.35210111607474637 +/- 2.489284148228981E-5 was LessThanThreshold '0.9807900477958932'\",\n",
      "    \"metric_name\": \"weightedF2\"\n",
      "  },\n",
      "  {\n",
      "    \"constraint_check_type\": \"LessThanThreshold\",\n",
      "    \"description\": \"Metric accuracy with 0.35944503735325506 +/- 1.8368026615194536E-5 was LessThanThreshold '0.9807692307692307'\",\n",
      "    \"metric_name\": \"accuracy\"\n",
      "  },\n",
      "  {\n",
      "    \"constraint_check_type\": \"LessThanThreshold\",\n",
      "    \"description\": \"Metric weightedRecall with 0.359445037353255 +/- 1.8368026615206323E-5 was LessThanThreshold '0.9807692307692308'\",\n",
      "    \"metric_name\": \"weightedRecall\"\n",
      "  },\n",
      "  {\n",
      "    \"constraint_check_type\": \"LessThanThreshold\",\n",
      "    \"description\": \"Metric weightedPrecision with 0.35481246824881185 +/- 3.635184951719884E-5 was LessThanThreshold '0.9835164835164835'\",\n",
      "    \"metric_name\": \"weightedPrecision\"\n",
      "  },\n",
      "  {\n",
      "    \"constraint_check_type\": \"LessThanThreshold\",\n",
      "    \"description\": \"Metric weightedF1 with 0.3465051396530874 +/- 3.2275683236335196E-5 was LessThanThreshold '0.9813459031190452'\",\n",
      "    \"metric_name\": \"weightedF1\"\n",
      "  }\n",
      "]\n",
      "Uploading ground truth data to s3://mlschool/penguins/monitoring/groundtruth/2023/06/28/13/3949.jsonl...\n",
      "Uploading ground truth data to s3://mlschool/penguins/monitoring/groundtruth/2023/06/28/13/4020.jsonl...\n",
      "Generating 334 predictions...\n",
      "Uploading ground truth data to s3://mlschool/penguins/monitoring/groundtruth/2023/06/28/13/4050.jsonl...\n"
     ]
    }
   ],
   "source": [
    "status = description[\"LastMonitoringExecutionSummary\"][\"MonitoringExecutionStatus\"]\n",
    "print(f\"Status: {status}\")\n",
    "\n",
    "if status == \"CompletedWithViolations\":\n",
    "    processing_job_arn = description[\"LastMonitoringExecutionSummary\"][\"ProcessingJobArn\"]\n",
    "    execution = MonitoringExecution.from_processing_arn(sagemaker_session=sagemaker_session, processing_job_arn=processing_job_arn)\n",
    "    execution_destination = execution.output.destination\n",
    "    \n",
    "    violations_filepath = os.path.join(execution_destination, \"constraint_violations.json\")\n",
    "    violations = json.loads(S3Downloader.read_file(violations_filepath))[\"violations\"]\n",
    "    \n",
    "    print(json.dumps(violations, indent=2))"
   ]
  },
  {
   "cell_type": "markdown",
   "id": "217ddb4a-888b-40d4-955d-704a6d9bfe23",
   "metadata": {},
   "source": [
    "## Step 10 - Cleaning up\n",
    "\n",
    "Let's stop the monitoring job by deleting the monitoring schedule we created before."
   ]
  },
  {
   "cell_type": "code",
   "execution_count": 62,
   "id": "1ba83468-e877-4359-8207-59070cc6870c",
   "metadata": {
    "tags": []
   },
   "outputs": [
    {
     "ename": "NameError",
     "evalue": "name 'model_monitor' is not defined",
     "output_type": "error",
     "traceback": [
      "\u001b[0;31m---------------------------------------------------------------------------\u001b[0m",
      "\u001b[0;31mNameError\u001b[0m                                 Traceback (most recent call last)",
      "\u001b[0;32m<ipython-input-62-6fd64e14894d>\u001b[0m in \u001b[0;36m<module>\u001b[0;34m\u001b[0m\n\u001b[0;32m----> 1\u001b[0;31m \u001b[0mdelete_monitoring_schedule\u001b[0m\u001b[0;34m(\u001b[0m\u001b[0mmodel_monitor\u001b[0m\u001b[0;34m)\u001b[0m\u001b[0;34m\u001b[0m\u001b[0;34m\u001b[0m\u001b[0m\n\u001b[0m",
      "\u001b[0;31mNameError\u001b[0m: name 'model_monitor' is not defined"
     ]
    }
   ],
   "source": [
    "delete_monitoring_schedule(model_monitor)"
   ]
  },
  {
   "cell_type": "code",
   "execution_count": 63,
   "id": "4825bfc3-2c63-4943-9339-ded1b6f53c31",
   "metadata": {
    "tags": []
   },
   "outputs": [
    {
     "ename": "NameError",
     "evalue": "name 'stop_traffic_thread' is not defined",
     "output_type": "error",
     "traceback": [
      "\u001b[0;31m---------------------------------------------------------------------------\u001b[0m",
      "\u001b[0;31mNameError\u001b[0m                                 Traceback (most recent call last)",
      "\u001b[0;32m<ipython-input-63-f91c5554bde6>\u001b[0m in \u001b[0;36m<module>\u001b[0;34m\u001b[0m\n\u001b[0;32m----> 1\u001b[0;31m \u001b[0mstop_traffic_thread\u001b[0m\u001b[0;34m.\u001b[0m\u001b[0mset\u001b[0m\u001b[0;34m(\u001b[0m\u001b[0;34m)\u001b[0m\u001b[0;34m\u001b[0m\u001b[0;34m\u001b[0m\u001b[0m\n\u001b[0m\u001b[1;32m      2\u001b[0m \u001b[0mstop_ground_truth_thread\u001b[0m\u001b[0;34m.\u001b[0m\u001b[0mset\u001b[0m\u001b[0;34m(\u001b[0m\u001b[0;34m)\u001b[0m\u001b[0;34m\u001b[0m\u001b[0;34m\u001b[0m\u001b[0m\n\u001b[1;32m      3\u001b[0m \u001b[0;34m\u001b[0m\u001b[0m\n\u001b[1;32m      4\u001b[0m \u001b[0mtraffic_thread\u001b[0m\u001b[0;34m.\u001b[0m\u001b[0mjoin\u001b[0m\u001b[0;34m(\u001b[0m\u001b[0;34m)\u001b[0m\u001b[0;34m\u001b[0m\u001b[0;34m\u001b[0m\u001b[0m\n\u001b[1;32m      5\u001b[0m \u001b[0mgroundtruth_thread\u001b[0m\u001b[0;34m.\u001b[0m\u001b[0mjoin\u001b[0m\u001b[0;34m(\u001b[0m\u001b[0;34m)\u001b[0m\u001b[0;34m\u001b[0m\u001b[0;34m\u001b[0m\u001b[0m\n",
      "\u001b[0;31mNameError\u001b[0m: name 'stop_traffic_thread' is not defined"
     ]
    }
   ],
   "source": [
    "stop_traffic_thread.set()\n",
    "stop_ground_truth_thread.set()\n",
    "\n",
    "traffic_thread.join()\n",
    "groundtruth_thread.join()"
   ]
  },
  {
   "cell_type": "code",
   "execution_count": null,
   "id": "eed92eb7-346e-4ae4-8617-ed720be9c691",
   "metadata": {},
   "outputs": [],
   "source": []
  }
 ],
 "metadata": {
  "availableInstances": [
   {
    "_defaultOrder": 0,
    "_isFastLaunch": true,
    "category": "General purpose",
    "gpuNum": 0,
    "hideHardwareSpecs": false,
    "memoryGiB": 4,
    "name": "ml.t3.medium",
    "vcpuNum": 2
   },
   {
    "_defaultOrder": 1,
    "_isFastLaunch": false,
    "category": "General purpose",
    "gpuNum": 0,
    "hideHardwareSpecs": false,
    "memoryGiB": 8,
    "name": "ml.t3.large",
    "vcpuNum": 2
   },
   {
    "_defaultOrder": 2,
    "_isFastLaunch": false,
    "category": "General purpose",
    "gpuNum": 0,
    "hideHardwareSpecs": false,
    "memoryGiB": 16,
    "name": "ml.t3.xlarge",
    "vcpuNum": 4
   },
   {
    "_defaultOrder": 3,
    "_isFastLaunch": false,
    "category": "General purpose",
    "gpuNum": 0,
    "hideHardwareSpecs": false,
    "memoryGiB": 32,
    "name": "ml.t3.2xlarge",
    "vcpuNum": 8
   },
   {
    "_defaultOrder": 4,
    "_isFastLaunch": true,
    "category": "General purpose",
    "gpuNum": 0,
    "hideHardwareSpecs": false,
    "memoryGiB": 8,
    "name": "ml.m5.large",
    "vcpuNum": 2
   },
   {
    "_defaultOrder": 5,
    "_isFastLaunch": false,
    "category": "General purpose",
    "gpuNum": 0,
    "hideHardwareSpecs": false,
    "memoryGiB": 16,
    "name": "ml.m5.xlarge",
    "vcpuNum": 4
   },
   {
    "_defaultOrder": 6,
    "_isFastLaunch": false,
    "category": "General purpose",
    "gpuNum": 0,
    "hideHardwareSpecs": false,
    "memoryGiB": 32,
    "name": "ml.m5.2xlarge",
    "vcpuNum": 8
   },
   {
    "_defaultOrder": 7,
    "_isFastLaunch": false,
    "category": "General purpose",
    "gpuNum": 0,
    "hideHardwareSpecs": false,
    "memoryGiB": 64,
    "name": "ml.m5.4xlarge",
    "vcpuNum": 16
   },
   {
    "_defaultOrder": 8,
    "_isFastLaunch": false,
    "category": "General purpose",
    "gpuNum": 0,
    "hideHardwareSpecs": false,
    "memoryGiB": 128,
    "name": "ml.m5.8xlarge",
    "vcpuNum": 32
   },
   {
    "_defaultOrder": 9,
    "_isFastLaunch": false,
    "category": "General purpose",
    "gpuNum": 0,
    "hideHardwareSpecs": false,
    "memoryGiB": 192,
    "name": "ml.m5.12xlarge",
    "vcpuNum": 48
   },
   {
    "_defaultOrder": 10,
    "_isFastLaunch": false,
    "category": "General purpose",
    "gpuNum": 0,
    "hideHardwareSpecs": false,
    "memoryGiB": 256,
    "name": "ml.m5.16xlarge",
    "vcpuNum": 64
   },
   {
    "_defaultOrder": 11,
    "_isFastLaunch": false,
    "category": "General purpose",
    "gpuNum": 0,
    "hideHardwareSpecs": false,
    "memoryGiB": 384,
    "name": "ml.m5.24xlarge",
    "vcpuNum": 96
   },
   {
    "_defaultOrder": 12,
    "_isFastLaunch": false,
    "category": "General purpose",
    "gpuNum": 0,
    "hideHardwareSpecs": false,
    "memoryGiB": 8,
    "name": "ml.m5d.large",
    "vcpuNum": 2
   },
   {
    "_defaultOrder": 13,
    "_isFastLaunch": false,
    "category": "General purpose",
    "gpuNum": 0,
    "hideHardwareSpecs": false,
    "memoryGiB": 16,
    "name": "ml.m5d.xlarge",
    "vcpuNum": 4
   },
   {
    "_defaultOrder": 14,
    "_isFastLaunch": false,
    "category": "General purpose",
    "gpuNum": 0,
    "hideHardwareSpecs": false,
    "memoryGiB": 32,
    "name": "ml.m5d.2xlarge",
    "vcpuNum": 8
   },
   {
    "_defaultOrder": 15,
    "_isFastLaunch": false,
    "category": "General purpose",
    "gpuNum": 0,
    "hideHardwareSpecs": false,
    "memoryGiB": 64,
    "name": "ml.m5d.4xlarge",
    "vcpuNum": 16
   },
   {
    "_defaultOrder": 16,
    "_isFastLaunch": false,
    "category": "General purpose",
    "gpuNum": 0,
    "hideHardwareSpecs": false,
    "memoryGiB": 128,
    "name": "ml.m5d.8xlarge",
    "vcpuNum": 32
   },
   {
    "_defaultOrder": 17,
    "_isFastLaunch": false,
    "category": "General purpose",
    "gpuNum": 0,
    "hideHardwareSpecs": false,
    "memoryGiB": 192,
    "name": "ml.m5d.12xlarge",
    "vcpuNum": 48
   },
   {
    "_defaultOrder": 18,
    "_isFastLaunch": false,
    "category": "General purpose",
    "gpuNum": 0,
    "hideHardwareSpecs": false,
    "memoryGiB": 256,
    "name": "ml.m5d.16xlarge",
    "vcpuNum": 64
   },
   {
    "_defaultOrder": 19,
    "_isFastLaunch": false,
    "category": "General purpose",
    "gpuNum": 0,
    "hideHardwareSpecs": false,
    "memoryGiB": 384,
    "name": "ml.m5d.24xlarge",
    "vcpuNum": 96
   },
   {
    "_defaultOrder": 20,
    "_isFastLaunch": false,
    "category": "General purpose",
    "gpuNum": 0,
    "hideHardwareSpecs": true,
    "memoryGiB": 0,
    "name": "ml.geospatial.interactive",
    "supportedImageNames": [
     "sagemaker-geospatial-v1-0"
    ],
    "vcpuNum": 0
   },
   {
    "_defaultOrder": 21,
    "_isFastLaunch": true,
    "category": "Compute optimized",
    "gpuNum": 0,
    "hideHardwareSpecs": false,
    "memoryGiB": 4,
    "name": "ml.c5.large",
    "vcpuNum": 2
   },
   {
    "_defaultOrder": 22,
    "_isFastLaunch": false,
    "category": "Compute optimized",
    "gpuNum": 0,
    "hideHardwareSpecs": false,
    "memoryGiB": 8,
    "name": "ml.c5.xlarge",
    "vcpuNum": 4
   },
   {
    "_defaultOrder": 23,
    "_isFastLaunch": false,
    "category": "Compute optimized",
    "gpuNum": 0,
    "hideHardwareSpecs": false,
    "memoryGiB": 16,
    "name": "ml.c5.2xlarge",
    "vcpuNum": 8
   },
   {
    "_defaultOrder": 24,
    "_isFastLaunch": false,
    "category": "Compute optimized",
    "gpuNum": 0,
    "hideHardwareSpecs": false,
    "memoryGiB": 32,
    "name": "ml.c5.4xlarge",
    "vcpuNum": 16
   },
   {
    "_defaultOrder": 25,
    "_isFastLaunch": false,
    "category": "Compute optimized",
    "gpuNum": 0,
    "hideHardwareSpecs": false,
    "memoryGiB": 72,
    "name": "ml.c5.9xlarge",
    "vcpuNum": 36
   },
   {
    "_defaultOrder": 26,
    "_isFastLaunch": false,
    "category": "Compute optimized",
    "gpuNum": 0,
    "hideHardwareSpecs": false,
    "memoryGiB": 96,
    "name": "ml.c5.12xlarge",
    "vcpuNum": 48
   },
   {
    "_defaultOrder": 27,
    "_isFastLaunch": false,
    "category": "Compute optimized",
    "gpuNum": 0,
    "hideHardwareSpecs": false,
    "memoryGiB": 144,
    "name": "ml.c5.18xlarge",
    "vcpuNum": 72
   },
   {
    "_defaultOrder": 28,
    "_isFastLaunch": false,
    "category": "Compute optimized",
    "gpuNum": 0,
    "hideHardwareSpecs": false,
    "memoryGiB": 192,
    "name": "ml.c5.24xlarge",
    "vcpuNum": 96
   },
   {
    "_defaultOrder": 29,
    "_isFastLaunch": true,
    "category": "Accelerated computing",
    "gpuNum": 1,
    "hideHardwareSpecs": false,
    "memoryGiB": 16,
    "name": "ml.g4dn.xlarge",
    "vcpuNum": 4
   },
   {
    "_defaultOrder": 30,
    "_isFastLaunch": false,
    "category": "Accelerated computing",
    "gpuNum": 1,
    "hideHardwareSpecs": false,
    "memoryGiB": 32,
    "name": "ml.g4dn.2xlarge",
    "vcpuNum": 8
   },
   {
    "_defaultOrder": 31,
    "_isFastLaunch": false,
    "category": "Accelerated computing",
    "gpuNum": 1,
    "hideHardwareSpecs": false,
    "memoryGiB": 64,
    "name": "ml.g4dn.4xlarge",
    "vcpuNum": 16
   },
   {
    "_defaultOrder": 32,
    "_isFastLaunch": false,
    "category": "Accelerated computing",
    "gpuNum": 1,
    "hideHardwareSpecs": false,
    "memoryGiB": 128,
    "name": "ml.g4dn.8xlarge",
    "vcpuNum": 32
   },
   {
    "_defaultOrder": 33,
    "_isFastLaunch": false,
    "category": "Accelerated computing",
    "gpuNum": 4,
    "hideHardwareSpecs": false,
    "memoryGiB": 192,
    "name": "ml.g4dn.12xlarge",
    "vcpuNum": 48
   },
   {
    "_defaultOrder": 34,
    "_isFastLaunch": false,
    "category": "Accelerated computing",
    "gpuNum": 1,
    "hideHardwareSpecs": false,
    "memoryGiB": 256,
    "name": "ml.g4dn.16xlarge",
    "vcpuNum": 64
   },
   {
    "_defaultOrder": 35,
    "_isFastLaunch": false,
    "category": "Accelerated computing",
    "gpuNum": 1,
    "hideHardwareSpecs": false,
    "memoryGiB": 61,
    "name": "ml.p3.2xlarge",
    "vcpuNum": 8
   },
   {
    "_defaultOrder": 36,
    "_isFastLaunch": false,
    "category": "Accelerated computing",
    "gpuNum": 4,
    "hideHardwareSpecs": false,
    "memoryGiB": 244,
    "name": "ml.p3.8xlarge",
    "vcpuNum": 32
   },
   {
    "_defaultOrder": 37,
    "_isFastLaunch": false,
    "category": "Accelerated computing",
    "gpuNum": 8,
    "hideHardwareSpecs": false,
    "memoryGiB": 488,
    "name": "ml.p3.16xlarge",
    "vcpuNum": 64
   },
   {
    "_defaultOrder": 38,
    "_isFastLaunch": false,
    "category": "Accelerated computing",
    "gpuNum": 8,
    "hideHardwareSpecs": false,
    "memoryGiB": 768,
    "name": "ml.p3dn.24xlarge",
    "vcpuNum": 96
   },
   {
    "_defaultOrder": 39,
    "_isFastLaunch": false,
    "category": "Memory Optimized",
    "gpuNum": 0,
    "hideHardwareSpecs": false,
    "memoryGiB": 16,
    "name": "ml.r5.large",
    "vcpuNum": 2
   },
   {
    "_defaultOrder": 40,
    "_isFastLaunch": false,
    "category": "Memory Optimized",
    "gpuNum": 0,
    "hideHardwareSpecs": false,
    "memoryGiB": 32,
    "name": "ml.r5.xlarge",
    "vcpuNum": 4
   },
   {
    "_defaultOrder": 41,
    "_isFastLaunch": false,
    "category": "Memory Optimized",
    "gpuNum": 0,
    "hideHardwareSpecs": false,
    "memoryGiB": 64,
    "name": "ml.r5.2xlarge",
    "vcpuNum": 8
   },
   {
    "_defaultOrder": 42,
    "_isFastLaunch": false,
    "category": "Memory Optimized",
    "gpuNum": 0,
    "hideHardwareSpecs": false,
    "memoryGiB": 128,
    "name": "ml.r5.4xlarge",
    "vcpuNum": 16
   },
   {
    "_defaultOrder": 43,
    "_isFastLaunch": false,
    "category": "Memory Optimized",
    "gpuNum": 0,
    "hideHardwareSpecs": false,
    "memoryGiB": 256,
    "name": "ml.r5.8xlarge",
    "vcpuNum": 32
   },
   {
    "_defaultOrder": 44,
    "_isFastLaunch": false,
    "category": "Memory Optimized",
    "gpuNum": 0,
    "hideHardwareSpecs": false,
    "memoryGiB": 384,
    "name": "ml.r5.12xlarge",
    "vcpuNum": 48
   },
   {
    "_defaultOrder": 45,
    "_isFastLaunch": false,
    "category": "Memory Optimized",
    "gpuNum": 0,
    "hideHardwareSpecs": false,
    "memoryGiB": 512,
    "name": "ml.r5.16xlarge",
    "vcpuNum": 64
   },
   {
    "_defaultOrder": 46,
    "_isFastLaunch": false,
    "category": "Memory Optimized",
    "gpuNum": 0,
    "hideHardwareSpecs": false,
    "memoryGiB": 768,
    "name": "ml.r5.24xlarge",
    "vcpuNum": 96
   },
   {
    "_defaultOrder": 47,
    "_isFastLaunch": false,
    "category": "Accelerated computing",
    "gpuNum": 1,
    "hideHardwareSpecs": false,
    "memoryGiB": 16,
    "name": "ml.g5.xlarge",
    "vcpuNum": 4
   },
   {
    "_defaultOrder": 48,
    "_isFastLaunch": false,
    "category": "Accelerated computing",
    "gpuNum": 1,
    "hideHardwareSpecs": false,
    "memoryGiB": 32,
    "name": "ml.g5.2xlarge",
    "vcpuNum": 8
   },
   {
    "_defaultOrder": 49,
    "_isFastLaunch": false,
    "category": "Accelerated computing",
    "gpuNum": 1,
    "hideHardwareSpecs": false,
    "memoryGiB": 64,
    "name": "ml.g5.4xlarge",
    "vcpuNum": 16
   },
   {
    "_defaultOrder": 50,
    "_isFastLaunch": false,
    "category": "Accelerated computing",
    "gpuNum": 1,
    "hideHardwareSpecs": false,
    "memoryGiB": 128,
    "name": "ml.g5.8xlarge",
    "vcpuNum": 32
   },
   {
    "_defaultOrder": 51,
    "_isFastLaunch": false,
    "category": "Accelerated computing",
    "gpuNum": 1,
    "hideHardwareSpecs": false,
    "memoryGiB": 256,
    "name": "ml.g5.16xlarge",
    "vcpuNum": 64
   },
   {
    "_defaultOrder": 52,
    "_isFastLaunch": false,
    "category": "Accelerated computing",
    "gpuNum": 4,
    "hideHardwareSpecs": false,
    "memoryGiB": 192,
    "name": "ml.g5.12xlarge",
    "vcpuNum": 48
   },
   {
    "_defaultOrder": 53,
    "_isFastLaunch": false,
    "category": "Accelerated computing",
    "gpuNum": 4,
    "hideHardwareSpecs": false,
    "memoryGiB": 384,
    "name": "ml.g5.24xlarge",
    "vcpuNum": 96
   },
   {
    "_defaultOrder": 54,
    "_isFastLaunch": false,
    "category": "Accelerated computing",
    "gpuNum": 8,
    "hideHardwareSpecs": false,
    "memoryGiB": 768,
    "name": "ml.g5.48xlarge",
    "vcpuNum": 192
   },
   {
    "_defaultOrder": 55,
    "_isFastLaunch": false,
    "category": "Accelerated computing",
    "gpuNum": 8,
    "hideHardwareSpecs": false,
    "memoryGiB": 1152,
    "name": "ml.p4d.24xlarge",
    "vcpuNum": 96
   },
   {
    "_defaultOrder": 56,
    "_isFastLaunch": false,
    "category": "Accelerated computing",
    "gpuNum": 8,
    "hideHardwareSpecs": false,
    "memoryGiB": 1152,
    "name": "ml.p4de.24xlarge",
    "vcpuNum": 96
   }
  ],
  "instance_type": "ml.t3.medium",
  "kernelspec": {
   "display_name": "Python 3 (TensorFlow 2.6 Python 3.8 CPU Optimized)",
   "language": "python",
   "name": "python3__SAGEMAKER_INTERNAL__arn:aws:sagemaker:us-east-1:081325390199:image/tensorflow-2.6-cpu-py38-ubuntu20.04-v1"
  },
  "language_info": {
   "codemirror_mode": {
    "name": "ipython",
    "version": 3
   },
   "file_extension": ".py",
   "mimetype": "text/x-python",
   "name": "python",
   "nbconvert_exporter": "python",
   "pygments_lexer": "ipython3",
   "version": "3.8.2"
  },
  "toc-autonumbering": false,
  "toc-showcode": false,
  "toc-showmarkdowntxt": false
 },
 "nbformat": 4,
 "nbformat_minor": 5
}
