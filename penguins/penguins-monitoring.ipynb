{
 "cells": [
  {
   "cell_type": "markdown",
   "id": "3b063218-609d-43a3-8e46-37e1738ad3ba",
   "metadata": {},
   "source": [
    "# Monitoring\n",
    "\n",
    "This notebook takes care of scheduling the monitoring jobs.\n",
    "\n",
    "This notebook is part of the [Machine Learning School](https://www.ml.school) program."
   ]
  },
  {
   "cell_type": "code",
   "execution_count": 5,
   "id": "77cc3eac-251d-4114-ae39-2e2957d8b658",
   "metadata": {},
   "outputs": [],
   "source": [
    "import boto3\n",
    "import json\n",
    "import os\n",
    "import sagemaker\n",
    "import sys\n",
    "\n",
    "from pathlib import Path\n",
    "from time import sleep\n",
    "from IPython.display import JSON\n",
    "from sagemaker.s3 import S3Downloader\n",
    "from sagemaker.model_monitor import (\n",
    "    CronExpressionGenerator, DefaultModelMonitor, MonitoringExecution,\n",
    "    ModelQualityMonitor, EndpointInput\n",
    ")\n",
    "\n",
    "CODE_FOLDER = Path(\"code\")\n",
    "sys.path.append(f\"./{CODE_FOLDER}\")"
   ]
  },
  {
   "cell_type": "code",
   "execution_count": 6,
   "id": "bd98d8e7-5569-4ace-8f27-103332809ee6",
   "metadata": {
    "tags": []
   },
   "outputs": [],
   "source": [
    "from constants import *\n",
    "\n",
    "ENDPOINT = \"penguins-endpoint\"\n",
    "\n",
    "DATA_QUALITY_LOCATION = f\"{S3_LOCATION}/monitoring/data-quality\"\n",
    "MODEL_QUALITY_LOCATION = f\"{S3_LOCATION}/monitoring/model-quality\""
   ]
  },
  {
   "cell_type": "markdown",
   "id": "9506e9e9-4935-45c2-b118-f342f6ae130c",
   "metadata": {},
   "source": [
    "The following functions will help us work with monitoring schedules later on."
   ]
  },
  {
   "cell_type": "code",
   "execution_count": 7,
   "id": "ce7faec8-93a9-4671-8e0f-8f7401f7d8b7",
   "metadata": {
    "tags": []
   },
   "outputs": [],
   "source": [
    "def describe_monitoring_schedules(endpoint_name):\n",
    "    schedules = []\n",
    "    response = sagemaker_client.list_monitoring_schedules(EndpointName=endpoint_name)[\"MonitoringScheduleSummaries\"]\n",
    "    for item in response:\n",
    "        name = item[\"MonitoringScheduleName\"]\n",
    "        schedule = {\n",
    "            \"MonitoringScheduleName\": name,\n",
    "            \"MonitoringType\": item[\"MonitoringType\"]\n",
    "        }\n",
    "        \n",
    "        description = sagemaker_client.describe_monitoring_schedule(\n",
    "            MonitoringScheduleName=name\n",
    "        )\n",
    "        \n",
    "        schedule[\"Status\"] = description[\"LastMonitoringExecutionSummary\"][\"MonitoringExecutionStatus\"]\n",
    "        \n",
    "        if schedule[\"Status\"] == \"Failed\":\n",
    "            schedule[\"FailureReason\"] = description[\"LastMonitoringExecutionSummary\"][\"FailureReason\"]\n",
    "        elif schedule[\"Status\"] == \"CompletedWithViolations\":\n",
    "            processing_job_arn = description[\"LastMonitoringExecutionSummary\"][\"ProcessingJobArn\"]\n",
    "            execution = MonitoringExecution.from_processing_arn(\n",
    "                sagemaker_session=sagemaker_session, \n",
    "                processing_job_arn=processing_job_arn\n",
    "            )\n",
    "            execution_destination = execution.output.destination\n",
    "\n",
    "            violations_filepath = os.path.join(execution_destination, \"constraint_violations.json\")\n",
    "            violations = json.loads(S3Downloader.read_file(violations_filepath))[\"violations\"]\n",
    "            \n",
    "            schedule[\"Violations\"] = violations\n",
    "\n",
    "        schedules.append(schedule)\n",
    "        \n",
    "    return schedules\n",
    "\n",
    "def describe_monitoring_schedule(endpoint_name, monitoring_type):\n",
    "    found = False\n",
    "    \n",
    "    schedules = describe_monitoring_schedules(endpoint_name)\n",
    "    for schedule in schedules:\n",
    "        if schedule[\"MonitoringType\"] == monitoring_type:\n",
    "            found = True\n",
    "            print(json.dumps(schedule, indent=2))\n",
    "\n",
    "    if not found:            \n",
    "        print(f\"There's no {monitoring_type} Monitoring Schedule.\")\n",
    "\n",
    "\n",
    "def describe_data_monitoring_schedule(endpoint_name):\n",
    "    describe_monitoring_schedule(endpoint_name, \"DataQuality\")\n",
    "\n",
    "    \n",
    "def describe_model_monitoring_schedule(endpoint_name):\n",
    "    describe_monitoring_schedule(endpoint_name, \"ModelQuality\")\n",
    "\n",
    "    \n",
    "def delete_monitoring_schedule(endpoint_name, monitoring_type):\n",
    "    attempts = 30\n",
    "    found = False\n",
    "    \n",
    "    response = sagemaker_client.list_monitoring_schedules(EndpointName=endpoint_name)[\"MonitoringScheduleSummaries\"]\n",
    "    for item in response:\n",
    "        if item[\"MonitoringType\"] == monitoring_type:\n",
    "            found = True\n",
    "            status = sagemaker_client.describe_monitoring_schedule(\n",
    "                MonitoringScheduleName=item[\"MonitoringScheduleName\"]\n",
    "            )[\"MonitoringScheduleStatus\"]\n",
    "            while status in (\"Pending\", \"InProgress\") and attempts > 0:\n",
    "                attempts -= 1\n",
    "                print(f\"Monitoring schedule status: {status}. Waiting for it to finish.\")\n",
    "                sleep(30)\n",
    "                \n",
    "                status = sagemaker_client.describe_monitoring_schedule(\n",
    "                    MonitoringScheduleName=item[\"MonitoringScheduleName\"]\n",
    "                )[\"MonitoringScheduleStatus\"]\n",
    "\n",
    "            if status not in (\"Pending\", \"InProgress\"):\n",
    "                sagemaker_client.delete_monitoring_schedule(\n",
    "                    MonitoringScheduleName=item[\"MonitoringScheduleName\"]\n",
    "                )\n",
    "                print(\"Monitoring schedule deleted.\")\n",
    "            else:\n",
    "                print(\"Waiting for monitoring schedule timed out\")\n",
    "                \n",
    "    if not found:            \n",
    "        print(f\"There's no {monitoring_type} Monitoring Schedule.\")\n",
    "\n",
    "        \n",
    "def delete_data_monitoring_schedule(endpoint_name):\n",
    "    delete_monitoring_schedule(endpoint_name, \"DataQuality\")\n",
    "\n",
    "    \n",
    "def delete_model_monitoring_schedule(endpoint_name):\n",
    "    delete_monitoring_schedule(endpoint_name, \"ModelQuality\")\n"
   ]
  },
  {
   "cell_type": "markdown",
   "id": "00b7ba7b-433c-463c-8e5e-8b975a5be463",
   "metadata": {
    "jp-MarkdownHeadingCollapsed": true,
    "tags": []
   },
   "source": [
    "## Data Monitoring"
   ]
  },
  {
   "cell_type": "markdown",
   "id": "db2d4b5a-595b-4ca3-a7da-f8a04b26eab0",
   "metadata": {
    "tags": []
   },
   "source": [
    "### Statistics and Constraints\n",
    "\n",
    "Our pipeline generated baseline statistics and constraints using our train set. We can take a look at what these values look like by downloading them from S3."
   ]
  },
  {
   "cell_type": "code",
   "execution_count": 29,
   "id": "30e9d9e8-fb29-4e32-a1a4-1372448a04eb",
   "metadata": {
    "tags": []
   },
   "outputs": [
    {
     "data": {
      "application/json": {
       "dataset": {
        "item_count": 239
       },
       "features": [
        {
         "inferred_type": "Fractional",
         "name": "body_mass_g",
         "numerical_statistics": {
          "common": {
           "num_missing": 0,
           "num_present": 239
          },
          "distribution": {
           "kll": {
            "buckets": [
             {
              "count": 15,
              "lower_bound": 2850,
              "upper_bound": 3195
             },
             {
              "count": 41,
              "lower_bound": 3195,
              "upper_bound": 3540
             },
             {
              "count": 48,
              "lower_bound": 3540,
              "upper_bound": 3885
             },
             {
              "count": 32,
              "lower_bound": 3885,
              "upper_bound": 4230
             },
             {
              "count": 26,
              "lower_bound": 4230,
              "upper_bound": 4575
             },
             {
              "count": 24,
              "lower_bound": 4575,
              "upper_bound": 4920
             },
             {
              "count": 17,
              "lower_bound": 4920,
              "upper_bound": 5265
             },
             {
              "count": 20,
              "lower_bound": 5265,
              "upper_bound": 5610
             },
             {
              "count": 12,
              "lower_bound": 5610,
              "upper_bound": 5955
             },
             {
              "count": 4,
              "lower_bound": 5955,
              "upper_bound": 6300
             }
            ],
            "sketch": {
             "data": [
              [
               5150,
               5350,
               4650,
               3150,
               3250,
               4400,
               3800,
               3625,
               3100,
               5150,
               4300,
               3900,
               4050,
               3500,
               6050,
               3500,
               4600,
               3900,
               2900,
               3200,
               4400,
               5500,
               4250,
               4200,
               5500,
               3500,
               4675,
               5350,
               3350,
               4900,
               3400,
               4800,
               5550,
               4350,
               4000,
               5400,
               4450,
               3075,
               2850,
               4200,
               3600,
               4600,
               3800,
               3725,
               4775,
               4925,
               5950,
               4725,
               3800,
               3650,
               3900,
               3750,
               3650,
               3750,
               4700,
               5750,
               3500,
               4250,
               4500,
               4050,
               5050,
               3900,
               5800,
               5300,
               3950,
               4100,
               4400,
               4400,
               2900,
               4850,
               3250,
               3250,
               3800,
               5000,
               5450,
               5300,
               4300,
               3300,
               4500,
               5400,
               4450,
               3700,
               4100,
               3400,
               3900,
               4150,
               3550,
               4000,
               5550,
               4800,
               3500,
               3350,
               4500,
               3900,
               3400,
               5100,
               3550,
               3275,
               3050,
               3725,
               3600,
               3450,
               3500,
               3325,
               3150,
               3750,
               4700,
               3700,
               3400,
               4450,
               4000,
               3525,
               3800,
               5300,
               5250,
               3950,
               3950,
               4400,
               3725,
               3600,
               3350,
               4975,
               3550,
               3800,
               3550,
               3450,
               5700,
               3550,
               3325,
               5500,
               3450,
               5550,
               5200,
               5000,
               3900,
               3450,
               4100,
               3700,
               5850,
               5100,
               3700,
               3950,
               3325,
               3700,
               3800,
               3950,
               3425,
               3050,
               5000,
               4200,
               4650,
               4100,
               3050,
               3550,
               5400,
               3525,
               3900,
               3350,
               4300,
               4550,
               3300,
               4050,
               3450,
               6000,
               3875,
               3750,
               4075,
               6000,
               3600,
               5550,
               4000,
               4875,
               4050,
               4400,
               3175,
               4700,
               5650,
               4300,
               3850,
               3425,
               3650,
               4550,
               3800,
               3650,
               3775,
               6300,
               4650,
               5300,
               5400,
               4050,
               3350,
               4750,
               3650,
               5550,
               3575,
               4300,
               5000,
               5250,
               4100,
               4250,
               5650,
               3775,
               4450,
               5050,
               4700,
               2925,
               2850,
               3400,
               3150,
               3700,
               4400,
               3200,
               3700,
               5050,
               3175,
               3800,
               3825,
               5400,
               5800,
               4875,
               3300,
               5000,
               4850,
               3400,
               4850,
               5650,
               5700,
               5700,
               4700,
               3675,
               3400,
               3700,
               4600,
               4475,
               3325,
               5850,
               3775,
               3450,
               4625
              ]
             ],
             "parameters": {
              "c": 0.64,
              "k": 2048
             }
            }
           }
          },
          "max": 6300,
          "mean": 4211.9246861924685,
          "min": 2850,
          "std_dev": 810.3275969702083,
          "sum": 1006650
         }
        },
        {
         "inferred_type": "Fractional",
         "name": "culmen_depth_mm",
         "numerical_statistics": {
          "common": {
           "num_missing": 0,
           "num_present": 239
          },
          "distribution": {
           "kll": {
            "buckets": [
             {
              "count": 12,
              "lower_bound": 13.1,
              "upper_bound": 13.94
             },
             {
              "count": 23,
              "lower_bound": 13.94,
              "upper_bound": 14.78
             },
             {
              "count": 23,
              "lower_bound": 14.78,
              "upper_bound": 15.620000000000001
             },
             {
              "count": 24,
              "lower_bound": 15.620000000000001,
              "upper_bound": 16.46
             },
             {
              "count": 31,
              "lower_bound": 16.46,
              "upper_bound": 17.3
             },
             {
              "count": 39,
              "lower_bound": 17.3,
              "upper_bound": 18.14
             },
             {
              "count": 46,
              "lower_bound": 18.14,
              "upper_bound": 18.98
             },
             {
              "count": 25,
              "lower_bound": 18.98,
              "upper_bound": 19.82
             },
             {
              "count": 10,
              "lower_bound": 19.82,
              "upper_bound": 20.66
             },
             {
              "count": 6,
              "lower_bound": 20.66,
              "upper_bound": 21.5
             }
            ],
            "sketch": {
             "data": [
              [
               15.4,
               15.7,
               19.1,
               18.6,
               16.7,
               13.4,
               18.9,
               17.8,
               18.5,
               14.8,
               19.6,
               18.4,
               19.7,
               19.8,
               17,
               19.2,
               18.8,
               18.9,
               16.6,
               17.6,
               18.2,
               16.1,
               18.6,
               13.8,
               16.3,
               17.9,
               19.6,
               15.1,
               17,
               13.9,
               17.5,
               14.6,
               15.9,
               18.5,
               19.8,
               16.3,
               18.5,
               16,
               17.1,
               21.5,
               17.3,
               14.3,
               19.2,
               17,
               19,
               13.7,
               15.9,
               20,
               21.2,
               16.5,
               16.8,
               18.1,
               18.7,
               17.2,
               15,
               15.7,
               18.5,
               20,
               20.7,
               18.2,
               14.5,
               19.5,
               16,
               14.1,
               18.9,
               14.3,
               21.1,
               13.9,
               16.1,
               15,
               18.2,
               16.6,
               18.8,
               14.5,
               15.6,
               14.2,
               18.9,
               17.8,
               13.2,
               17.1,
               14.5,
               17.8,
               18.5,
               18.4,
               20,
               19,
               20.3,
               18.5,
               15.3,
               20.7,
               17.7,
               17.3,
               19.9,
               18.4,
               18.3,
               13.3,
               18.9,
               17.6,
               16.6,
               17.9,
               18.6,
               18.6,
               17,
               17.9,
               16.9,
               18.2,
               14.2,
               17.3,
               18.1,
               18.1,
               18,
               19.4,
               18.8,
               14.9,
               16.5,
               19,
               18.1,
               14.4,
               19.8,
               18.7,
               17.8,
               15.5,
               17.2,
               17.2,
               18,
               17.9,
               15.2,
               18.5,
               17,
               15.1,
               17.9,
               15.3,
               15.7,
               15.2,
               18.1,
               19,
               19.1,
               19.9,
               14.6,
               15.1,
               17.1,
               20,
               18.4,
               18.6,
               17.8,
               19.5,
               17.6,
               15.5,
               15,
               14.6,
               15.2,
               18.8,
               17.1,
               16.1,
               15.9,
               18.7,
               17.5,
               16.7,
               13.9,
               20,
               17.3,
               18.1,
               17.8,
               16.2,
               18.5,
               18.7,
               18.3,
               16.3,
               17,
               15,
               19,
               14,
               19.6,
               21.1,
               17,
               14.7,
               15,
               18.1,
               18.3,
               19,
               20.6,
               13.5,
               19.4,
               17.5,
               18.2,
               15.2,
               13.7,
               15.8,
               14.5,
               19.5,
               16.2,
               13.8,
               19.2,
               17,
               17.1,
               18.3,
               13.1,
               15.3,
               19,
               18.5,
               15.7,
               20.3,
               14.1,
               15.4,
               17.6,
               18.6,
               16.6,
               17.1,
               17.2,
               17.3,
               14.5,
               17.9,
               18.6,
               15.8,
               17.5,
               18.8,
               16.5,
               16.1,
               16.2,
               15.7,
               17.9,
               15,
               14.2,
               17.9,
               14.7,
               16.1,
               16.8,
               14.3,
               14.2,
               17.9,
               16.5,
               17.8,
               14.4,
               18.5,
               18.6,
               15.7,
               18.7,
               19.3,
               14.5
              ]
             ],
             "parameters": {
              "c": 0.64,
              "k": 2048
             }
            }
           }
          },
          "max": 21.5,
          "mean": 17.18661087866108,
          "min": 13.1,
          "std_dev": 1.904956269401882,
          "sum": 4107.5999999999985
         }
        },
        {
         "inferred_type": "Fractional",
         "name": "culmen_length_mm",
         "numerical_statistics": {
          "common": {
           "num_missing": 0,
           "num_present": 239
          },
          "distribution": {
           "kll": {
            "buckets": [
             {
              "count": 4,
              "lower_bound": 32.1,
              "upper_bound": 34.85
             },
             {
              "count": 28,
              "lower_bound": 34.85,
              "upper_bound": 37.6
             },
             {
              "count": 41,
              "lower_bound": 37.6,
              "upper_bound": 40.35
             },
             {
              "count": 35,
              "lower_bound": 40.35,
              "upper_bound": 43.1
             },
             {
              "count": 32,
              "lower_bound": 43.1,
              "upper_bound": 45.85
             },
             {
              "count": 35,
              "lower_bound": 45.85,
              "upper_bound": 48.6
             },
             {
              "count": 48,
              "lower_bound": 48.6,
              "upper_bound": 51.35
             },
             {
              "count": 12,
              "lower_bound": 51.35,
              "upper_bound": 54.1
             },
             {
              "count": 2,
              "lower_bound": 54.1,
              "upper_bound": 56.85
             },
             {
              "count": 2,
              "lower_bound": 56.85,
              "upper_bound": 59.6
             }
            ],
            "sketch": {
             "data": [
              [
               46.8,
               48.7,
               39.8,
               37.9,
               39.5,
               43.3,
               35.3,
               38.9,
               36,
               49.1,
               49,
               40.8,
               50.7,
               37.7,
               59.6,
               43.1,
               39.6,
               40.9,
               43.2,
               41.1,
               49.2,
               46.8,
               39.2,
               45.3,
               51.5,
               46.5,
               39.2,
               48.7,
               35.7,
               43.6,
               48.5,
               45.4,
               50.5,
               40.3,
               55.8,
               48.4,
               50.8,
               37.7,
               36.4,
               46,
               42.4,
               48.2,
               35.9,
               40.7,
               43.2,
               47.2,
               49.8,
               41,
               38.6,
               46.8,
               47.5,
               37.8,
               39,
               38.6,
               46.4,
               50.4,
               36.8,
               37.8,
               42.5,
               41.1,
               45.1,
               50,
               48.6,
               48.5,
               40.5,
               44.5,
               41.3,
               45.7,
               33.1,
               48.5,
               46.1,
               45.2,
               40.6,
               45.1,
               52.5,
               51.3,
               40.8,
               39.5,
               46.1,
               52.2,
               43.2,
               58,
               43.2,
               50.5,
               38.2,
               52,
               41.3,
               41.5,
               50,
               52,
               39.6,
               42.5,
               53.5,
               39.7,
               37.8,
               44.9,
               39.7,
               38.8,
               35.9,
               35,
               49.7,
               46.4,
               45.5,
               38.5,
               35.7,
               51.3,
               45.8,
               47,
               43.5,
               39.6,
               44.1,
               45.6,
               36.7,
               46.2,
               51.1,
               51.4,
               38.2,
               45.1,
               52.7,
               37.7,
               37.3,
               47.2,
               39.6,
               38.8,
               35.7,
               35,
               50,
               42.2,
               36.4,
               48.1,
               36,
               50.4,
               50.8,
               50.5,
               37.2,
               38.7,
               41.1,
               51.3,
               48.4,
               46.1,
               36,
               38.8,
               34.4,
               41.4,
               46.6,
               49,
               38.1,
               32.1,
               50.1,
               45.8,
               43.5,
               51,
               39,
               36.2,
               50.5,
               45.4,
               41.1,
               42.5,
               43.8,
               52.8,
               36.2,
               52,
               36,
               48.8,
               41.4,
               39.1,
               42.7,
               51.1,
               37.6,
               50.7,
               40.6,
               47.5,
               50.5,
               34.6,
               38.1,
               41.7,
               47.8,
               41.1,
               47.6,
               41.1,
               39.3,
               46.5,
               50.6,
               46.2,
               49.6,
               49.2,
               40.9,
               45.2,
               47.6,
               42,
               35.5,
               44.9,
               51.3,
               52.1,
               45.9,
               41.5,
               42.9,
               47.3,
               50.8,
               42.8,
               54.3,
               51.7,
               48.7,
               45,
               42.9,
               37.9,
               36.5,
               40.2,
               36.2,
               37.8,
               46.5,
               40.5,
               38.1,
               46.3,
               35.6,
               50.2,
               38.1,
               49.9,
               49.5,
               44.5,
               46.7,
               45.5,
               46.6,
               50.1,
               44.5,
               49.5,
               49.8,
               50.2,
               42.8,
               50.9,
               37,
               36.6,
               43.4,
               37.5,
               41.1,
               49.3,
               50.2,
               36.7,
               49.1
              ]
             ],
             "parameters": {
              "c": 0.64,
              "k": 2048
             }
            }
           }
          },
          "max": 59.6,
          "mean": 44.00669456066948,
          "min": 32.1,
          "std_dev": 5.503368800432036,
          "sum": 10517.600000000006
         }
        },
        {
         "inferred_type": "Fractional",
         "name": "flipper_length_mm",
         "numerical_statistics": {
          "common": {
           "num_missing": 0,
           "num_present": 239
          },
          "distribution": {
           "kll": {
            "buckets": [
             {
              "count": 2,
              "lower_bound": 172,
              "upper_bound": 177.9
             },
             {
              "count": 18,
              "lower_bound": 177.9,
              "upper_bound": 183.8
             },
             {
              "count": 35,
              "lower_bound": 183.8,
              "upper_bound": 189.7
             },
             {
              "count": 56,
              "lower_bound": 189.7,
              "upper_bound": 195.6
             },
             {
              "count": 29,
              "lower_bound": 195.6,
              "upper_bound": 201.5
             },
             {
              "count": 12,
              "lower_bound": 201.5,
              "upper_bound": 207.4
             },
             {
              "count": 30,
              "lower_bound": 207.4,
              "upper_bound": 213.3
             },
             {
              "count": 26,
              "lower_bound": 213.3,
              "upper_bound": 219.2
             },
             {
              "count": 21,
              "lower_bound": 219.2,
              "upper_bound": 225.1
             },
             {
              "count": 10,
              "lower_bound": 225.1,
              "upper_bound": 231
             }
            ],
            "sketch": {
             "data": [
              [
               215,
               208,
               184,
               172,
               178,
               209,
               187,
               181,
               186,
               220,
               212,
               195,
               203,
               198,
               230,
               197,
               190,
               184,
               187,
               182,
               195,
               215,
               190,
               208,
               230,
               192,
               195,
               222,
               189,
               217,
               191,
               211,
               222,
               196,
               207,
               220,
               201,
               183,
               184,
               194,
               181,
               210,
               189,
               190,
               197,
               214,
               229,
               203,
               191,
               189,
               199,
               193,
               185,
               199,
               216,
               222,
               193,
               190,
               197,
               192,
               207,
               196,
               230,
               220,
               180,
               216,
               195,
               214,
               178,
               219,
               178,
               191,
               193,
               215,
               221,
               218,
               208,
               188,
               211,
               228,
               208,
               181,
               192,
               200,
               190,
               197,
               194,
               201,
               220,
               210,
               186,
               187,
               205,
               190,
               174,
               213,
               184,
               191,
               190,
               192,
               195,
               190,
               196,
               190,
               185,
               197,
               219,
               185,
               202,
               186,
               210,
               194,
               187,
               221,
               225,
               201,
               185,
               210,
               197,
               180,
               191,
               215,
               196,
               180,
               202,
               190,
               218,
               180,
               195,
               209,
               190,
               224,
               226,
               216,
               178,
               195,
               188,
               198,
               213,
               215,
               187,
               190,
               184,
               191,
               193,
               210,
               187,
               188,
               225,
               210,
               213,
               203,
               191,
               187,
               225,
               188,
               190,
               187,
               208,
               205,
               187,
               201,
               195,
               222,
               202,
               181,
               196,
               220,
               185,
               223,
               199,
               212,
               201,
               198,
               181,
               210,
               215,
               205,
               195,
               182,
               190,
               210,
               193,
               187,
               193,
               221,
               214,
               215,
               215,
               200,
               195,
               212,
               193,
               230,
               190,
               195,
               215,
               222,
               210,
               195,
               231,
               194,
               210,
               220,
               196,
               193,
               181,
               193,
               187,
               180,
               213,
               187,
               190,
               215,
               191,
               202,
               198,
               213,
               229,
               217,
               195,
               220,
               210,
               190,
               214,
               224,
               230,
               218,
               209,
               196,
               185,
               185,
               218,
               199,
               189,
               217,
               198,
               193,
               212
              ]
             ],
             "parameters": {
              "c": 0.64,
              "k": 2048
             }
            }
           }
          },
          "max": 231,
          "mean": 200.64016736401675,
          "min": 172,
          "std_dev": 14.115639327078197,
          "sum": 47953
         }
        },
        {
         "inferred_type": "String",
         "name": "island",
         "string_statistics": {
          "common": {
           "num_missing": 0,
           "num_present": 239
          },
          "distinct_count": 3,
          "distribution": {
           "categorical": {
            "buckets": [
             {
              "count": 90,
              "value": "Dream"
             },
             {
              "count": 33,
              "value": "Torgersen"
             },
             {
              "count": 116,
              "value": "Biscoe"
             }
            ]
           }
          }
         }
        },
        {
         "inferred_type": "String",
         "name": "species",
         "string_statistics": {
          "common": {
           "num_missing": 0,
           "num_present": 239
          },
          "distinct_count": 3,
          "distribution": {
           "categorical": {
            "buckets": [
             {
              "count": 106,
              "value": "Adelie"
             },
             {
              "count": 51,
              "value": "Chinstrap"
             },
             {
              "count": 82,
              "value": "Gentoo"
             }
            ]
           }
          }
         }
        }
       ],
       "version": 0
      },
      "text/plain": [
       "<IPython.core.display.JSON object>"
      ]
     },
     "execution_count": 29,
     "metadata": {
      "application/json": {
       "expanded": false,
       "root": "root"
      }
     },
     "output_type": "execute_result"
    }
   ],
   "source": [
    "statistics = f\"{DATA_QUALITY_LOCATION}/statistics.json\"\n",
    "JSON(json.loads(S3Downloader.read_file(statistics)))"
   ]
  },
  {
   "cell_type": "code",
   "execution_count": 30,
   "id": "a4cd9868-a88d-4647-bbd8-233a80fce3c9",
   "metadata": {
    "tags": []
   },
   "outputs": [
    {
     "data": {
      "application/json": {
       "features": [
        {
         "completeness": 1,
         "inferred_type": "Fractional",
         "name": "body_mass_g",
         "num_constraints": {
          "is_non_negative": true
         }
        },
        {
         "completeness": 1,
         "inferred_type": "Fractional",
         "name": "culmen_depth_mm",
         "num_constraints": {
          "is_non_negative": true
         }
        },
        {
         "completeness": 1,
         "inferred_type": "Fractional",
         "name": "culmen_length_mm",
         "num_constraints": {
          "is_non_negative": true
         }
        },
        {
         "completeness": 1,
         "inferred_type": "Fractional",
         "name": "flipper_length_mm",
         "num_constraints": {
          "is_non_negative": true
         }
        },
        {
         "completeness": 1,
         "inferred_type": "String",
         "name": "island",
         "string_constraints": {
          "domains": [
           "Dream",
           "Torgersen",
           "Biscoe"
          ]
         }
        },
        {
         "completeness": 1,
         "inferred_type": "String",
         "name": "species",
         "string_constraints": {
          "domains": [
           "Adelie",
           "Chinstrap",
           "Gentoo"
          ]
         }
        }
       ],
       "monitoring_config": {
        "datatype_check_threshold": 1,
        "distribution_constraints": {
         "categorical_comparison_threshold": 0.1,
         "categorical_drift_method": "LInfinity",
         "comparison_method": "Robust",
         "comparison_threshold": 0.1,
         "perform_comparison": "Enabled"
        },
        "domain_content_threshold": 1,
        "emit_metrics": "Enabled",
        "evaluate_constraints": "Enabled"
       },
       "version": 0
      },
      "text/plain": [
       "<IPython.core.display.JSON object>"
      ]
     },
     "execution_count": 30,
     "metadata": {
      "application/json": {
       "expanded": false,
       "root": "root"
      }
     },
     "output_type": "execute_result"
    }
   ],
   "source": [
    "constraints = f\"{DATA_QUALITY_LOCATION}/constraints.json\"\n",
    "JSON(json.loads(S3Downloader.read_file(constraints)))"
   ]
  },
  {
   "cell_type": "markdown",
   "id": "b78b88ad-159e-457f-9ae8-f2f9596b47c9",
   "metadata": {
    "tags": []
   },
   "source": [
    "### Scheduling the Monitoring Job\n",
    "\n",
    "We can now set up a schedule to continuously monitor data going into the endpoint and compare it to the baseline we generated before. This monitoring job will use the baseline statistics and constraints we generated during the Data Quality Check Step. Check [Schedule Data Quality Monitoring Jobs](https://docs.aws.amazon.com/sagemaker/latest/dg/model-monitor-schedule-data-monitor.html) for more information.\n",
    "\n",
    "SageMaker looks for violations in the data captured by the endpoint. By default, it combines the input data with the endpoint output and compare the result with the baseline we generated. If we let SageMaker do this, we will get a few violations, for example an \"extra column check\" violation because the fields `confidence` and `prediction` don't exist in the baseline data.\n",
    "\n",
    "We can fix these violations by creating a preprocessing script configuring the data we want the monitoring job to use.\n"
   ]
  },
  {
   "cell_type": "code",
   "execution_count": 31,
   "id": "2e34405b-9347-4f0a-920f-766aab77323b",
   "metadata": {
    "tags": []
   },
   "outputs": [],
   "source": [
    "DATA_QUALITY_PREPROCESSOR = \"data_quality_preprocessor.py\""
   ]
  },
  {
   "cell_type": "markdown",
   "id": "e37aa19a-baca-4d7d-b8f4-002d31455cf6",
   "metadata": {},
   "source": [
    "Here is the preprocessing script for the Data Quality Monitoring Job. Check [Preprocessing and Postprocessing](https://docs.aws.amazon.com/sagemaker/latest/dg/model-monitor-pre-and-post-processing.html) for more information about how to configure these scripts."
   ]
  },
  {
   "cell_type": "code",
   "execution_count": 32,
   "id": "5fb31632-0578-490c-b878-b8bbe1f1fe53",
   "metadata": {
    "tags": []
   },
   "outputs": [
    {
     "name": "stdout",
     "output_type": "stream",
     "text": [
      "Overwriting code/data_quality_preprocessor.py\n"
     ]
    }
   ],
   "source": [
    "%%writefile {CODE_FOLDER}/{DATA_QUALITY_PREPROCESSOR}\n",
    "import json\n",
    "\n",
    "def preprocess_handler(inference_record):\n",
    "    input_data = inference_record.endpoint_input.data\n",
    "    output_data = json.loads(inference_record.endpoint_output.data)\n",
    "    \n",
    "    response = json.loads(input_data)\n",
    "    response[\"species\"] = output_data[\"species\"]\n",
    "\n",
    "    # The `response` variable contains the data that we want the\n",
    "    # monitoring job to use to compare with the baseline.\n",
    "    return response"
   ]
  },
  {
   "cell_type": "markdown",
   "id": "9f0ec3da-4d81-42e3-b31c-04ee88a04e12",
   "metadata": {},
   "source": [
    "The monitoring schedule expects an S3 location pointing to the preprocessing script. Let's upload the script to the default bucket."
   ]
  },
  {
   "cell_type": "code",
   "execution_count": 33,
   "id": "a641ae30-f950-4fcf-801e-1d69e473b81a",
   "metadata": {
    "tags": []
   },
   "outputs": [
    {
     "data": {
      "text/plain": [
       "'s3://sagemaker-us-east-1-325223348818/penguins-monitoring/data_quality_preprocessor.py'"
      ]
     },
     "execution_count": 33,
     "metadata": {},
     "output_type": "execute_result"
    }
   ],
   "source": [
    "bucket = boto3.Session().resource(\"s3\").Bucket(sagemaker_session.default_bucket())\n",
    "prefix = \"penguins-monitoring\"\n",
    "bucket.Object(os.path.join(prefix, DATA_QUALITY_PREPROCESSOR)).upload_file(str(CODE_FOLDER / DATA_QUALITY_PREPROCESSOR))\n",
    "data_quality_preprocessor = f\"s3://{os.path.join(bucket.name, prefix, DATA_QUALITY_PREPROCESSOR)}\"\n",
    "data_quality_preprocessor"
   ]
  },
  {
   "cell_type": "markdown",
   "id": "259c4465-6f3e-4014-a3a3-5da0c1634f95",
   "metadata": {},
   "source": [
    "We can now set up the Data Quality Monitoring Job using the [DefaultModelMonitor](https://sagemaker.readthedocs.io/en/stable/api/inference/model_monitor.html#sagemaker.model_monitor.model_monitoring.DefaultModelMonitor) class. Notice how we specify the `record_preprocessor_script` using the S3 location where we uploaded our script."
   ]
  },
  {
   "cell_type": "code",
   "execution_count": 34,
   "id": "94fe1c6a-ce44-489d-bade-72e60c616098",
   "metadata": {
    "tags": []
   },
   "outputs": [],
   "source": [
    "data_monitor = DefaultModelMonitor(\n",
    "    instance_type=\"ml.m5.xlarge\",\n",
    "    instance_count=1,\n",
    "    max_runtime_in_seconds=3600,\n",
    "    role=role,\n",
    ")\n",
    "\n",
    "data_monitor.create_monitoring_schedule(\n",
    "    monitor_schedule_name=\"penguins-data-monitoring-schedule\",\n",
    "    endpoint_input=ENDPOINT,\n",
    "    record_preprocessor_script=data_quality_preprocessor,\n",
    "    statistics=f\"{DATA_QUALITY_LOCATION}/statistics.json\",\n",
    "    constraints=f\"{DATA_QUALITY_LOCATION}/constraints.json\",\n",
    "    schedule_cron_expression=CronExpressionGenerator.hourly(),\n",
    ")"
   ]
  },
  {
   "cell_type": "markdown",
   "id": "3bcf5a3c-b9eb-4a33-9a1d-c957f0635556",
   "metadata": {
    "tags": []
   },
   "source": [
    "### Checking Monitoring Violations\n",
    "\n",
    "We can check the results of the monitoring job by looking at whether it generated any violations."
   ]
  },
  {
   "cell_type": "code",
   "execution_count": 76,
   "id": "d8160a8c-97af-42fa-b105-3d3db315baf2",
   "metadata": {
    "tags": []
   },
   "outputs": [
    {
     "name": "stdout",
     "output_type": "stream",
     "text": [
      "{'MonitoringScheduleName': 'penguins-model-monitoring-schedule', 'ScheduledTime': datetime.datetime(2023, 7, 13, 10, 0, tzinfo=tzlocal()), 'CreationTime': datetime.datetime(2023, 7, 13, 10, 7, 5, 324000, tzinfo=tzlocal()), 'LastModifiedTime': datetime.datetime(2023, 7, 13, 10, 15, 46, 740000, tzinfo=tzlocal()), 'MonitoringExecutionStatus': 'Failed', 'ProcessingJobArn': 'arn:aws:sagemaker:us-east-1:325223348818:processing-job/groundtruth-merge-202307131000-80e38fdf75ff8af830026987', 'EndpointName': 'penguins-endpoint', 'FailureReason': 'Job inputs had no data'}\n",
      "There's no DataQuality Monitoring Schedule.\n"
     ]
    }
   ],
   "source": [
    "describe_data_monitoring_schedule(ENDPOINT)"
   ]
  },
  {
   "cell_type": "markdown",
   "id": "31be9c67-40cc-42c5-b435-74dc970c68f3",
   "metadata": {
    "tags": []
   },
   "source": [
    "### Delete Monitoring Schedule\n",
    "\n",
    "Let's stop the monitoring jobs by deleting the monitoring schedule we created before."
   ]
  },
  {
   "cell_type": "code",
   "execution_count": 41,
   "id": "15d6bfac-e26c-437b-9b0f-e02822b5b4cb",
   "metadata": {},
   "outputs": [
    {
     "name": "stdout",
     "output_type": "stream",
     "text": [
      "\n",
      "Deleting Monitoring Schedule with name: penguins-data-monitoring-schedule\n",
      "Monitoring schedule deleted.\n"
     ]
    }
   ],
   "source": [
    "delete_data_monitoring_schedule(ENDPOINT)"
   ]
  },
  {
   "cell_type": "markdown",
   "id": "cae99171-37c8-4223-8b82-fdef179ec747",
   "metadata": {},
   "source": [
    "## Model Monitoring"
   ]
  },
  {
   "cell_type": "code",
   "execution_count": 8,
   "id": "2b1f84cb-bab9-4ac8-822d-f0d9a763df6a",
   "metadata": {
    "tags": []
   },
   "outputs": [
    {
     "data": {
      "application/json": {
       "multiclass_classification_constraints": {
        "accuracy": {
         "comparison_operator": "LessThanThreshold",
         "threshold": 1
        },
        "weighted_f0_5": {
         "comparison_operator": "LessThanThreshold",
         "threshold": 1
        },
        "weighted_f1": {
         "comparison_operator": "LessThanThreshold",
         "threshold": 1
        },
        "weighted_f2": {
         "comparison_operator": "LessThanThreshold",
         "threshold": 1
        },
        "weighted_precision": {
         "comparison_operator": "LessThanThreshold",
         "threshold": 1
        },
        "weighted_recall": {
         "comparison_operator": "LessThanThreshold",
         "threshold": 1
        }
       },
       "version": 0
      },
      "text/plain": [
       "<IPython.core.display.JSON object>"
      ]
     },
     "execution_count": 8,
     "metadata": {
      "application/json": {
       "expanded": false,
       "root": "root"
      }
     },
     "output_type": "execute_result"
    }
   ],
   "source": [
    "constraints = f\"{MODEL_QUALITY_LOCATION}/constraints.json\"\n",
    "JSON(json.loads(S3Downloader.read_file(constraints)))"
   ]
  },
  {
   "cell_type": "markdown",
   "id": "95da3db5-ba59-414e-9185-91f108956c4c",
   "metadata": {},
   "source": [
    "### Scheduling the Monitoring Job\n",
    "\n",
    "Let's set up a schedule to continuously monitor the quality of the model and compare it to the baseline we generated before. This monitoring job will use the baseline constraints we generated during the Model Quality Check Step. Check [Schedule Model Quality Monitoring Jobs](https://docs.aws.amazon.com/sagemaker/latest/dg/model-monitor-model-quality-schedule.html) for more information.\n",
    "\n",
    "To set up a Model Quality Monitoring Job, we can use the [ModelQualityMonitor](https://sagemaker.readthedocs.io/en/stable/api/inference/model_monitor.html#sagemaker.model_monitor.model_monitoring.ModelQualityMonitor) class. The [EndpointInput](https://sagemaker.readthedocs.io/en/v2.24.2/api/inference/model_monitor.html#sagemaker.model_monitor.model_monitoring.EndpointInput) instance configures the attribute the monitoring job should use to determine the prediction from the model.\n",
    "\n",
    "Check [Amazon SageMaker Model Quality Monitor](https://sagemaker-examples.readthedocs.io/en/latest/sagemaker_model_monitor/model_quality/model_quality_churn_sdk.html) for a complete tutorial on how to run a Model Monitoring Job in SageMaker."
   ]
  },
  {
   "cell_type": "code",
   "execution_count": 56,
   "id": "c8ec5229-3a5e-4e01-b9bd-b3f81ae79b67",
   "metadata": {
    "tags": []
   },
   "outputs": [],
   "source": [
    "model_monitor = ModelQualityMonitor(\n",
    "    instance_type=\"ml.m5.xlarge\",\n",
    "    instance_count=1,\n",
    "    max_runtime_in_seconds=1800,\n",
    "    role=role\n",
    ")\n",
    "\n",
    "model_monitor.create_monitoring_schedule(\n",
    "    monitor_schedule_name=\"penguins-model-monitoring-schedule\",\n",
    "    \n",
    "    endpoint_input = EndpointInput(\n",
    "        endpoint_name=predictor.endpoint_name,\n",
    "\n",
    "        # The endpoint returns an attribute `species` with the\n",
    "        # prediction from the model. That's the attribute we want to\n",
    "        # use to compare with the groundtruth.\n",
    "        inference_attribute=\"species\",\n",
    "\n",
    "        destination=\"/opt/ml/processing/input_data\",\n",
    "    ),\n",
    "    \n",
    "    problem_type=\"MulticlassClassification\",\n",
    "    ground_truth_input=GROUND_TRUTH_LOCATION,\n",
    "    \n",
    "    constraints=f\"{MODEL_QUALITY_LOCATION}/constraints.json\",\n",
    "    \n",
    "    schedule_cron_expression=CronExpressionGenerator.hourly(),\n",
    "    output_s3_uri=f\"{S3_FILEPATH}/monitoring/model-quality\",\n",
    "    enable_cloudwatch_metrics=True,\n",
    ")"
   ]
  },
  {
   "cell_type": "markdown",
   "id": "58e354a6-2413-46e8-98d0-12589fe69809",
   "metadata": {},
   "source": [
    "### Checking Monitoring Violations\n",
    "\n",
    "We can check the results of the monitoring job by looking at whether it generated any violations."
   ]
  },
  {
   "cell_type": "code",
   "execution_count": 80,
   "id": "2642e685-1612-4055-b8f1-c48cb21a05ed",
   "metadata": {
    "tags": []
   },
   "outputs": [
    {
     "name": "stdout",
     "output_type": "stream",
     "text": [
      "{\n",
      "  \"MonitoringScheduleName\": \"penguins-model-monitoring-schedule\",\n",
      "  \"MonitoringType\": \"ModelQuality\",\n",
      "  \"Status\": \"CompletedWithViolations\",\n",
      "  \"Violations\": [\n",
      "    {\n",
      "      \"constraint_check_type\": \"LessThanThreshold\",\n",
      "      \"description\": \"Metric weightedF2 with 0.3502849367214392 +/- 1.8939654816042768E-5 was LessThanThreshold '1.0'\",\n",
      "      \"metric_name\": \"weightedF2\"\n",
      "    },\n",
      "    {\n",
      "      \"constraint_check_type\": \"LessThanThreshold\",\n",
      "      \"description\": \"Metric accuracy with 0.3572027502934764 +/- 1.978462434327009E-5 was LessThanThreshold '1.0'\",\n",
      "      \"metric_name\": \"accuracy\"\n",
      "    },\n",
      "    {\n",
      "      \"constraint_check_type\": \"LessThanThreshold\",\n",
      "      \"description\": \"Metric weightedRecall with 0.3572027502934765 +/- 1.9784624343286803E-5 was LessThanThreshold '1.0'\",\n",
      "      \"metric_name\": \"weightedRecall\"\n",
      "    },\n",
      "    {\n",
      "      \"constraint_check_type\": \"LessThanThreshold\",\n",
      "      \"description\": \"Metric weightedPrecision with 0.35130292066894553 +/- 2.141260204498452E-5 was LessThanThreshold '1.0'\",\n",
      "      \"metric_name\": \"weightedPrecision\"\n",
      "    },\n",
      "    {\n",
      "      \"constraint_check_type\": \"LessThanThreshold\",\n",
      "      \"description\": \"Metric weightedF1 with 0.34479996596809703 +/- 1.8287007194633716E-5 was LessThanThreshold '1.0'\",\n",
      "      \"metric_name\": \"weightedF1\"\n",
      "    }\n",
      "  ]\n",
      "}\n"
     ]
    }
   ],
   "source": [
    "describe_model_monitoring_schedule(ENDPOINT)"
   ]
  },
  {
   "cell_type": "markdown",
   "id": "217ddb4a-888b-40d4-955d-704a6d9bfe23",
   "metadata": {},
   "source": [
    "### Delete Monitoring Schedule\n",
    "\n",
    "Let's stop the monitoring job by deleting the monitoring schedule we created before."
   ]
  },
  {
   "cell_type": "code",
   "execution_count": 81,
   "id": "1ba83468-e877-4359-8207-59070cc6870c",
   "metadata": {
    "tags": []
   },
   "outputs": [
    {
     "name": "stdout",
     "output_type": "stream",
     "text": [
      "Monitoring schedule deleted.\n"
     ]
    }
   ],
   "source": [
    "delete_model_monitoring_schedule(ENDPOINT)"
   ]
  },
  {
   "cell_type": "code",
   "execution_count": null,
   "id": "4cf9f4a1-c9ec-46a1-9aff-e003ebb7347a",
   "metadata": {},
   "outputs": [],
   "source": []
  }
 ],
 "metadata": {
  "availableInstances": [
   {
    "_defaultOrder": 0,
    "_isFastLaunch": true,
    "category": "General purpose",
    "gpuNum": 0,
    "hideHardwareSpecs": false,
    "memoryGiB": 4,
    "name": "ml.t3.medium",
    "vcpuNum": 2
   },
   {
    "_defaultOrder": 1,
    "_isFastLaunch": false,
    "category": "General purpose",
    "gpuNum": 0,
    "hideHardwareSpecs": false,
    "memoryGiB": 8,
    "name": "ml.t3.large",
    "vcpuNum": 2
   },
   {
    "_defaultOrder": 2,
    "_isFastLaunch": false,
    "category": "General purpose",
    "gpuNum": 0,
    "hideHardwareSpecs": false,
    "memoryGiB": 16,
    "name": "ml.t3.xlarge",
    "vcpuNum": 4
   },
   {
    "_defaultOrder": 3,
    "_isFastLaunch": false,
    "category": "General purpose",
    "gpuNum": 0,
    "hideHardwareSpecs": false,
    "memoryGiB": 32,
    "name": "ml.t3.2xlarge",
    "vcpuNum": 8
   },
   {
    "_defaultOrder": 4,
    "_isFastLaunch": true,
    "category": "General purpose",
    "gpuNum": 0,
    "hideHardwareSpecs": false,
    "memoryGiB": 8,
    "name": "ml.m5.large",
    "vcpuNum": 2
   },
   {
    "_defaultOrder": 5,
    "_isFastLaunch": false,
    "category": "General purpose",
    "gpuNum": 0,
    "hideHardwareSpecs": false,
    "memoryGiB": 16,
    "name": "ml.m5.xlarge",
    "vcpuNum": 4
   },
   {
    "_defaultOrder": 6,
    "_isFastLaunch": false,
    "category": "General purpose",
    "gpuNum": 0,
    "hideHardwareSpecs": false,
    "memoryGiB": 32,
    "name": "ml.m5.2xlarge",
    "vcpuNum": 8
   },
   {
    "_defaultOrder": 7,
    "_isFastLaunch": false,
    "category": "General purpose",
    "gpuNum": 0,
    "hideHardwareSpecs": false,
    "memoryGiB": 64,
    "name": "ml.m5.4xlarge",
    "vcpuNum": 16
   },
   {
    "_defaultOrder": 8,
    "_isFastLaunch": false,
    "category": "General purpose",
    "gpuNum": 0,
    "hideHardwareSpecs": false,
    "memoryGiB": 128,
    "name": "ml.m5.8xlarge",
    "vcpuNum": 32
   },
   {
    "_defaultOrder": 9,
    "_isFastLaunch": false,
    "category": "General purpose",
    "gpuNum": 0,
    "hideHardwareSpecs": false,
    "memoryGiB": 192,
    "name": "ml.m5.12xlarge",
    "vcpuNum": 48
   },
   {
    "_defaultOrder": 10,
    "_isFastLaunch": false,
    "category": "General purpose",
    "gpuNum": 0,
    "hideHardwareSpecs": false,
    "memoryGiB": 256,
    "name": "ml.m5.16xlarge",
    "vcpuNum": 64
   },
   {
    "_defaultOrder": 11,
    "_isFastLaunch": false,
    "category": "General purpose",
    "gpuNum": 0,
    "hideHardwareSpecs": false,
    "memoryGiB": 384,
    "name": "ml.m5.24xlarge",
    "vcpuNum": 96
   },
   {
    "_defaultOrder": 12,
    "_isFastLaunch": false,
    "category": "General purpose",
    "gpuNum": 0,
    "hideHardwareSpecs": false,
    "memoryGiB": 8,
    "name": "ml.m5d.large",
    "vcpuNum": 2
   },
   {
    "_defaultOrder": 13,
    "_isFastLaunch": false,
    "category": "General purpose",
    "gpuNum": 0,
    "hideHardwareSpecs": false,
    "memoryGiB": 16,
    "name": "ml.m5d.xlarge",
    "vcpuNum": 4
   },
   {
    "_defaultOrder": 14,
    "_isFastLaunch": false,
    "category": "General purpose",
    "gpuNum": 0,
    "hideHardwareSpecs": false,
    "memoryGiB": 32,
    "name": "ml.m5d.2xlarge",
    "vcpuNum": 8
   },
   {
    "_defaultOrder": 15,
    "_isFastLaunch": false,
    "category": "General purpose",
    "gpuNum": 0,
    "hideHardwareSpecs": false,
    "memoryGiB": 64,
    "name": "ml.m5d.4xlarge",
    "vcpuNum": 16
   },
   {
    "_defaultOrder": 16,
    "_isFastLaunch": false,
    "category": "General purpose",
    "gpuNum": 0,
    "hideHardwareSpecs": false,
    "memoryGiB": 128,
    "name": "ml.m5d.8xlarge",
    "vcpuNum": 32
   },
   {
    "_defaultOrder": 17,
    "_isFastLaunch": false,
    "category": "General purpose",
    "gpuNum": 0,
    "hideHardwareSpecs": false,
    "memoryGiB": 192,
    "name": "ml.m5d.12xlarge",
    "vcpuNum": 48
   },
   {
    "_defaultOrder": 18,
    "_isFastLaunch": false,
    "category": "General purpose",
    "gpuNum": 0,
    "hideHardwareSpecs": false,
    "memoryGiB": 256,
    "name": "ml.m5d.16xlarge",
    "vcpuNum": 64
   },
   {
    "_defaultOrder": 19,
    "_isFastLaunch": false,
    "category": "General purpose",
    "gpuNum": 0,
    "hideHardwareSpecs": false,
    "memoryGiB": 384,
    "name": "ml.m5d.24xlarge",
    "vcpuNum": 96
   },
   {
    "_defaultOrder": 20,
    "_isFastLaunch": false,
    "category": "General purpose",
    "gpuNum": 0,
    "hideHardwareSpecs": true,
    "memoryGiB": 0,
    "name": "ml.geospatial.interactive",
    "supportedImageNames": [
     "sagemaker-geospatial-v1-0"
    ],
    "vcpuNum": 0
   },
   {
    "_defaultOrder": 21,
    "_isFastLaunch": true,
    "category": "Compute optimized",
    "gpuNum": 0,
    "hideHardwareSpecs": false,
    "memoryGiB": 4,
    "name": "ml.c5.large",
    "vcpuNum": 2
   },
   {
    "_defaultOrder": 22,
    "_isFastLaunch": false,
    "category": "Compute optimized",
    "gpuNum": 0,
    "hideHardwareSpecs": false,
    "memoryGiB": 8,
    "name": "ml.c5.xlarge",
    "vcpuNum": 4
   },
   {
    "_defaultOrder": 23,
    "_isFastLaunch": false,
    "category": "Compute optimized",
    "gpuNum": 0,
    "hideHardwareSpecs": false,
    "memoryGiB": 16,
    "name": "ml.c5.2xlarge",
    "vcpuNum": 8
   },
   {
    "_defaultOrder": 24,
    "_isFastLaunch": false,
    "category": "Compute optimized",
    "gpuNum": 0,
    "hideHardwareSpecs": false,
    "memoryGiB": 32,
    "name": "ml.c5.4xlarge",
    "vcpuNum": 16
   },
   {
    "_defaultOrder": 25,
    "_isFastLaunch": false,
    "category": "Compute optimized",
    "gpuNum": 0,
    "hideHardwareSpecs": false,
    "memoryGiB": 72,
    "name": "ml.c5.9xlarge",
    "vcpuNum": 36
   },
   {
    "_defaultOrder": 26,
    "_isFastLaunch": false,
    "category": "Compute optimized",
    "gpuNum": 0,
    "hideHardwareSpecs": false,
    "memoryGiB": 96,
    "name": "ml.c5.12xlarge",
    "vcpuNum": 48
   },
   {
    "_defaultOrder": 27,
    "_isFastLaunch": false,
    "category": "Compute optimized",
    "gpuNum": 0,
    "hideHardwareSpecs": false,
    "memoryGiB": 144,
    "name": "ml.c5.18xlarge",
    "vcpuNum": 72
   },
   {
    "_defaultOrder": 28,
    "_isFastLaunch": false,
    "category": "Compute optimized",
    "gpuNum": 0,
    "hideHardwareSpecs": false,
    "memoryGiB": 192,
    "name": "ml.c5.24xlarge",
    "vcpuNum": 96
   },
   {
    "_defaultOrder": 29,
    "_isFastLaunch": true,
    "category": "Accelerated computing",
    "gpuNum": 1,
    "hideHardwareSpecs": false,
    "memoryGiB": 16,
    "name": "ml.g4dn.xlarge",
    "vcpuNum": 4
   },
   {
    "_defaultOrder": 30,
    "_isFastLaunch": false,
    "category": "Accelerated computing",
    "gpuNum": 1,
    "hideHardwareSpecs": false,
    "memoryGiB": 32,
    "name": "ml.g4dn.2xlarge",
    "vcpuNum": 8
   },
   {
    "_defaultOrder": 31,
    "_isFastLaunch": false,
    "category": "Accelerated computing",
    "gpuNum": 1,
    "hideHardwareSpecs": false,
    "memoryGiB": 64,
    "name": "ml.g4dn.4xlarge",
    "vcpuNum": 16
   },
   {
    "_defaultOrder": 32,
    "_isFastLaunch": false,
    "category": "Accelerated computing",
    "gpuNum": 1,
    "hideHardwareSpecs": false,
    "memoryGiB": 128,
    "name": "ml.g4dn.8xlarge",
    "vcpuNum": 32
   },
   {
    "_defaultOrder": 33,
    "_isFastLaunch": false,
    "category": "Accelerated computing",
    "gpuNum": 4,
    "hideHardwareSpecs": false,
    "memoryGiB": 192,
    "name": "ml.g4dn.12xlarge",
    "vcpuNum": 48
   },
   {
    "_defaultOrder": 34,
    "_isFastLaunch": false,
    "category": "Accelerated computing",
    "gpuNum": 1,
    "hideHardwareSpecs": false,
    "memoryGiB": 256,
    "name": "ml.g4dn.16xlarge",
    "vcpuNum": 64
   },
   {
    "_defaultOrder": 35,
    "_isFastLaunch": false,
    "category": "Accelerated computing",
    "gpuNum": 1,
    "hideHardwareSpecs": false,
    "memoryGiB": 61,
    "name": "ml.p3.2xlarge",
    "vcpuNum": 8
   },
   {
    "_defaultOrder": 36,
    "_isFastLaunch": false,
    "category": "Accelerated computing",
    "gpuNum": 4,
    "hideHardwareSpecs": false,
    "memoryGiB": 244,
    "name": "ml.p3.8xlarge",
    "vcpuNum": 32
   },
   {
    "_defaultOrder": 37,
    "_isFastLaunch": false,
    "category": "Accelerated computing",
    "gpuNum": 8,
    "hideHardwareSpecs": false,
    "memoryGiB": 488,
    "name": "ml.p3.16xlarge",
    "vcpuNum": 64
   },
   {
    "_defaultOrder": 38,
    "_isFastLaunch": false,
    "category": "Accelerated computing",
    "gpuNum": 8,
    "hideHardwareSpecs": false,
    "memoryGiB": 768,
    "name": "ml.p3dn.24xlarge",
    "vcpuNum": 96
   },
   {
    "_defaultOrder": 39,
    "_isFastLaunch": false,
    "category": "Memory Optimized",
    "gpuNum": 0,
    "hideHardwareSpecs": false,
    "memoryGiB": 16,
    "name": "ml.r5.large",
    "vcpuNum": 2
   },
   {
    "_defaultOrder": 40,
    "_isFastLaunch": false,
    "category": "Memory Optimized",
    "gpuNum": 0,
    "hideHardwareSpecs": false,
    "memoryGiB": 32,
    "name": "ml.r5.xlarge",
    "vcpuNum": 4
   },
   {
    "_defaultOrder": 41,
    "_isFastLaunch": false,
    "category": "Memory Optimized",
    "gpuNum": 0,
    "hideHardwareSpecs": false,
    "memoryGiB": 64,
    "name": "ml.r5.2xlarge",
    "vcpuNum": 8
   },
   {
    "_defaultOrder": 42,
    "_isFastLaunch": false,
    "category": "Memory Optimized",
    "gpuNum": 0,
    "hideHardwareSpecs": false,
    "memoryGiB": 128,
    "name": "ml.r5.4xlarge",
    "vcpuNum": 16
   },
   {
    "_defaultOrder": 43,
    "_isFastLaunch": false,
    "category": "Memory Optimized",
    "gpuNum": 0,
    "hideHardwareSpecs": false,
    "memoryGiB": 256,
    "name": "ml.r5.8xlarge",
    "vcpuNum": 32
   },
   {
    "_defaultOrder": 44,
    "_isFastLaunch": false,
    "category": "Memory Optimized",
    "gpuNum": 0,
    "hideHardwareSpecs": false,
    "memoryGiB": 384,
    "name": "ml.r5.12xlarge",
    "vcpuNum": 48
   },
   {
    "_defaultOrder": 45,
    "_isFastLaunch": false,
    "category": "Memory Optimized",
    "gpuNum": 0,
    "hideHardwareSpecs": false,
    "memoryGiB": 512,
    "name": "ml.r5.16xlarge",
    "vcpuNum": 64
   },
   {
    "_defaultOrder": 46,
    "_isFastLaunch": false,
    "category": "Memory Optimized",
    "gpuNum": 0,
    "hideHardwareSpecs": false,
    "memoryGiB": 768,
    "name": "ml.r5.24xlarge",
    "vcpuNum": 96
   },
   {
    "_defaultOrder": 47,
    "_isFastLaunch": false,
    "category": "Accelerated computing",
    "gpuNum": 1,
    "hideHardwareSpecs": false,
    "memoryGiB": 16,
    "name": "ml.g5.xlarge",
    "vcpuNum": 4
   },
   {
    "_defaultOrder": 48,
    "_isFastLaunch": false,
    "category": "Accelerated computing",
    "gpuNum": 1,
    "hideHardwareSpecs": false,
    "memoryGiB": 32,
    "name": "ml.g5.2xlarge",
    "vcpuNum": 8
   },
   {
    "_defaultOrder": 49,
    "_isFastLaunch": false,
    "category": "Accelerated computing",
    "gpuNum": 1,
    "hideHardwareSpecs": false,
    "memoryGiB": 64,
    "name": "ml.g5.4xlarge",
    "vcpuNum": 16
   },
   {
    "_defaultOrder": 50,
    "_isFastLaunch": false,
    "category": "Accelerated computing",
    "gpuNum": 1,
    "hideHardwareSpecs": false,
    "memoryGiB": 128,
    "name": "ml.g5.8xlarge",
    "vcpuNum": 32
   },
   {
    "_defaultOrder": 51,
    "_isFastLaunch": false,
    "category": "Accelerated computing",
    "gpuNum": 1,
    "hideHardwareSpecs": false,
    "memoryGiB": 256,
    "name": "ml.g5.16xlarge",
    "vcpuNum": 64
   },
   {
    "_defaultOrder": 52,
    "_isFastLaunch": false,
    "category": "Accelerated computing",
    "gpuNum": 4,
    "hideHardwareSpecs": false,
    "memoryGiB": 192,
    "name": "ml.g5.12xlarge",
    "vcpuNum": 48
   },
   {
    "_defaultOrder": 53,
    "_isFastLaunch": false,
    "category": "Accelerated computing",
    "gpuNum": 4,
    "hideHardwareSpecs": false,
    "memoryGiB": 384,
    "name": "ml.g5.24xlarge",
    "vcpuNum": 96
   },
   {
    "_defaultOrder": 54,
    "_isFastLaunch": false,
    "category": "Accelerated computing",
    "gpuNum": 8,
    "hideHardwareSpecs": false,
    "memoryGiB": 768,
    "name": "ml.g5.48xlarge",
    "vcpuNum": 192
   },
   {
    "_defaultOrder": 55,
    "_isFastLaunch": false,
    "category": "Accelerated computing",
    "gpuNum": 8,
    "hideHardwareSpecs": false,
    "memoryGiB": 1152,
    "name": "ml.p4d.24xlarge",
    "vcpuNum": 96
   },
   {
    "_defaultOrder": 56,
    "_isFastLaunch": false,
    "category": "Accelerated computing",
    "gpuNum": 8,
    "hideHardwareSpecs": false,
    "memoryGiB": 1152,
    "name": "ml.p4de.24xlarge",
    "vcpuNum": 96
   }
  ],
  "instance_type": "ml.t3.medium",
  "kernelspec": {
   "display_name": "Python 3 (TensorFlow 2.6 Python 3.8 CPU Optimized)",
   "language": "python",
   "name": "python3__SAGEMAKER_INTERNAL__arn:aws:sagemaker:us-east-1:081325390199:image/tensorflow-2.6-cpu-py38-ubuntu20.04-v1"
  },
  "language_info": {
   "codemirror_mode": {
    "name": "ipython",
    "version": 3
   },
   "file_extension": ".py",
   "mimetype": "text/x-python",
   "name": "python",
   "nbconvert_exporter": "python",
   "pygments_lexer": "ipython3",
   "version": "3.8.2"
  },
  "lcc_arn": "arn:aws:sagemaker:us-east-1:325223348818:studio-lifecycle-config/packages",
  "toc-autonumbering": false,
  "toc-showcode": false,
  "toc-showmarkdowntxt": false
 },
 "nbformat": 4,
 "nbformat_minor": 5
}
