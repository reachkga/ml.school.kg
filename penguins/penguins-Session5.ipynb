{
 "cells": [
  {
   "cell_type": "markdown",
   "id": "00b7ba7b-433c-463c-8e5e-8b975a5be463",
   "metadata": {
    "tags": []
   },
   "source": [
    "# Penguins in Production - Session 5\n",
    "\n",
    "This notebook aims to create a [SageMaker Pipeline](https://docs.aws.amazon.com/sagemaker/latest/dg/pipelines-sdk.html) to build an end-to-end Machine Learning system to solve the problem of classifying penguin species.\n",
    "\n",
    "This example uses the [Penguins dataset](https://www.kaggle.com/parulpandey/palmer-archipelago-antarctica-penguin-data).\n",
    "\n",
    "Amazon SageMaker is free to try. Your free tier starts from the first month you create your first SageMaker resource and lasts two months. Check out the  [Amazon SageMaker Pricing](https://aws.amazon.com/sagemaker/pricing/) for more information. Also, we'll be working extensively with [boto3](https://boto3.amazonaws.com/v1/documentation/api/latest/reference/services/sagemaker.html) and the [SageMaker Python SDK](https://sagemaker.readthedocs.io/en/stable/). Keep their documentation handy.\n",
    "\n",
    "This notebook was created by [Santiago L. Valdarrama](https://twitter.com/svpino) as part of the [Machine Learning School](https://www.ml.school) program."
   ]
  },
  {
   "cell_type": "markdown",
   "id": "db6203b0-5a40-4a14-b9bb-6e092f1bb2e7",
   "metadata": {},
   "source": [
    "Let's ensure we are running the latest version of the SakeMaker SDK. **Restart the Kernel** after you run the following cell."
   ]
  },
  {
   "cell_type": "code",
   "execution_count": 28,
   "id": "212a0538-62b5-4875-a59c-1a4e1a833a07",
   "metadata": {
    "tags": []
   },
   "outputs": [
    {
     "name": "stderr",
     "output_type": "stream",
     "text": [
      "Popping out 'ProcessingJobName' from the pipeline definition by default since it will be overridden at pipeline execution time. Please utilize the PipelineDefinitionConfig to persist this field in the pipeline definition if desired.\n",
      "/usr/local/lib/python3.8/site-packages/sagemaker/workflow/pipeline_context.py:297: UserWarning: Running within a PipelineSession, there will be No Wait, No Logs, and No Job being started.\n",
      "  warnings.warn(\n"
     ]
    },
    {
     "name": "stdout",
     "output_type": "stream",
     "text": [
      "The autoreload extension is already loaded. To reload it, use:\n",
      "  %reload_ext autoreload\n"
     ]
    }
   ],
   "source": [
    "%load_ext autoreload\n",
    "%autoreload 2\n",
    "\n",
    "import sys\n",
    "CODE_FOLDER = \"code\"\n",
    "sys.path.append(f\"./{CODE_FOLDER}\")"
   ]
  },
  {
   "cell_type": "markdown",
   "id": "e544ae36-00b3-4bde-b133-c3a59bb7f1d8",
   "metadata": {},
   "source": [
    "# Session 5 - Data Monitoring\n",
    "\n",
    "In this session we'll set up a monitoring process to analyze the quality of the data our endpoint receives in production. For this, we will have SageMaker capture and evaluate the data observed by the endpoint.\n",
    "\n",
    "To enable this functionality, we need a couple of steps:\n",
    "\n",
    "1. Create a baseline to compare the real-time traffic.\n",
    "2. Set up a schedule to continuously evaluate and compare against the baseline.\n",
    "\n",
    "Notice that the Data Quality process uses the baseline dataset we generated during preprocessing. This baseline dataset is the same unprocessed train set in JSON format. We do this because we transformed the train data during the preprocessing step, but we need raw data because that's what the endpoint expects.\n",
    "\n",
    "Check [Amazon SageMaker Model Monitor](https://sagemaker.readthedocs.io/en/stable/amazon_sagemaker_model_monitoring.html) for a brief explanation of how to use SageMaker's Model Monitoring functionality. [Monitor models for data and model quality, bias, and explainability](https://docs.aws.amazon.com/sagemaker/latest/dg/model-monitor.html) is a much more extensive guide to monitoring in Amazon SageMaker.\n",
    "\n",
    "Here is what the Pipeline will look like at the end of this session:\n",
    "\n",
    "<img src='penguins/images/session5-pipeline.png' alt='Session 5 Pipeline' width=\"600\">\n"
   ]
  },
  {
   "cell_type": "code",
   "execution_count": 38,
   "id": "b341623a-9d8f-476a-8411-25cc75860a6c",
   "metadata": {
    "tags": []
   },
   "outputs": [
    {
     "name": "stdout",
     "output_type": "stream",
     "text": [
      "Overwriting code/session5.py\n"
     ]
    }
   ],
   "source": [
    "%%writefile {CODE_FOLDER}/session5.py\n",
    "\n",
    "from session1 import *\n",
    "from session2 import *\n",
    "from session3 import *\n",
    "from session4 import * \n",
    "\n",
    "from sagemaker.workflow.check_job_config import CheckJobConfig\n",
    "from sagemaker.workflow.quality_check_step import DataQualityCheckConfig, QualityCheckStep\n",
    "from sagemaker.model_monitor.dataset_format import DatasetFormat\n",
    "\n",
    "def delete_monitoring_schedule(schedule):\n",
    "    \"\"\"\n",
    "    Deletes a monitoring schedule. This function waits\n",
    "    for the job to finish before deleting it.\n",
    "    \"\"\"\n",
    "    \n",
    "    attempts = 30\n",
    "    q\n",
    "    try:\n",
    "        status = schedule.describe_schedule()[\"MonitoringScheduleStatus\"]\n",
    "    except Exception:\n",
    "        print(\"Monitoring schedule deleted.\")\n",
    "        return\n",
    "        \n",
    "    while status in (\"Pending\", \"InProgress\") and attempts > 0:\n",
    "        attempts -= 1\n",
    "        print(f\"Monitoring schedule status: {status}. Waiting for it to finish.\")\n",
    "        time.sleep(30)\n",
    "        status = schedule.describe_schedule()[\"MonitoringScheduleStatus\"]\n",
    "\n",
    "    if status not in (\"Pending\", \"InProgress\"):\n",
    "        schedule.delete_monitoring_schedule()\n",
    "        print(\"Monitoring schedule deleted.\")\n",
    "    else:\n",
    "        print(\"Waiting for monitoring schedule timed out\")"
   ]
  },
  {
   "cell_type": "markdown",
   "id": "24c26ac4-5d30-41e9-8952-e4deb39de819",
   "metadata": {},
   "source": [
    "## Step 1 - Generating a Baseline\n",
    "\n",
    "Let's now configure the [Quality Check Step](https://docs.aws.amazon.com/sagemaker/latest/dg/build-and-manage-steps.html#step-type-quality-check) and feed it the train set we generated in the preprocessing step.\n",
    "\n",
    "We can configure the instance that will run the quality check using the [CheckJobConfig](https://sagemaker.readthedocs.io/en/v2.73.0/workflows/pipelines/sagemaker.workflow.pipelines.html#sagemaker.workflow.check_job_config.CheckJobConfig) class, and we can use the `DataQualityCheckConfig` class to configure the job."
   ]
  },
  {
   "cell_type": "code",
   "execution_count": 39,
   "id": "0b80bcab-d2c5-437c-a1c8-8eea208c0e29",
   "metadata": {
    "tags": []
   },
   "outputs": [
    {
     "name": "stdout",
     "output_type": "stream",
     "text": [
      "Appending to code/session5.py\n"
     ]
    }
   ],
   "source": [
    "%%writefile -a {CODE_FOLDER}/session5.py\n",
    "\n",
    "data_quality_location = f\"{S3_FILEPATH}/monitoring/data-quality\"\n",
    "\n",
    "data_quality_baseline_step = QualityCheckStep(\n",
    "    name=\"generate-data-quality-baseline\",\n",
    "    \n",
    "    check_job_config = CheckJobConfig(\n",
    "        instance_type=\"ml.t3.xlarge\",\n",
    "        instance_count=1,\n",
    "        volume_size_in_gb=20,\n",
    "        sagemaker_session=sagemaker_session,\n",
    "        role=role,\n",
    "    ),\n",
    "    \n",
    "    quality_check_config = DataQualityCheckConfig(\n",
    "        # We will use the train dataset we generated during the preprocessing \n",
    "        # step to generate the data quality baseline.\n",
    "        baseline_dataset=preprocess_data_step.properties.ProcessingOutputConfig.Outputs[\"train-baseline\"].S3Output.S3Uri,\n",
    "\n",
    "        dataset_format=DatasetFormat.json(lines=True),\n",
    "        output_s3_uri=data_quality_location\n",
    "    ),\n",
    "    \n",
    "    skip_check=True,\n",
    "    register_new_baseline=True,\n",
    "    model_package_group_name=model_package_group_name,\n",
    "    cache_config=cache_config\n",
    ")"
   ]
  },
  {
   "cell_type": "markdown",
   "id": "08936035-1a36-4a0c-9529-76cc60b7850d",
   "metadata": {},
   "source": [
    "## Step 2 - Running the Pipeline\n",
    "\n",
    "We can now run the pipeline."
   ]
  },
  {
   "cell_type": "code",
   "execution_count": 40,
   "id": "8c926da4-043a-4237-ac71-90ef18cf806b",
   "metadata": {
    "tags": []
   },
   "outputs": [],
   "source": [
    "from session5 import *\n",
    "from sagemaker.workflow.pipeline import Pipeline\n",
    "\n",
    "\n",
    "pipeline = Pipeline(\n",
    "    name=\"penguins-session5-pipeline\",\n",
    "    parameters=[\n",
    "        dataset_location, \n",
    "        preprocessor_destination,\n",
    "        train_dataset_baseline_destination,\n",
    "        test_dataset_baseline_destination,\n",
    "        data_capture_percentage,\n",
    "        data_capture_destination,       \n",
    "        accuracy_threshold,\n",
    "    ],\n",
    "    steps=[\n",
    "        preprocess_data_step, \n",
    "        data_quality_baseline_step,\n",
    "        train_model_step, \n",
    "        evaluate_model_step,\n",
    "        condition_step\n",
    "    ],\n",
    "    pipeline_definition_config=pipeline_definition_config\n",
    ")"
   ]
  },
  {
   "cell_type": "markdown",
   "id": "34b9aeb7-1c63-470a-80dc-d5932715c088",
   "metadata": {},
   "source": [
    "Submit the pipeline definition to the SageMaker Pipelines service to create a pipeline if it doesn't exist or update it if it does."
   ]
  },
  {
   "cell_type": "code",
   "execution_count": 8,
   "id": "0eb61f6e-2e07-4b11-9c50-3df8ab2164bb",
   "metadata": {
    "tags": []
   },
   "outputs": [
    {
     "name": "stdout",
     "output_type": "stream",
     "text": [
      "Using provided s3_resource\n"
     ]
    },
    {
     "name": "stderr",
     "output_type": "stream",
     "text": [
      "Popping out 'CertifyForMarketplace' from the pipeline definition since it will be overridden in pipeline execution time.\n"
     ]
    },
    {
     "name": "stdout",
     "output_type": "stream",
     "text": [
      "Using provided s3_resource\n",
      "Using provided s3_resource\n",
      "Using provided s3_resource\n"
     ]
    }
   ],
   "source": [
    "pipeline.upsert(role_arn=role)\n",
    "execution = pipeline.start()"
   ]
  },
  {
   "cell_type": "markdown",
   "id": "60810a83-edba-464b-8b41-d96a89991769",
   "metadata": {
    "tags": []
   },
   "source": [
    "## Step 3 - Statistics and Constraints\n",
    "\n",
    "Our pipeline generated baseline statistics and constraints using our train set. We can take a look at what these values look like by downloading them from S3."
   ]
  },
  {
   "cell_type": "code",
   "execution_count": 14,
   "id": "4c6670fa-8560-4c12-9400-235bf1b10a7a",
   "metadata": {
    "tags": []
   },
   "outputs": [
    {
     "data": {
      "application/json": {
       "dataset": {
        "item_count": 239
       },
       "features": [
        {
         "inferred_type": "Fractional",
         "name": "body_mass_g",
         "numerical_statistics": {
          "common": {
           "num_missing": 0,
           "num_present": 239
          },
          "distribution": {
           "kll": {
            "buckets": [
             {
              "count": 12,
              "lower_bound": 2700,
              "upper_bound": 3060
             },
             {
              "count": 29,
              "lower_bound": 3060,
              "upper_bound": 3420
             },
             {
              "count": 52,
              "lower_bound": 3420,
              "upper_bound": 3780
             },
             {
              "count": 34,
              "lower_bound": 3780,
              "upper_bound": 4140
             },
             {
              "count": 29,
              "lower_bound": 4140,
              "upper_bound": 4500
             },
             {
              "count": 31,
              "lower_bound": 4500,
              "upper_bound": 4860
             },
             {
              "count": 20,
              "lower_bound": 4860,
              "upper_bound": 5220
             },
             {
              "count": 15,
              "lower_bound": 5220,
              "upper_bound": 5580
             },
             {
              "count": 12,
              "lower_bound": 5580,
              "upper_bound": 5940
             },
             {
              "count": 5,
              "lower_bound": 5940,
              "upper_bound": 6300
             }
            ],
            "sketch": {
             "data": [
              [
               2700,
               5550,
               5350,
               5500,
               3825,
               4200,
               4400,
               3700,
               4725,
               4400,
               5100,
               3400,
               3050,
               3950,
               3550,
               5200,
               3700,
               3300,
               3000,
               5350,
               5600,
               3425,
               4925,
               3325,
               3800,
               3150,
               3700,
               3550,
               5300,
               3900,
               4075,
               3600,
               3775,
               4875,
               5000,
               5650,
               5700,
               3950,
               4850,
               5000,
               4700,
               3725,
               3200,
               4750,
               3350,
               4600,
               4900,
               4700,
               4875,
               4450,
               5500,
               2850,
               5850,
               4050,
               4600,
               5150,
               3700,
               4250,
               5950,
               3750,
               3275,
               4400,
               3325,
               3500,
               4850,
               4400,
               6050,
               4050,
               3550,
               5200,
               4700,
               4300,
               3050,
               5800,
               5700,
               3450,
               3900,
               3250,
               3950,
               4575,
               3550,
               4700,
               3600,
               4875,
               3575,
               3675,
               5250,
               3100,
               4450,
               3450,
               4700,
               4550,
               3650,
               3050,
               4250,
               3250,
               3800,
               3750,
               4300,
               3200,
               4250,
               5800,
               5850,
               3900,
               3975,
               3650,
               5700,
               3300,
               3800,
               4100,
               4725,
               4775,
               3450,
               4625,
               3400,
               3775,
               3950,
               3800,
               2975,
               3000,
               5300,
               3900,
               4150,
               4200,
               3475,
               4800,
               3250,
               3075,
               5100,
               3525,
               3300,
               3325,
               3650,
               3750,
               3800,
               4750,
               3450,
               4475,
               4650,
               5050,
               3450,
               4450,
               5000,
               5700,
               5950,
               4250,
               3300,
               4150,
               3950,
               3350,
               3650,
               3900,
               3475,
               4650,
               3700,
               3350,
               4400,
               4000,
               5550,
               4050,
               3500,
               4550,
               4400,
               4050,
               3150,
               5050,
               3400,
               3450,
               4450,
               4950,
               3500,
               5550,
               2850,
               3700,
               5000,
               3150,
               4800,
               5350,
               4350,
               3800,
               3050,
               4750,
               3500,
               3600,
               3900,
               4350,
               4100,
               3500,
               3650,
               2900,
               4800,
               3700,
               3850,
               3550,
               4600,
               4600,
               3300,
               3600,
               5150,
               3800,
               3450,
               4400,
               4500,
               4050,
               4650,
               3400,
               4300,
               3950,
               5750,
               5650,
               3775,
               3475,
               3675,
               4100,
               5400,
               4450,
               3250,
               4850,
               4700,
               5400,
               3200,
               5550,
               6000,
               4400,
               5300,
               4300,
               5200,
               5200,
               3525,
               4675,
               3725,
               3550,
               6300,
               2900,
               3200,
               4000,
               4300,
               3450,
               3950
              ]
             ],
             "parameters": {
              "c": 0.64,
              "k": 2048
             }
            }
           }
          },
          "max": 6300,
          "mean": 4197.489539748954,
          "min": 2700,
          "std_dev": 811.2048576163056,
          "sum": 1003200
         }
        },
        {
         "inferred_type": "Fractional",
         "name": "culmen_depth_mm",
         "numerical_statistics": {
          "common": {
           "num_missing": 0,
           "num_present": 239
          },
          "distribution": {
           "kll": {
            "buckets": [
             {
              "count": 13,
              "lower_bound": 13.1,
              "upper_bound": 13.9
             },
             {
              "count": 27,
              "lower_bound": 13.9,
              "upper_bound": 14.7
             },
             {
              "count": 16,
              "lower_bound": 14.7,
              "upper_bound": 15.5
             },
             {
              "count": 26,
              "lower_bound": 15.5,
              "upper_bound": 16.3
             },
             {
              "count": 24,
              "lower_bound": 16.3,
              "upper_bound": 17.1
             },
             {
              "count": 39,
              "lower_bound": 17.1,
              "upper_bound": 17.900000000000002
             },
             {
              "count": 38,
              "lower_bound": 17.900000000000002,
              "upper_bound": 18.700000000000003
             },
             {
              "count": 30,
              "lower_bound": 18.700000000000003,
              "upper_bound": 19.5
             },
             {
              "count": 16,
              "lower_bound": 19.5,
              "upper_bound": 20.3
             },
             {
              "count": 10,
              "lower_bound": 20.3,
              "upper_bound": 21.1
             }
            ],
            "sketch": {
             "data": [
              [
               16.6,
               15.9,
               15.1,
               16.3,
               16.5,
               19.4,
               13.4,
               18.6,
               13.8,
               19.7,
               13.3,
               18.4,
               15.9,
               17.8,
               18,
               15.7,
               17.1,
               20,
               16.9,
               15.9,
               17.3,
               19,
               15.8,
               18.4,
               18.8,
               17.2,
               17.8,
               19.1,
               15.8,
               19.5,
               18.3,
               18.6,
               20.5,
               15.7,
               15.2,
               15.7,
               15.2,
               18.1,
               14.7,
               15,
               14.2,
               19.8,
               17.9,
               13.8,
               16.2,
               20.3,
               14.4,
               14.7,
               14.6,
               14.1,
               16.1,
               17.1,
               14.6,
               19.9,
               18.8,
               15.4,
               17.3,
               20,
               16.4,
               18.1,
               17.6,
               18.2,
               17.9,
               18.6,
               14.3,
               21.1,
               17,
               19.6,
               17.5,
               15.3,
               17.6,
               18.3,
               15.5,
               16.2,
               16.3,
               19,
               18.4,
               18,
               19.2,
               14,
               17.2,
               14.2,
               17.3,
               14,
               17.1,
               17.3,
               17.3,
               18.5,
               14.5,
               17,
               14.2,
               13.5,
               17.5,
               17.1,
               17.9,
               16.7,
               18.9,
               18.2,
               18.1,
               17.6,
               18.6,
               16,
               16,
               17.5,
               20.1,
               16.5,
               14.3,
               17.9,
               17.4,
               19.1,
               20,
               19,
               19.3,
               14.5,
               17.1,
               18.2,
               13.7,
               17.2,
               18.9,
               16.8,
               14.1,
               19.4,
               21.1,
               13.8,
               18.4,
               14.6,
               18.7,
               16,
               15.6,
               18.7,
               19.3,
               17,
               19.2,
               18.7,
               17.8,
               13.8,
               18.6,
               18.5,
               19.1,
               15.4,
               17.8,
               18.5,
               15.6,
               16,
               15.9,
               18.5,
               17.8,
               18.9,
               19,
               16.7,
               20.6,
               20.7,
               18.1,
               13.7,
               19.9,
               17,
               21.1,
               19.8,
               15.3,
               18.2,
               17,
               20,
               14.4,
               19.5,
               18,
               14.5,
               16.5,
               18.8,
               18.1,
               13.7,
               19.2,
               17,
               16.6,
               18.6,
               13.1,
               16.9,
               14.5,
               15.7,
               13.6,
               18.8,
               16.6,
               15,
               17.7,
               17.3,
               18.9,
               18.5,
               19,
               17.9,
               17,
               16.1,
               20.7,
               17.8,
               18.3,
               18.5,
               14.2,
               14.4,
               17.1,
               18.8,
               14.8,
               19.2,
               17.9,
               14.5,
               20.7,
               19.7,
               13.7,
               18.3,
               13.9,
               18,
               15.7,
               16.1,
               18.7,
               17.2,
               17.9,
               14.3,
               14.5,
               19.4,
               16.6,
               14.2,
               15,
               16.1,
               17.7,
               16.1,
               16.2,
               13.9,
               14.2,
               19.6,
               14.8,
               14.8,
               19.4,
               19.6,
               17,
               18.9,
               15.2,
               18.1,
               16.6,
               19,
               20.8,
               17.9,
               18.9
              ]
             ],
             "parameters": {
              "c": 0.64,
              "k": 2048
             }
            }
           }
          },
          "max": 21.1,
          "mean": 17.137238493723842,
          "min": 13.1,
          "std_dev": 1.9642607789079047,
          "sum": 4095.7999999999984
         }
        },
        {
         "inferred_type": "Fractional",
         "name": "culmen_length_mm",
         "numerical_statistics": {
          "common": {
           "num_missing": 0,
           "num_present": 239
          },
          "distribution": {
           "kll": {
            "buckets": [
             {
              "count": 6,
              "lower_bound": 32.1,
              "upper_bound": 34.85
             },
             {
              "count": 31,
              "lower_bound": 34.85,
              "upper_bound": 37.6
             },
             {
              "count": 39,
              "lower_bound": 37.6,
              "upper_bound": 40.35
             },
             {
              "count": 34,
              "lower_bound": 40.35,
              "upper_bound": 43.1
             },
             {
              "count": 37,
              "lower_bound": 43.1,
              "upper_bound": 45.85
             },
             {
              "count": 31,
              "lower_bound": 45.85,
              "upper_bound": 48.6
             },
             {
              "count": 47,
              "lower_bound": 48.6,
              "upper_bound": 51.35
             },
             {
              "count": 8,
              "lower_bound": 51.35,
              "upper_bound": 54.1
             },
             {
              "count": 4,
              "lower_bound": 54.1,
              "upper_bound": 56.85
             },
             {
              "count": 2,
              "lower_bound": 56.85,
              "upper_bound": 59.6
             }
            ],
            "sketch": {
             "data": [
              [
               46.9,
               50.5,
               48.7,
               51.5,
               38.1,
               35.1,
               43.3,
               41.4,
               47.3,
               44.1,
               44.9,
               50.5,
               35.2,
               45.2,
               35.7,
               50.8,
               36,
               50.3,
               37,
               50,
               50.8,
               41.1,
               49.4,
               34.4,
               50.2,
               36.2,
               36.6,
               50.9,
               45.2,
               50,
               42.7,
               49.7,
               37.3,
               44.5,
               50.5,
               54.3,
               50,
               38.2,
               44.5,
               50.1,
               45.8,
               52.7,
               40.5,
               44.9,
               35.5,
               45.6,
               46.5,
               41.7,
               46.9,
               48.7,
               46.8,
               36.4,
               48.4,
               49.3,
               39.6,
               46.8,
               47,
               37.8,
               45.2,
               37.8,
               38.8,
               49.2,
               38.5,
               36.9,
               46.8,
               34.6,
               59.6,
               50.5,
               39,
               46.7,
               42.9,
               41.5,
               32.1,
               49.5,
               50,
               38.7,
               40.8,
               40.3,
               38.3,
               43.3,
               39.6,
               43.5,
               45.7,
               47.5,
               45.9,
               49.8,
               44.4,
               36,
               43.2,
               40.2,
               42.8,
               46.5,
               46.2,
               39,
               39.7,
               39.5,
               35.3,
               51.3,
               41.1,
               41.1,
               39.2,
               48.6,
               55.1,
               41.1,
               40.2,
               46.8,
               50.2,
               46.7,
               39.5,
               41.1,
               41,
               43.2,
               36.7,
               49.1,
               40.2,
               49.6,
               42.7,
               38.8,
               37.5,
               37.3,
               48.5,
               37.2,
               39.2,
               45.3,
               36.6,
               45.4,
               51.5,
               37.7,
               48.2,
               45.4,
               37.6,
               36.4,
               51.3,
               39.1,
               46.6,
               45.2,
               46.4,
               37.5,
               39.8,
               45,
               36,
               50.8,
               46.4,
               49.6,
               49.8,
               42.8,
               39.5,
               45.8,
               51.4,
               42.5,
               39.3,
               39.6,
               34.1,
               45.5,
               51.3,
               35.7,
               41.3,
               55.8,
               50.4,
               41.1,
               45.5,
               52.8,
               45.1,
               42,
               36.5,
               45.1,
               37,
               52.2,
               39.6,
               42.6,
               43.1,
               52.1,
               36.5,
               38.1,
               42.9,
               35.7,
               46.2,
               48.7,
               44,
               36.7,
               35.9,
               47.7,
               39.6,
               42.4,
               40.9,
               40.3,
               50.8,
               46.5,
               45.7,
               33.1,
               52,
               58,
               47.6,
               42.2,
               47.5,
               43.4,
               37.8,
               38.9,
               49.1,
               35.9,
               35,
               46.5,
               42.5,
               50.7,
               40.9,
               37.8,
               43.8,
               41.6,
               50.4,
               49.5,
               50.2,
               40.6,
               50.9,
               44.5,
               47.6,
               41.8,
               45.2,
               46.6,
               46.4,
               49.9,
               39.7,
               49,
               48.8,
               45.7,
               51.3,
               49,
               46.5,
               45.2,
               45.6,
               39.2,
               40.7,
               39.7,
               49.2,
               34.5,
               40.9,
               40.6,
               54.2,
               36,
               40.5
              ]
             ],
             "parameters": {
              "c": 0.64,
              "k": 2048
             }
            }
           }
          },
          "max": 59.6,
          "mean": 43.84476987447703,
          "min": 32.1,
          "std_dev": 5.4635999605234815,
          "sum": 10478.90000000001
         }
        },
        {
         "inferred_type": "Fractional",
         "name": "flipper_length_mm",
         "numerical_statistics": {
          "common": {
           "num_missing": 0,
           "num_present": 239
          },
          "distribution": {
           "kll": {
            "buckets": [
             {
              "count": 5,
              "lower_bound": 174,
              "upper_bound": 179.7
             },
             {
              "count": 25,
              "lower_bound": 179.7,
              "upper_bound": 185.4
             },
             {
              "count": 47,
              "lower_bound": 185.4,
              "upper_bound": 191.1
             },
             {
              "count": 42,
              "lower_bound": 191.1,
              "upper_bound": 196.8
             },
             {
              "count": 27,
              "lower_bound": 196.8,
              "upper_bound": 202.5
             },
             {
              "count": 14,
              "lower_bound": 202.5,
              "upper_bound": 208.2
             },
             {
              "count": 22,
              "lower_bound": 208.2,
              "upper_bound": 213.9
             },
             {
              "count": 28,
              "lower_bound": 213.9,
              "upper_bound": 219.6
             },
             {
              "count": 18,
              "lower_bound": 219.6,
              "upper_bound": 225.3
             },
             {
              "count": 11,
              "lower_bound": 225.3,
              "upper_bound": 231
             }
            ],
            "sketch": {
             "data": [
              [
               192,
               222,
               222,
               230,
               198,
               193,
               209,
               191,
               216,
               196,
               213,
               200,
               186,
               198,
               202,
               226,
               187,
               197,
               185,
               224,
               228,
               182,
               216,
               184,
               202,
               187,
               185,
               196,
               215,
               196,
               196,
               195,
               199,
               217,
               216,
               231,
               218,
               185,
               214,
               225,
               219,
               197,
               187,
               212,
               195,
               191,
               217,
               210,
               222,
               210,
               215,
               184,
               213,
               203,
               190,
               215,
               185,
               190,
               223,
               193,
               191,
               195,
               190,
               189,
               215,
               198,
               230,
               201,
               186,
               219,
               196,
               195,
               188,
               229,
               230,
               195,
               195,
               195,
               189,
               208,
               196,
               220,
               193,
               212,
               190,
               198,
               219,
               186,
               208,
               176,
               209,
               210,
               187,
               191,
               193,
               178,
               187,
               197,
               205,
               182,
               190,
               230,
               230,
               190,
               200,
               189,
               218,
               195,
               186,
               188,
               203,
               197,
               193,
               212,
               193,
               193,
               208,
               180,
               179,
               192,
               220,
               184,
               196,
               208,
               184,
               211,
               187,
               183,
               221,
               188,
               181,
               195,
               193,
               181,
               193,
               215,
               190,
               199,
               184,
               220,
               195,
               201,
               221,
               225,
               229,
               195,
               188,
               197,
               201,
               187,
               190,
               191,
               193,
               214,
               198,
               189,
               195,
               207,
               224,
               192,
               196,
               205,
               210,
               200,
               182,
               207,
               185,
               197,
               186,
               213,
               197,
               230,
               181,
               190,
               215,
               185,
               209,
               208,
               208,
               187,
               190,
               216,
               186,
               181,
               184,
               196,
               210,
               192,
               195,
               178,
               210,
               181,
               195,
               180,
               209,
               218,
               186,
               190,
               220,
               189,
               190,
               213,
               197,
               203,
               214,
               174,
               208,
               192,
               222,
               224,
               198,
               187,
               196,
               216,
               215,
               198,
               191,
               210,
               216,
               213,
               193,
               216,
               222,
               214,
               218,
               212,
               217,
               212,
               194,
               195,
               190,
               184,
               221,
               187,
               187,
               199,
               201,
               190,
               180
              ]
             ],
             "parameters": {
              "c": 0.64,
              "k": 2048
             }
            }
           }
          },
          "max": 231,
          "mean": 200.64016736401675,
          "min": 174,
          "std_dev": 14.007925788967746,
          "sum": 47953
         }
        },
        {
         "inferred_type": "String",
         "name": "island",
         "string_statistics": {
          "common": {
           "num_missing": 0,
           "num_present": 239
          },
          "distinct_count": 3,
          "distribution": {
           "categorical": {
            "buckets": [
             {
              "count": 90,
              "value": "Dream"
             },
             {
              "count": 34,
              "value": "Torgersen"
             },
             {
              "count": 115,
              "value": "Biscoe"
             }
            ]
           }
          }
         }
        },
        {
         "inferred_type": "String",
         "name": "species",
         "string_statistics": {
          "common": {
           "num_missing": 0,
           "num_present": 239
          },
          "distinct_count": 3,
          "distribution": {
           "categorical": {
            "buckets": [
             {
              "count": 106,
              "value": "Adelie"
             },
             {
              "count": 49,
              "value": "Chinstrap"
             },
             {
              "count": 84,
              "value": "Gentoo"
             }
            ]
           }
          }
         }
        }
       ],
       "version": 0
      },
      "text/plain": [
       "<IPython.core.display.JSON object>"
      ]
     },
     "execution_count": 14,
     "metadata": {
      "application/json": {
       "expanded": false,
       "root": "root"
      }
     },
     "output_type": "execute_result"
    }
   ],
   "source": [
    "from IPython.display import JSON\n",
    "\n",
    "statistics = f\"{data_quality_location}/statistics.json\"\n",
    "JSON(json.loads(S3Downloader.read_file(statistics)))"
   ]
  },
  {
   "cell_type": "code",
   "execution_count": 15,
   "id": "c17076de-e3ba-4b0d-9472-d4d2dab542bd",
   "metadata": {
    "tags": []
   },
   "outputs": [
    {
     "data": {
      "application/json": {
       "features": [
        {
         "completeness": 1,
         "inferred_type": "Fractional",
         "name": "body_mass_g",
         "num_constraints": {
          "is_non_negative": true
         }
        },
        {
         "completeness": 1,
         "inferred_type": "Fractional",
         "name": "culmen_depth_mm",
         "num_constraints": {
          "is_non_negative": true
         }
        },
        {
         "completeness": 1,
         "inferred_type": "Fractional",
         "name": "culmen_length_mm",
         "num_constraints": {
          "is_non_negative": true
         }
        },
        {
         "completeness": 1,
         "inferred_type": "Fractional",
         "name": "flipper_length_mm",
         "num_constraints": {
          "is_non_negative": true
         }
        },
        {
         "completeness": 1,
         "inferred_type": "String",
         "name": "island",
         "string_constraints": {
          "domains": [
           "Dream",
           "Torgersen",
           "Biscoe"
          ]
         }
        },
        {
         "completeness": 1,
         "inferred_type": "String",
         "name": "species",
         "string_constraints": {
          "domains": [
           "Adelie",
           "Chinstrap",
           "Gentoo"
          ]
         }
        }
       ],
       "monitoring_config": {
        "datatype_check_threshold": 1,
        "distribution_constraints": {
         "categorical_comparison_threshold": 0.1,
         "categorical_drift_method": "LInfinity",
         "comparison_method": "Robust",
         "comparison_threshold": 0.1,
         "perform_comparison": "Enabled"
        },
        "domain_content_threshold": 1,
        "emit_metrics": "Enabled",
        "evaluate_constraints": "Enabled"
       },
       "version": 0
      },
      "text/plain": [
       "<IPython.core.display.JSON object>"
      ]
     },
     "execution_count": 15,
     "metadata": {
      "application/json": {
       "expanded": false,
       "root": "root"
      }
     },
     "output_type": "execute_result"
    }
   ],
   "source": [
    "constraints = f\"{data_quality_location}/constraints.json\"\n",
    "JSON(json.loads(S3Downloader.read_file(constraints)))"
   ]
  },
  {
   "cell_type": "markdown",
   "id": "16bc1535-7854-4901-b9f0-3c3250b8252a",
   "metadata": {},
   "source": [
    "## Step 4 - Generating Endpoint Traffic\n",
    "\n",
    "Let's generate some traffic for our endpoint so we can test the monitoring functionality. We will repeatedly send every sample from the dataset to the endpoint to simulate real prediction requests."
   ]
  },
  {
   "cell_type": "code",
   "execution_count": 16,
   "id": "480e5feb-915a-4e38-9b96-1f092fa09507",
   "metadata": {
    "tags": []
   },
   "outputs": [
    {
     "name": "stdout",
     "output_type": "stream",
     "text": [
      "Appending to code/session5.py\n"
     ]
    }
   ],
   "source": [
    "%%writefile -a {CODE_FOLDER}/session5.py\n",
    "\n",
    "import pandas as pd\n",
    "from threading import Thread, Event\n",
    "from time import sleep\n",
    "\n",
    "def generate_traffic(predictor):\n",
    "    \n",
    "    def _predict(data, predictor, stop_traffic_thread):\n",
    "        for index, row in data.iterrows():\n",
    "            predictor.predict(row.to_dict(), inference_id=str(index))\n",
    "            \n",
    "            sleep(1)\n",
    "\n",
    "            if stop_traffic_thread.is_set():\n",
    "                break\n",
    "\n",
    "    def _generate_prediction_data(data, predictor, stop_traffic_thread):\n",
    "        while True:\n",
    "            print(f\"Generating {data.shape[0]} predictions...\")\n",
    "            _predict(data, predictor, stop_traffic_thread)\n",
    "            \n",
    "            if stop_traffic_thread.is_set():\n",
    "                break\n",
    "\n",
    "                \n",
    "    stop_traffic_thread = Event()\n",
    "    \n",
    "    data = pd.read_csv(LOCAL_FILEPATH).dropna()\n",
    "    data.drop([\"sex\", \"species\"], axis=1, inplace=True)\n",
    "    \n",
    "    traffic_thread = Thread(\n",
    "        target=_generate_prediction_data,\n",
    "        args=(data, predictor, stop_traffic_thread,)\n",
    "    )\n",
    "    \n",
    "    traffic_thread.start()\n",
    "    \n",
    "    return stop_traffic_thread, traffic_thread\n"
   ]
  },
  {
   "cell_type": "markdown",
   "id": "0e3c5fb0-0580-4472-bb9e-e1b60aa01693",
   "metadata": {},
   "source": [
    "Let's start generating the traffic."
   ]
  },
  {
   "cell_type": "code",
   "execution_count": 17,
   "id": "fa8bb3ca-acdc-49cd-a77d-8894fec8e01e",
   "metadata": {
    "tags": []
   },
   "outputs": [
    {
     "name": "stdout",
     "output_type": "stream",
     "text": [
      "Generating 334 predictions...\n"
     ]
    }
   ],
   "source": [
    "import session5\n",
    "from session5 import *\n",
    "from sagemaker.predictor import Predictor\n",
    "from sagemaker.serializers import JSONSerializer\n",
    "from sagemaker.deserializers import JSONDeserializer\n",
    "\n",
    "waiter = sagemaker_client.get_waiter(\"endpoint_in_service\")\n",
    "waiter.wait(\n",
    "    EndpointName=session5.endpoint_name,\n",
    "    WaiterConfig={\n",
    "        \"Delay\": 10,\n",
    "        \"MaxAttempts\": 30\n",
    "    }\n",
    ")\n",
    "\n",
    "predictor = Predictor(\n",
    "    endpoint_name=session5.endpoint_name,\n",
    "    serializer=JSONSerializer(),\n",
    "    deserializer=JSONDeserializer()\n",
    ")\n",
    "\n",
    "stop_traffic_thread, traffic_thread = generate_traffic(predictor)"
   ]
  },
  {
   "cell_type": "markdown",
   "id": "184a24f8-9fac-47ef-b707-4919d2c14ecd",
   "metadata": {
    "tags": []
   },
   "source": [
    "## Step 5 - Checking the Captured Data\n",
    "\n",
    "Let's check the S3 location where the endpoint stores the requests and responses that it receives.\n",
    "\n",
    "Notice that it make take a few minutes for the first few files to show up in S3. Keep running the following line until you get some."
   ]
  },
  {
   "cell_type": "code",
   "execution_count": 18,
   "id": "3ba479ee-aefc-4480-9ebf-cd3e679edbe0",
   "metadata": {
    "tags": []
   },
   "outputs": [
    {
     "data": {
      "text/plain": [
       "['s3://mlschool/penguins/monitoring/data-capture/penguins-endpoint/AllTraffic/2023/06/27/10/58-55-069-5a80dc2b-dafe-4be7-920a-eaece978479b.jsonl',\n",
       " 's3://mlschool/penguins/monitoring/data-capture/penguins-endpoint/AllTraffic/2023/06/27/10/59-56-068-4bdc305d-5965-490e-b0e5-5e687dac7702.jsonl',\n",
       " 's3://mlschool/penguins/monitoring/data-capture/penguins-endpoint/AllTraffic/2023/06/27/11/00-56-384-6decb274-dfde-459c-9bf9-e53036a12711.jsonl']"
      ]
     },
     "execution_count": 18,
     "metadata": {},
     "output_type": "execute_result"
    }
   ],
   "source": [
    "files = S3Downloader.list(data_capture_destination.default_value)[:3]\n",
    "files"
   ]
  },
  {
   "cell_type": "markdown",
   "id": "52455abe-3eea-46e5-a4b3-95a83ba5f926",
   "metadata": {},
   "source": [
    "These files contain the data captured by the endpoint in a SageMaker-specific JSON-line format. Each inference request is captured in a single line in the `jsonl` file. The line contains both the input and output merged together.\n",
    "\n",
    "Let's read the first line from the first file:"
   ]
  },
  {
   "cell_type": "code",
   "execution_count": 19,
   "id": "ea31c263-f941-4177-bdc7-842e4b6172b9",
   "metadata": {
    "tags": []
   },
   "outputs": [
    {
     "name": "stdout",
     "output_type": "stream",
     "text": [
      "{\n",
      "  \"captureData\": {\n",
      "    \"endpointInput\": {\n",
      "      \"observedContentType\": \"application/json\",\n",
      "      \"mode\": \"INPUT\",\n",
      "      \"data\": \"{\\\"island\\\": \\\"Torgersen\\\", \\\"culmen_length_mm\\\": 39.1, \\\"culmen_depth_mm\\\": 18.7, \\\"flipper_length_mm\\\": 181.0, \\\"body_mass_g\\\": 3750.0}\",\n",
      "      \"encoding\": \"JSON\"\n",
      "    },\n",
      "    \"endpointOutput\": {\n",
      "      \"observedContentType\": \"application/json\",\n",
      "      \"mode\": \"OUTPUT\",\n",
      "      \"data\": \"{\\\"species\\\": \\\"Adelie\\\", \\\"prediction\\\": 0, \\\"confidence\\\": 0.809994876}\",\n",
      "      \"encoding\": \"JSON\"\n",
      "    }\n",
      "  },\n",
      "  \"eventMetadata\": {\n",
      "    \"eventId\": \"705ebc5b-70c7-4eab-977a-807320b1b589\",\n",
      "    \"inferenceId\": \"0\",\n",
      "    \"inferenceTime\": \"2023-06-27T10:58:55Z\"\n",
      "  },\n",
      "  \"eventVersion\": \"0\"\n",
      "}\n"
     ]
    }
   ],
   "source": [
    "if len(files):\n",
    "    lines = S3Downloader.read_file(files[0])\n",
    "    print(json.dumps(json.loads(lines.split(\"\\n\")[0]), indent=2))"
   ]
  },
  {
   "cell_type": "markdown",
   "id": "3c7a58ae-d3aa-4f69-bd52-66b05458bee7",
   "metadata": {
    "tags": []
   },
   "source": [
    "## Step 6 - Scheduling the Monitoring Job\n",
    "\n",
    "We can now set up a schedule to continuously monitor data going into the endpoint and compare it to the baseline we generated before. This monitoring job will use the baseline statistics and constraints we generated during the Data Quality Check Step. Check [Schedule Data Quality Monitoring Jobs](https://docs.aws.amazon.com/sagemaker/latest/dg/model-monitor-schedule-data-monitor.html) for more information.\n",
    "\n",
    "SageMaker looks for violations in the data captured by the endpoint. By default, it combines the input data with the endpoint output and compare the result with the baseline we generated. If we let SageMaker do this, we will get a few violations, for example an \"extra column check\" violation because the fields `confidence` and `prediction` don't exist in the baseline data.\n",
    "\n",
    "We can fix these violations by creating a preprocessing script configuring the data we want the monitoring job to use.\n"
   ]
  },
  {
   "cell_type": "code",
   "execution_count": 20,
   "id": "345efa6b-40bd-4084-83fd-654847bf22c3",
   "metadata": {
    "tags": []
   },
   "outputs": [],
   "source": [
    "DATA_QUALITY_PREPROCESSOR = \"data_quality_preprocessor.py\""
   ]
  },
  {
   "cell_type": "markdown",
   "id": "a22c83ca-9b2c-40cc-81f9-bf85c0f17b5e",
   "metadata": {},
   "source": [
    "Here is the preprocessing script for the Data Quality Monitoring Job. Check [Preprocessing and Postprocessing](https://docs.aws.amazon.com/sagemaker/latest/dg/model-monitor-pre-and-post-processing.html) for more information about how to configure these scripts."
   ]
  },
  {
   "cell_type": "code",
   "execution_count": 21,
   "id": "2efcc106-b86d-4998-8fae-095c52a2b56b",
   "metadata": {
    "tags": []
   },
   "outputs": [
    {
     "name": "stdout",
     "output_type": "stream",
     "text": [
      "Overwriting code/data_quality_preprocessor.py\n"
     ]
    }
   ],
   "source": [
    "%%writefile {CODE_FOLDER}/{DATA_QUALITY_PREPROCESSOR}\n",
    "\n",
    "import json\n",
    "\n",
    "def preprocess_handler(inference_record):\n",
    "    input_data = inference_record.endpoint_input.data\n",
    "    output_data = json.loads(inference_record.endpoint_output.data)\n",
    "    \n",
    "    response = json.loads(input_data)\n",
    "    response[\"species\"] = output_data[\"species\"]\n",
    "\n",
    "    # The `response` variable contains the data that we want the\n",
    "    # monitoring job to use to compare with the baseline.\n",
    "    return response"
   ]
  },
  {
   "cell_type": "markdown",
   "id": "f4fa310b-2443-4a61-a09a-ea59df21f5c6",
   "metadata": {},
   "source": [
    "The monitoring schedule expects an S3 location pointing to the preprocessing script. Let's upload the script to the default bucket."
   ]
  },
  {
   "cell_type": "code",
   "execution_count": 22,
   "id": "f501b907-6844-412e-bb79-e04fce790e7c",
   "metadata": {
    "tags": []
   },
   "outputs": [
    {
     "data": {
      "text/plain": [
       "'s3://sagemaker-us-east-1-325223348818/penguins-monitoring/data_quality_preprocessor.py'"
      ]
     },
     "execution_count": 22,
     "metadata": {},
     "output_type": "execute_result"
    }
   ],
   "source": [
    "import os\n",
    "\n",
    "bucket = boto3.Session().resource(\"s3\").Bucket(sagemaker_session.default_bucket())\n",
    "prefix = \"penguins-monitoring\"\n",
    "bucket.Object(os.path.join(prefix, DATA_QUALITY_PREPROCESSOR)).upload_file(str(Path(CODE_FOLDER) / DATA_QUALITY_PREPROCESSOR))\n",
    "data_quality_preprocessor = f\"s3://{os.path.join(bucket.name, prefix, DATA_QUALITY_PREPROCESSOR)}\"\n",
    "data_quality_preprocessor"
   ]
  },
  {
   "cell_type": "markdown",
   "id": "b59c8199-5c13-4284-9ca9-1b695e3ff122",
   "metadata": {},
   "source": [
    "We can now set up the Data Quality Monitoring Job using the [DefaultModelMonitor](https://sagemaker.readthedocs.io/en/stable/api/inference/model_monitor.html#sagemaker.model_monitor.model_monitoring.DefaultModelMonitor) class. Notice how we specify the `record_preprocessor_script` using the S3 location where we uploaded our script."
   ]
  },
  {
   "cell_type": "code",
   "execution_count": 95,
   "id": "5ded982d-d858-4ca6-b754-196917251a60",
   "metadata": {
    "tags": []
   },
   "outputs": [
    {
     "name": "stderr",
     "output_type": "stream",
     "text": [
      "INFO:sagemaker.image_uris:Defaulting to the only supported framework/algorithm version: .\n",
      "INFO:sagemaker.image_uris:Ignoring unnecessary instance type: None.\n",
      "INFO:sagemaker.model_monitor.model_monitoring:Creating Monitoring Schedule with name: penguins-data-monitoring-schedule\n"
     ]
    }
   ],
   "source": [
    "from sagemaker.model_monitor import CronExpressionGenerator, DefaultModelMonitor\n",
    "\n",
    "data_monitor = DefaultModelMonitor(\n",
    "    instance_type=\"ml.m5.xlarge\",\n",
    "    instance_count=1,\n",
    "    max_runtime_in_seconds=3600,\n",
    "    role=role,\n",
    ")\n",
    "\n",
    "data_monitor.create_monitoring_schedule(\n",
    "    monitor_schedule_name=\"penguins-data-monitoring-schedule\",\n",
    "    endpoint_input=predictor.endpoint_name,\n",
    "    record_preprocessor_script=data_quality_preprocessor,\n",
    "    statistics=f\"{data_quality_location}/statistics.json\",\n",
    "    constraints=f\"{data_quality_location}/constraints.json\",\n",
    "    schedule_cron_expression=CronExpressionGenerator.hourly(),\n",
    ")"
   ]
  },
  {
   "cell_type": "markdown",
   "id": "f3705ec7-e7fb-4eca-8290-53df06361e77",
   "metadata": {},
   "source": [
    "You can describe the schedule to see more information about the Data Quality Monitoring Job."
   ]
  },
  {
   "cell_type": "markdown",
   "id": "a43cb2fa-0947-479a-b6be-969b0878cb6f",
   "metadata": {},
   "source": [
    "## Step 7 - Introducing a Violation\n",
    "\n",
    "Let's make a prediction for a penguin and include extra fields in the request. This should be flagged by the monitoring job."
   ]
  },
  {
   "cell_type": "code",
   "execution_count": 23,
   "id": "c4f88fd4-ceae-4b1f-9085-b7cf54bd899f",
   "metadata": {
    "tags": []
   },
   "outputs": [
    {
     "data": {
      "text/plain": [
       "{'species': 'Adelie', 'prediction': 0, 'confidence': 0.669251382}"
      ]
     },
     "execution_count": 23,
     "metadata": {},
     "output_type": "execute_result"
    }
   ],
   "source": [
    "predictor.predict({\n",
    "    \"island\": \"Dream\",\n",
    "    \"culmen_length_mm\": 46.4,\n",
    "    \"culmen_depth_mm\": 18.6,\n",
    "    \"flipper_length_mm\": 190.0,\n",
    "    \"body_mass_g\": 5608.0,\n",
    "    \n",
    "    # These two columns are not in the baseline data,\n",
    "    # so they will be reported by the monitoring job\n",
    "    # as a violation.\n",
    "    \"name\": \"Johnny\",\n",
    "    \"height\": 28.0\n",
    "})"
   ]
  },
  {
   "cell_type": "markdown",
   "id": "8863d029-90ff-4626-8e40-af153bb7d6b3",
   "metadata": {},
   "source": [
    "## Step 8 - Checking Monitoring Violations\n",
    "\n",
    "We can check the results of the monitoring job by looking at whether it generated any violations."
   ]
  },
  {
   "cell_type": "code",
   "execution_count": 115,
   "id": "2e6ce5ec-a4c4-4f79-a78b-d27f678f6db9",
   "metadata": {
    "tags": []
   },
   "outputs": [
    {
     "data": {
      "text/plain": [
       "{'MonitoringScheduleArn': 'arn:aws:sagemaker:us-east-1:325223348818:monitoring-schedule/penguins-data-monitoring-schedule',\n",
       " 'MonitoringScheduleName': 'penguins-data-monitoring-schedule',\n",
       " 'MonitoringScheduleStatus': 'Scheduled',\n",
       " 'MonitoringType': 'DataQuality',\n",
       " 'CreationTime': datetime.datetime(2023, 6, 28, 10, 25, 47, 459000, tzinfo=tzlocal()),\n",
       " 'LastModifiedTime': datetime.datetime(2023, 6, 28, 11, 18, 42, 954000, tzinfo=tzlocal()),\n",
       " 'MonitoringScheduleConfig': {'ScheduleConfig': {'ScheduleExpression': 'cron(0 * ? * * *)'},\n",
       "  'MonitoringJobDefinitionName': 'data-quality-job-definition-2023-06-28-10-25-46-656',\n",
       "  'MonitoringType': 'DataQuality'},\n",
       " 'EndpointName': 'penguins-endpoint',\n",
       " 'LastMonitoringExecutionSummary': {'MonitoringScheduleName': 'penguins-data-monitoring-schedule',\n",
       "  'ScheduledTime': datetime.datetime(2023, 6, 28, 11, 0, tzinfo=tzlocal()),\n",
       "  'CreationTime': datetime.datetime(2023, 6, 28, 11, 5, 38, 386000, tzinfo=tzlocal()),\n",
       "  'LastModifiedTime': datetime.datetime(2023, 6, 28, 11, 18, 42, 944000, tzinfo=tzlocal()),\n",
       "  'MonitoringExecutionStatus': 'Completed',\n",
       "  'ProcessingJobArn': 'arn:aws:sagemaker:us-east-1:325223348818:processing-job/model-monitoring-202306281100-84c05d03db8bb211e269b6b1',\n",
       "  'EndpointName': 'penguins-endpoint'},\n",
       " 'ResponseMetadata': {'RequestId': '9a24b30b-cc95-49d6-85cb-a8de1f1155e0',\n",
       "  'HTTPStatusCode': 200,\n",
       "  'HTTPHeaders': {'x-amzn-requestid': '9a24b30b-cc95-49d6-85cb-a8de1f1155e0',\n",
       "   'content-type': 'application/x-amz-json-1.1',\n",
       "   'content-length': '957',\n",
       "   'date': 'Wed, 28 Jun 2023 12:00:21 GMT'},\n",
       "  'RetryAttempts': 0}}"
      ]
     },
     "execution_count": 115,
     "metadata": {},
     "output_type": "execute_result"
    },
    {
     "name": "stdout",
     "output_type": "stream",
     "text": [
      "Generating 334 predictions...\n",
      "Generating 334 predictions...\n",
      "Generating 334 predictions...\n"
     ]
    }
   ],
   "source": [
    "description = data_monitor.describe_schedule()\n",
    "description"
   ]
  },
  {
   "cell_type": "code",
   "execution_count": 104,
   "id": "56bd9ea6-e0e0-43b2-b1e6-05d18a131e8d",
   "metadata": {
    "tags": []
   },
   "outputs": [
    {
     "name": "stdout",
     "output_type": "stream",
     "text": [
      "Status: Completed\n",
      "Generating 334 predictions...\n"
     ]
    }
   ],
   "source": [
    "from sagemaker.model_monitor import MonitoringExecution\n",
    ")\n",
    "\n",
    "status = description[\"LastMonitoringExecutionSummary\"][\"MonitoringExecutionStatus\"]\n",
    "print(f\"Status: {status}\")\n",
    "\n",
    "if status == \"CompletedWithViolations\":\n",
    "    processing_job_arn = description[\"LastMonitoringExecutionSummary\"][\"ProcessingJobArn\"]\n",
    "    execution = MonitoringExecution.from_processing_arn(sagemaker_session=sagemaker_session, processing_job_arn=processing_job_arn)\n",
    "    execution_destination = execution.output.destination\n",
    "    \n",
    "    violations_filepath = os.path.join(execution_destination, \"constraint_violations.json\")\n",
    "    violations = json.loads(S3Downloader.read_file(violations_filepath))[\"violations\"]\n",
    "    \n",
    "    print(json.dumps(violations, indent=2))"
   ]
  },
  {
   "cell_type": "markdown",
   "id": "13d1f841-8962-436c-9766-0359a709747b",
   "metadata": {},
   "source": [
    "## Step 9 - Cleaning up\n",
    "\n",
    "Let's stop the monitoring jobs by deleting the monitoring schedule we created before. "
   ]
  },
  {
   "cell_type": "code",
   "execution_count": 24,
   "id": "7874ccff-3f43-4aea-ab13-ef41b4d5bae6",
   "metadata": {},
   "outputs": [
    {
     "ename": "NameError",
     "evalue": "name 'data_monitor' is not defined",
     "output_type": "error",
     "traceback": [
      "\u001b[0;31m---------------------------------------------------------------------------\u001b[0m",
      "\u001b[0;31mNameError\u001b[0m                                 Traceback (most recent call last)",
      "\u001b[0;32m<ipython-input-24-5d4933527ef4>\u001b[0m in \u001b[0;36m<module>\u001b[0;34m\u001b[0m\n\u001b[0;32m----> 1\u001b[0;31m \u001b[0mdelete_monitoring_schedule\u001b[0m\u001b[0;34m(\u001b[0m\u001b[0mdata_monitor\u001b[0m\u001b[0;34m)\u001b[0m\u001b[0;34m\u001b[0m\u001b[0;34m\u001b[0m\u001b[0m\n\u001b[0m",
      "\u001b[0;31mNameError\u001b[0m: name 'data_monitor' is not defined"
     ]
    }
   ],
   "source": [
    "delete_monitoring_schedule(data_monitor)"
   ]
  },
  {
   "cell_type": "markdown",
   "id": "91729f95-4966-4741-aa74-2d90382710ea",
   "metadata": {},
   "source": [
    "Let's now stop the thread generating traffic."
   ]
  },
  {
   "cell_type": "code",
   "execution_count": 25,
   "id": "b9ec787f-4ee7-4620-ac2b-a77c977a2014",
   "metadata": {
    "tags": []
   },
   "outputs": [],
   "source": [
    "stop_traffic_thread.set()\n",
    "traffic_thread.join()"
   ]
  },
  {
   "cell_type": "markdown",
   "id": "1776d472-323f-4205-9e6d-076375323280",
   "metadata": {},
   "source": [
    "Finally, we can delete the endpoint."
   ]
  },
  {
   "cell_type": "code",
   "execution_count": 26,
   "id": "63614880-de4b-4cf9-bf1b-3f141d881559",
   "metadata": {
    "tags": []
   },
   "outputs": [],
   "source": [
    "predictor.delete_endpoint()"
   ]
  },
  {
   "cell_type": "code",
   "execution_count": null,
   "id": "119eb67b-cd5e-458e-845a-6a07e512cf67",
   "metadata": {},
   "outputs": [],
   "source": []
  }
 ],
 "metadata": {
  "availableInstances": [
   {
    "_defaultOrder": 0,
    "_isFastLaunch": true,
    "category": "General purpose",
    "gpuNum": 0,
    "hideHardwareSpecs": false,
    "memoryGiB": 4,
    "name": "ml.t3.medium",
    "vcpuNum": 2
   },
   {
    "_defaultOrder": 1,
    "_isFastLaunch": false,
    "category": "General purpose",
    "gpuNum": 0,
    "hideHardwareSpecs": false,
    "memoryGiB": 8,
    "name": "ml.t3.large",
    "vcpuNum": 2
   },
   {
    "_defaultOrder": 2,
    "_isFastLaunch": false,
    "category": "General purpose",
    "gpuNum": 0,
    "hideHardwareSpecs": false,
    "memoryGiB": 16,
    "name": "ml.t3.xlarge",
    "vcpuNum": 4
   },
   {
    "_defaultOrder": 3,
    "_isFastLaunch": false,
    "category": "General purpose",
    "gpuNum": 0,
    "hideHardwareSpecs": false,
    "memoryGiB": 32,
    "name": "ml.t3.2xlarge",
    "vcpuNum": 8
   },
   {
    "_defaultOrder": 4,
    "_isFastLaunch": true,
    "category": "General purpose",
    "gpuNum": 0,
    "hideHardwareSpecs": false,
    "memoryGiB": 8,
    "name": "ml.m5.large",
    "vcpuNum": 2
   },
   {
    "_defaultOrder": 5,
    "_isFastLaunch": false,
    "category": "General purpose",
    "gpuNum": 0,
    "hideHardwareSpecs": false,
    "memoryGiB": 16,
    "name": "ml.m5.xlarge",
    "vcpuNum": 4
   },
   {
    "_defaultOrder": 6,
    "_isFastLaunch": false,
    "category": "General purpose",
    "gpuNum": 0,
    "hideHardwareSpecs": false,
    "memoryGiB": 32,
    "name": "ml.m5.2xlarge",
    "vcpuNum": 8
   },
   {
    "_defaultOrder": 7,
    "_isFastLaunch": false,
    "category": "General purpose",
    "gpuNum": 0,
    "hideHardwareSpecs": false,
    "memoryGiB": 64,
    "name": "ml.m5.4xlarge",
    "vcpuNum": 16
   },
   {
    "_defaultOrder": 8,
    "_isFastLaunch": false,
    "category": "General purpose",
    "gpuNum": 0,
    "hideHardwareSpecs": false,
    "memoryGiB": 128,
    "name": "ml.m5.8xlarge",
    "vcpuNum": 32
   },
   {
    "_defaultOrder": 9,
    "_isFastLaunch": false,
    "category": "General purpose",
    "gpuNum": 0,
    "hideHardwareSpecs": false,
    "memoryGiB": 192,
    "name": "ml.m5.12xlarge",
    "vcpuNum": 48
   },
   {
    "_defaultOrder": 10,
    "_isFastLaunch": false,
    "category": "General purpose",
    "gpuNum": 0,
    "hideHardwareSpecs": false,
    "memoryGiB": 256,
    "name": "ml.m5.16xlarge",
    "vcpuNum": 64
   },
   {
    "_defaultOrder": 11,
    "_isFastLaunch": false,
    "category": "General purpose",
    "gpuNum": 0,
    "hideHardwareSpecs": false,
    "memoryGiB": 384,
    "name": "ml.m5.24xlarge",
    "vcpuNum": 96
   },
   {
    "_defaultOrder": 12,
    "_isFastLaunch": false,
    "category": "General purpose",
    "gpuNum": 0,
    "hideHardwareSpecs": false,
    "memoryGiB": 8,
    "name": "ml.m5d.large",
    "vcpuNum": 2
   },
   {
    "_defaultOrder": 13,
    "_isFastLaunch": false,
    "category": "General purpose",
    "gpuNum": 0,
    "hideHardwareSpecs": false,
    "memoryGiB": 16,
    "name": "ml.m5d.xlarge",
    "vcpuNum": 4
   },
   {
    "_defaultOrder": 14,
    "_isFastLaunch": false,
    "category": "General purpose",
    "gpuNum": 0,
    "hideHardwareSpecs": false,
    "memoryGiB": 32,
    "name": "ml.m5d.2xlarge",
    "vcpuNum": 8
   },
   {
    "_defaultOrder": 15,
    "_isFastLaunch": false,
    "category": "General purpose",
    "gpuNum": 0,
    "hideHardwareSpecs": false,
    "memoryGiB": 64,
    "name": "ml.m5d.4xlarge",
    "vcpuNum": 16
   },
   {
    "_defaultOrder": 16,
    "_isFastLaunch": false,
    "category": "General purpose",
    "gpuNum": 0,
    "hideHardwareSpecs": false,
    "memoryGiB": 128,
    "name": "ml.m5d.8xlarge",
    "vcpuNum": 32
   },
   {
    "_defaultOrder": 17,
    "_isFastLaunch": false,
    "category": "General purpose",
    "gpuNum": 0,
    "hideHardwareSpecs": false,
    "memoryGiB": 192,
    "name": "ml.m5d.12xlarge",
    "vcpuNum": 48
   },
   {
    "_defaultOrder": 18,
    "_isFastLaunch": false,
    "category": "General purpose",
    "gpuNum": 0,
    "hideHardwareSpecs": false,
    "memoryGiB": 256,
    "name": "ml.m5d.16xlarge",
    "vcpuNum": 64
   },
   {
    "_defaultOrder": 19,
    "_isFastLaunch": false,
    "category": "General purpose",
    "gpuNum": 0,
    "hideHardwareSpecs": false,
    "memoryGiB": 384,
    "name": "ml.m5d.24xlarge",
    "vcpuNum": 96
   },
   {
    "_defaultOrder": 20,
    "_isFastLaunch": false,
    "category": "General purpose",
    "gpuNum": 0,
    "hideHardwareSpecs": true,
    "memoryGiB": 0,
    "name": "ml.geospatial.interactive",
    "supportedImageNames": [
     "sagemaker-geospatial-v1-0"
    ],
    "vcpuNum": 0
   },
   {
    "_defaultOrder": 21,
    "_isFastLaunch": true,
    "category": "Compute optimized",
    "gpuNum": 0,
    "hideHardwareSpecs": false,
    "memoryGiB": 4,
    "name": "ml.c5.large",
    "vcpuNum": 2
   },
   {
    "_defaultOrder": 22,
    "_isFastLaunch": false,
    "category": "Compute optimized",
    "gpuNum": 0,
    "hideHardwareSpecs": false,
    "memoryGiB": 8,
    "name": "ml.c5.xlarge",
    "vcpuNum": 4
   },
   {
    "_defaultOrder": 23,
    "_isFastLaunch": false,
    "category": "Compute optimized",
    "gpuNum": 0,
    "hideHardwareSpecs": false,
    "memoryGiB": 16,
    "name": "ml.c5.2xlarge",
    "vcpuNum": 8
   },
   {
    "_defaultOrder": 24,
    "_isFastLaunch": false,
    "category": "Compute optimized",
    "gpuNum": 0,
    "hideHardwareSpecs": false,
    "memoryGiB": 32,
    "name": "ml.c5.4xlarge",
    "vcpuNum": 16
   },
   {
    "_defaultOrder": 25,
    "_isFastLaunch": false,
    "category": "Compute optimized",
    "gpuNum": 0,
    "hideHardwareSpecs": false,
    "memoryGiB": 72,
    "name": "ml.c5.9xlarge",
    "vcpuNum": 36
   },
   {
    "_defaultOrder": 26,
    "_isFastLaunch": false,
    "category": "Compute optimized",
    "gpuNum": 0,
    "hideHardwareSpecs": false,
    "memoryGiB": 96,
    "name": "ml.c5.12xlarge",
    "vcpuNum": 48
   },
   {
    "_defaultOrder": 27,
    "_isFastLaunch": false,
    "category": "Compute optimized",
    "gpuNum": 0,
    "hideHardwareSpecs": false,
    "memoryGiB": 144,
    "name": "ml.c5.18xlarge",
    "vcpuNum": 72
   },
   {
    "_defaultOrder": 28,
    "_isFastLaunch": false,
    "category": "Compute optimized",
    "gpuNum": 0,
    "hideHardwareSpecs": false,
    "memoryGiB": 192,
    "name": "ml.c5.24xlarge",
    "vcpuNum": 96
   },
   {
    "_defaultOrder": 29,
    "_isFastLaunch": true,
    "category": "Accelerated computing",
    "gpuNum": 1,
    "hideHardwareSpecs": false,
    "memoryGiB": 16,
    "name": "ml.g4dn.xlarge",
    "vcpuNum": 4
   },
   {
    "_defaultOrder": 30,
    "_isFastLaunch": false,
    "category": "Accelerated computing",
    "gpuNum": 1,
    "hideHardwareSpecs": false,
    "memoryGiB": 32,
    "name": "ml.g4dn.2xlarge",
    "vcpuNum": 8
   },
   {
    "_defaultOrder": 31,
    "_isFastLaunch": false,
    "category": "Accelerated computing",
    "gpuNum": 1,
    "hideHardwareSpecs": false,
    "memoryGiB": 64,
    "name": "ml.g4dn.4xlarge",
    "vcpuNum": 16
   },
   {
    "_defaultOrder": 32,
    "_isFastLaunch": false,
    "category": "Accelerated computing",
    "gpuNum": 1,
    "hideHardwareSpecs": false,
    "memoryGiB": 128,
    "name": "ml.g4dn.8xlarge",
    "vcpuNum": 32
   },
   {
    "_defaultOrder": 33,
    "_isFastLaunch": false,
    "category": "Accelerated computing",
    "gpuNum": 4,
    "hideHardwareSpecs": false,
    "memoryGiB": 192,
    "name": "ml.g4dn.12xlarge",
    "vcpuNum": 48
   },
   {
    "_defaultOrder": 34,
    "_isFastLaunch": false,
    "category": "Accelerated computing",
    "gpuNum": 1,
    "hideHardwareSpecs": false,
    "memoryGiB": 256,
    "name": "ml.g4dn.16xlarge",
    "vcpuNum": 64
   },
   {
    "_defaultOrder": 35,
    "_isFastLaunch": false,
    "category": "Accelerated computing",
    "gpuNum": 1,
    "hideHardwareSpecs": false,
    "memoryGiB": 61,
    "name": "ml.p3.2xlarge",
    "vcpuNum": 8
   },
   {
    "_defaultOrder": 36,
    "_isFastLaunch": false,
    "category": "Accelerated computing",
    "gpuNum": 4,
    "hideHardwareSpecs": false,
    "memoryGiB": 244,
    "name": "ml.p3.8xlarge",
    "vcpuNum": 32
   },
   {
    "_defaultOrder": 37,
    "_isFastLaunch": false,
    "category": "Accelerated computing",
    "gpuNum": 8,
    "hideHardwareSpecs": false,
    "memoryGiB": 488,
    "name": "ml.p3.16xlarge",
    "vcpuNum": 64
   },
   {
    "_defaultOrder": 38,
    "_isFastLaunch": false,
    "category": "Accelerated computing",
    "gpuNum": 8,
    "hideHardwareSpecs": false,
    "memoryGiB": 768,
    "name": "ml.p3dn.24xlarge",
    "vcpuNum": 96
   },
   {
    "_defaultOrder": 39,
    "_isFastLaunch": false,
    "category": "Memory Optimized",
    "gpuNum": 0,
    "hideHardwareSpecs": false,
    "memoryGiB": 16,
    "name": "ml.r5.large",
    "vcpuNum": 2
   },
   {
    "_defaultOrder": 40,
    "_isFastLaunch": false,
    "category": "Memory Optimized",
    "gpuNum": 0,
    "hideHardwareSpecs": false,
    "memoryGiB": 32,
    "name": "ml.r5.xlarge",
    "vcpuNum": 4
   },
   {
    "_defaultOrder": 41,
    "_isFastLaunch": false,
    "category": "Memory Optimized",
    "gpuNum": 0,
    "hideHardwareSpecs": false,
    "memoryGiB": 64,
    "name": "ml.r5.2xlarge",
    "vcpuNum": 8
   },
   {
    "_defaultOrder": 42,
    "_isFastLaunch": false,
    "category": "Memory Optimized",
    "gpuNum": 0,
    "hideHardwareSpecs": false,
    "memoryGiB": 128,
    "name": "ml.r5.4xlarge",
    "vcpuNum": 16
   },
   {
    "_defaultOrder": 43,
    "_isFastLaunch": false,
    "category": "Memory Optimized",
    "gpuNum": 0,
    "hideHardwareSpecs": false,
    "memoryGiB": 256,
    "name": "ml.r5.8xlarge",
    "vcpuNum": 32
   },
   {
    "_defaultOrder": 44,
    "_isFastLaunch": false,
    "category": "Memory Optimized",
    "gpuNum": 0,
    "hideHardwareSpecs": false,
    "memoryGiB": 384,
    "name": "ml.r5.12xlarge",
    "vcpuNum": 48
   },
   {
    "_defaultOrder": 45,
    "_isFastLaunch": false,
    "category": "Memory Optimized",
    "gpuNum": 0,
    "hideHardwareSpecs": false,
    "memoryGiB": 512,
    "name": "ml.r5.16xlarge",
    "vcpuNum": 64
   },
   {
    "_defaultOrder": 46,
    "_isFastLaunch": false,
    "category": "Memory Optimized",
    "gpuNum": 0,
    "hideHardwareSpecs": false,
    "memoryGiB": 768,
    "name": "ml.r5.24xlarge",
    "vcpuNum": 96
   },
   {
    "_defaultOrder": 47,
    "_isFastLaunch": false,
    "category": "Accelerated computing",
    "gpuNum": 1,
    "hideHardwareSpecs": false,
    "memoryGiB": 16,
    "name": "ml.g5.xlarge",
    "vcpuNum": 4
   },
   {
    "_defaultOrder": 48,
    "_isFastLaunch": false,
    "category": "Accelerated computing",
    "gpuNum": 1,
    "hideHardwareSpecs": false,
    "memoryGiB": 32,
    "name": "ml.g5.2xlarge",
    "vcpuNum": 8
   },
   {
    "_defaultOrder": 49,
    "_isFastLaunch": false,
    "category": "Accelerated computing",
    "gpuNum": 1,
    "hideHardwareSpecs": false,
    "memoryGiB": 64,
    "name": "ml.g5.4xlarge",
    "vcpuNum": 16
   },
   {
    "_defaultOrder": 50,
    "_isFastLaunch": false,
    "category": "Accelerated computing",
    "gpuNum": 1,
    "hideHardwareSpecs": false,
    "memoryGiB": 128,
    "name": "ml.g5.8xlarge",
    "vcpuNum": 32
   },
   {
    "_defaultOrder": 51,
    "_isFastLaunch": false,
    "category": "Accelerated computing",
    "gpuNum": 1,
    "hideHardwareSpecs": false,
    "memoryGiB": 256,
    "name": "ml.g5.16xlarge",
    "vcpuNum": 64
   },
   {
    "_defaultOrder": 52,
    "_isFastLaunch": false,
    "category": "Accelerated computing",
    "gpuNum": 4,
    "hideHardwareSpecs": false,
    "memoryGiB": 192,
    "name": "ml.g5.12xlarge",
    "vcpuNum": 48
   },
   {
    "_defaultOrder": 53,
    "_isFastLaunch": false,
    "category": "Accelerated computing",
    "gpuNum": 4,
    "hideHardwareSpecs": false,
    "memoryGiB": 384,
    "name": "ml.g5.24xlarge",
    "vcpuNum": 96
   },
   {
    "_defaultOrder": 54,
    "_isFastLaunch": false,
    "category": "Accelerated computing",
    "gpuNum": 8,
    "hideHardwareSpecs": false,
    "memoryGiB": 768,
    "name": "ml.g5.48xlarge",
    "vcpuNum": 192
   },
   {
    "_defaultOrder": 55,
    "_isFastLaunch": false,
    "category": "Accelerated computing",
    "gpuNum": 8,
    "hideHardwareSpecs": false,
    "memoryGiB": 1152,
    "name": "ml.p4d.24xlarge",
    "vcpuNum": 96
   },
   {
    "_defaultOrder": 56,
    "_isFastLaunch": false,
    "category": "Accelerated computing",
    "gpuNum": 8,
    "hideHardwareSpecs": false,
    "memoryGiB": 1152,
    "name": "ml.p4de.24xlarge",
    "vcpuNum": 96
   }
  ],
  "kernelspec": {
   "display_name": "Python 3 (TensorFlow 2.6 Python 3.8 CPU Optimized)",
   "language": "python",
   "name": "python3__SAGEMAKER_INTERNAL__arn:aws:sagemaker:us-east-1:081325390199:image/tensorflow-2.6-cpu-py38-ubuntu20.04-v1"
  },
  "language_info": {
   "codemirror_mode": {
    "name": "ipython",
    "version": 3
   },
   "file_extension": ".py",
   "mimetype": "text/x-python",
   "name": "python",
   "nbconvert_exporter": "python",
   "pygments_lexer": "ipython3",
   "version": "3.8.2"
  },
  "lcc_arn": "arn:aws:sagemaker:us-east-1:325223348818:studio-lifecycle-config/packages",
  "toc-autonumbering": false,
  "toc-showcode": false,
  "toc-showmarkdowntxt": false
 },
 "nbformat": 4,
 "nbformat_minor": 5
}
