{
 "cells": [
  {
   "cell_type": "code",
   "execution_count": 1,
   "metadata": {},
   "outputs": [],
   "source": [
    "%load_ext autoreload\n",
    "%autoreload 2\n",
    "%load_ext dotenv\n",
    "%dotenv"
   ]
  },
  {
   "cell_type": "code",
   "execution_count": 2,
   "metadata": {},
   "outputs": [],
   "source": [
    "import mlflow"
   ]
  },
  {
   "cell_type": "markdown",
   "metadata": {},
   "source": [
    "### Load latest registered model\n"
   ]
  },
  {
   "cell_type": "code",
   "execution_count": 3,
   "metadata": {},
   "outputs": [
    {
     "name": "stdout",
     "output_type": "stream",
     "text": [
      "Model version: 111\n"
     ]
    }
   ],
   "source": [
    "from mlflow import MlflowClient\n",
    "\n",
    "client = MlflowClient()\n",
    "latest_model_version = client.search_model_versions(\n",
    "    \"name='penguins'\",\n",
    "    max_results=1,\n",
    "    order_by=[\"last_updated_timestamp DESC\"],\n",
    ")[0]\n",
    "print(f\"Model version: {latest_model_version.version}\")"
   ]
  },
  {
   "cell_type": "code",
   "execution_count": 4,
   "metadata": {},
   "outputs": [],
   "source": [
    "payload1 = {\n",
    "    \"island\": \"Biscoe\",\n",
    "    \"culmen_length_mm\": 48.6,\n",
    "    \"culmen_depth_mm\": 16.0,\n",
    "    \"flipper_length_mm\": 230.0,\n",
    "    \"body_mass_g\": 5800.0,\n",
    "    \"sex\": \"MALE\",\n",
    "}\n",
    "\n",
    "payload2 = [\n",
    "    {\n",
    "        \"island\": \"Biscoe\",\n",
    "        \"culmen_length_mm\": 48.6,\n",
    "        \"culmen_depth_mm\": 16.0,\n",
    "        \"flipper_length_mm\": 230.0,\n",
    "        \"body_mass_g\": 5800.0,\n",
    "        \"sex\": \"MALE\",\n",
    "    },\n",
    "    {\n",
    "        \"island\": \"Torgersen\",\n",
    "        \"culmen_length_mm\": 44.1,\n",
    "        \"culmen_depth_mm\": 18.0,\n",
    "        \"flipper_length_mm\": 210.0,\n",
    "        \"body_mass_g\": 4000,\n",
    "    },\n",
    "    {\n",
    "        \"island\": \"Torgersen\",\n",
    "        \"culmen_length_mm\": 39.1,\n",
    "        \"culmen_depth_mm\": 18.7,\n",
    "        \"flipper_length_mm\": 181.0,\n",
    "        \"body_mass_g\": 3750,\n",
    "    },\n",
    "]"
   ]
  },
  {
   "cell_type": "code",
   "execution_count": 5,
   "metadata": {},
   "outputs": [
    {
     "name": "stderr",
     "output_type": "stream",
     "text": [
      "2024/09/02 14:47:40 WARNING mlflow.pyfunc: The version of CloudPickle that was used to save the model, `CloudPickle 3.0.0`, differs from the version of CloudPickle that is currently running, `CloudPickle 2.2.1`, and may be incompatible\n"
     ]
    },
    {
     "name": "stdout",
     "output_type": "stream",
     "text": [
      "TBD MODEL INPUT       island  culmen_length_mm  culmen_depth_mm  flipper_length_mm  \\\n",
      "0     Biscoe              48.6             16.0              230.0   \n",
      "1  Torgersen              44.1             18.0              210.0   \n",
      "2  Torgersen              39.1             18.7              181.0   \n",
      "\n",
      "   body_mass_g   sex  \n",
      "0       5800.0  MALE  \n",
      "1       4000.0   NaN  \n",
      "2       3750.0   NaN  \n",
      "TBD Making a prediction\n",
      "\u001b[1m1/1\u001b[0m \u001b[32m━━━━━━━━━━━━━━━━━━━━\u001b[0m\u001b[37m\u001b[0m \u001b[1m0s\u001b[0m 25ms/step\n",
      "TBD Model output [{'prediction': 'Gentoo', 'confidence': 0.9959872364997864}, {'prediction': 'Adelie', 'confidence': 0.5151113271713257}, {'prediction': 'Adelie', 'confidence': 0.7011913657188416}]\n",
      "[{'prediction': 'Gentoo', 'confidence': 0.9959872364997864}, {'prediction': 'Adelie', 'confidence': 0.5151113271713257}, {'prediction': 'Adelie', 'confidence': 0.7011913657188416}]\n"
     ]
    }
   ],
   "source": [
    "model = mlflow.pyfunc.load_model(latest_model_version.source)\n",
    "\n",
    "prediction = model.predict(payload2)\n",
    "print(prediction)"
   ]
  },
  {
   "cell_type": "markdown",
   "metadata": {},
   "source": [
    "### Deploying the model locally\n",
    "\n",
    "```\n",
    "$ mlflow models serve -m models:/penguins/42 -p 9876 --no-conda\n",
    "```\n"
   ]
  },
  {
   "cell_type": "code",
   "execution_count": 1,
   "metadata": {},
   "outputs": [
    {
     "name": "stdout",
     "output_type": "stream",
     "text": [
      "{'predictions': [{'prediction': 'Gentoo', 'confidence': 0.9937078952789307}, {'prediction': 'Chinstrap', 'confidence': 0.44345566630363464}, {'prediction': 'Adelie', 'confidence': 0.9986134767532349}]}\n"
     ]
    }
   ],
   "source": [
    "import json\n",
    "\n",
    "import requests\n",
    "\n",
    "payload3 = json.dumps(\n",
    "    {\n",
    "        \"inputs\": [\n",
    "            {\n",
    "                \"island\": \"Biscoe\",\n",
    "                \"culmen_length_mm\": 48.6,\n",
    "                \"culmen_depth_mm\": 16.0,\n",
    "                \"flipper_length_mm\": 230.0,\n",
    "                \"body_mass_g\": 5800.0,\n",
    "                \"sex\": \"MALE\",\n",
    "            },\n",
    "            {\n",
    "                \"island\": \"Torgersen\",\n",
    "                \"culmen_length_mm\": 44.1,\n",
    "                \"culmen_depth_mm\": 18.0,\n",
    "                \"flipper_length_mm\": 210.0,\n",
    "                \"body_mass_g\": 4000,\n",
    "                \"sex\": \"FEMALE\",\n",
    "            },\n",
    "            {\n",
    "                \"island\": \"Torgersen\",\n",
    "                \"culmen_length_mm\": 39.1,\n",
    "                \"culmen_depth_mm\": 18.7,\n",
    "                \"flipper_length_mm\": 181.0,\n",
    "                \"body_mass_g\": 3750,\n",
    "                \"sex\": \"MALE\",\n",
    "            },\n",
    "        ],\n",
    "    },\n",
    ")\n",
    "\n",
    "response = requests.post(\n",
    "    url=\"http://54.165.213.187:8080/invocations\",\n",
    "    headers={\"Content-Type\": \"application/json\"},\n",
    "    data=payload3,\n",
    ")\n",
    "print(response.json())"
   ]
  },
  {
   "cell_type": "code",
   "execution_count": null,
   "metadata": {},
   "outputs": [],
   "source": [
    "payload4 = json.dumps(\n",
    "    {\n",
    "        \"inputs\": [\n",
    "            {\n",
    "                \"island\": \"Torgersen2\",\n",
    "                \"culmen_length_mm\": 39.1,\n",
    "                \"culmen_depth_mm\": 18.7,\n",
    "                \"flipper_length_mm\": 181.0,\n",
    "                \"body_mass_g\": 3750,\n",
    "                \"sex\": \"MALE\",\n",
    "            },\n",
    "        ],\n",
    "    },\n",
    ")\n",
    "\n",
    "response = requests.post(\n",
    "    url=\"http://127.0.0.1:9874/invocations\",\n",
    "    headers={\"Content-Type\": \"application/json\"},\n",
    "    data=payload4,\n",
    ")\n",
    "print(response.json())"
   ]
  },
  {
   "cell_type": "code",
   "execution_count": 14,
   "metadata": {},
   "outputs": [
    {
     "name": "stdout",
     "output_type": "stream",
     "text": [
      "Handling request...\n",
      "Here is the config: {'DATABASE': 'penguins'}\n",
      "Here is the model input:       island  culmen_length_mm  culmen_depth_mm  flipper_length_mm  \\\n",
      "0  Torgersen               NaN              NaN                NaN   \n",
      "\n",
      "   body_mass_g   sex  \n",
      "0          NaN  None  \n",
      "Transforming payload...\n",
      "Making a prediction using the transformed payload...\n",
      "\u001b[1m1/1\u001b[0m \u001b[32m━━━━━━━━━━━━━━━━━━━━\u001b[0m\u001b[37m\u001b[0m \u001b[1m0s\u001b[0m 856us/step\n",
      "Processing prediction received from the model...\n",
      "Data saved successfully!\n",
      "[{'prediction': 'Adelie', 'confidence': 0.6168336}]\n"
     ]
    }
   ],
   "source": [
    "import json\n",
    "\n",
    "payload4 = [\n",
    "    {\n",
    "        \"island\": \"Torgersen\",\n",
    "        \"culmen_length_mm\": None,\n",
    "        \"culmen_depth_mm\": None,\n",
    "        \"flipper_length_mm\": None,\n",
    "        \"body_mass_g\": None,\n",
    "        \"sex\": \"None\",\n",
    "    },\n",
    "]\n",
    "\n",
    "prediction = model.predict(payload4)\n",
    "print(prediction)"
   ]
  },
  {
   "cell_type": "markdown",
   "metadata": {},
   "source": [
    "```\n",
    "mlflow models build-docker --name penguins --model-uri \"models:/penguins/87\"\n",
    "mlflow deployments run-local -t sagemaker -m models:/penguins/87 --name penguins -C port=9874\n",
    "```\n",
    "\n",
    "```\n",
    "mlflow sagemaker build-and-push-container\n",
    "mlflow deployments create -t sagemaker --name penguins -m models:/penguins/1 -C region_name=us-east-1 -C instance-type=ml.m4.xlarge -C instance-count=1\n",
    "```\n",
    "\n",
    "Deployment plugins to deploy to cloud providers\n",
    "https://mlflow.org/docs/latest/plugins.html#deployment-plugins"
   ]
  },
  {
   "cell_type": "code",
   "execution_count": 9,
   "metadata": {},
   "outputs": [],
   "source": [
    "import sagemaker\n",
    "from sagemaker.deserializers import JSONDeserializer\n",
    "from sagemaker.predictor import Predictor\n",
    "from sagemaker.serializers import JSONSerializer\n",
    "\n",
    "sagemaker_session = sagemaker.session.Session()\n",
    "\n",
    "ENDPOINT = \"penguins\"\n",
    "\n",
    "predictor = Predictor(\n",
    "    endpoint_name=ENDPOINT,\n",
    "    serializer=JSONSerializer(),\n",
    "    deserializer=JSONDeserializer(),\n",
    "    sagemaker_session=sagemaker_session,\n",
    ")"
   ]
  },
  {
   "cell_type": "code",
   "execution_count": 10,
   "metadata": {},
   "outputs": [
    {
     "name": "stdout",
     "output_type": "stream",
     "text": [
      "{'predictions': [{'prediction': 'Adelie', 'confidence': 0.9968430995941162}, {'prediction': 'Gentoo', 'confidence': 0.9937078952789307}]}\n"
     ]
    }
   ],
   "source": [
    "sample = {\n",
    "    \"inputs\": [\n",
    "        {\n",
    "            \"island\": \"Torgersen2\",\n",
    "            \"culmen_length_mm\": 39.1,\n",
    "            \"culmen_depth_mm\": 18.7,\n",
    "            \"flipper_length_mm\": 181.0,\n",
    "            \"body_mass_g\": 3750,\n",
    "            \"sex\": \"MALE\",\n",
    "        },\n",
    "        {\n",
    "            \"island\": \"Biscoe\",\n",
    "            \"culmen_length_mm\": 48.6,\n",
    "            \"culmen_depth_mm\": 16.0,\n",
    "            \"flipper_length_mm\": 230.0,\n",
    "            \"body_mass_g\": 5800.0,\n",
    "            \"sex\": \"MALE\",\n",
    "        },\n",
    "    ],\n",
    "}\n",
    "\n",
    "\n",
    "try:\n",
    "    response = predictor.predict(sample)\n",
    "    print(response)\n",
    "except Exception as e:\n",
    "    print(e)"
   ]
  },
  {
   "cell_type": "code",
   "execution_count": null,
   "metadata": {},
   "outputs": [],
   "source": []
  }
 ],
 "metadata": {
  "kernelspec": {
   "display_name": ".venv",
   "language": "python",
   "name": "python3"
  },
  "language_info": {
   "codemirror_mode": {
    "name": "ipython",
    "version": 3
   },
   "file_extension": ".py",
   "mimetype": "text/x-python",
   "name": "python",
   "nbconvert_exporter": "python",
   "pygments_lexer": "ipython3",
   "version": "3.10.11"
  }
 },
 "nbformat": 4,
 "nbformat_minor": 2
}
